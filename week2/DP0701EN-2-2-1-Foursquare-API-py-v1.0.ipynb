{
 "cells": [
  {
   "cell_type": "markdown",
   "metadata": {
    "button": false,
    "new_sheet": false,
    "run_control": {
     "read_only": false
    }
   },
   "source": [
    "<a href=\"https://cognitiveclass.ai\"><img src = \"https://ibm.box.com/shared/static/9gegpsmnsoo25ikkbl4qzlvlyjbgxs5x.png\" width = 400> </a>\n",
    "\n",
    "<h1 align=center><font size = 5>Learning FourSquare API with Python</font></h1>"
   ]
  },
  {
   "cell_type": "markdown",
   "metadata": {
    "button": false,
    "new_sheet": false,
    "run_control": {
     "read_only": false
    }
   },
   "source": [
    "   "
   ]
  },
  {
   "cell_type": "markdown",
   "metadata": {
    "button": false,
    "new_sheet": false,
    "run_control": {
     "read_only": false
    }
   },
   "source": [
    "## Introduction\n",
    "\n",
    "In this lab, you will learn in details how to make calls to the Foursquare API for different purposes. You will learn how to construct a URL to send a request to the API to search for a specific type of venues, to explore a particular venue, to explore a Foursquare user, to explore a geographical location, and to get trending venues around a location. Also, you will learn how to use the visualization library, Folium, to visualize the results."
   ]
  },
  {
   "cell_type": "markdown",
   "metadata": {
    "button": false,
    "new_sheet": false,
    "run_control": {
     "read_only": false
    }
   },
   "source": [
    "## Table of Contents\n",
    "\n",
    "1. <a href=\"#item1\">Foursquare API Search Function</a>\n",
    "2. <a href=\"#item2\">Explore a Given Venue</a>  \n",
    "3. <a href=\"#item3\">Explore a User</a>  \n",
    "4. <a href=\"#item4\">Foursquare API Explore Function</a>  \n",
    "5. <a href=\"#item5\">Get Trending Venues</a>  "
   ]
  },
  {
   "cell_type": "markdown",
   "metadata": {
    "button": false,
    "new_sheet": false,
    "run_control": {
     "read_only": false
    }
   },
   "source": [
    "### Import necessary Libraries"
   ]
  },
  {
   "cell_type": "code",
   "execution_count": 1,
   "metadata": {
    "button": false,
    "new_sheet": false,
    "run_control": {
     "read_only": false
    }
   },
   "outputs": [
    {
     "name": "stdout",
     "output_type": "stream",
     "text": [
      "Collecting package metadata (repodata.json): done\n",
      "Solving environment: done\n",
      "\n",
      "## Package Plan ##\n",
      "\n",
      "  environment location: /home/apu/anaconda3\n",
      "\n",
      "  added / updated specs:\n",
      "    - geopy\n",
      "\n",
      "\n",
      "The following packages will be downloaded:\n",
      "\n",
      "    package                    |            build\n",
      "    ---------------------------|-----------------\n",
      "    geographiclib-1.50         |             py_0          34 KB  conda-forge\n",
      "    geopy-1.21.0               |             py_0          58 KB  conda-forge\n",
      "    ------------------------------------------------------------\n",
      "                                           Total:          92 KB\n",
      "\n",
      "The following NEW packages will be INSTALLED:\n",
      "\n",
      "  geographiclib      conda-forge/noarch::geographiclib-1.50-py_0\n",
      "  geopy              conda-forge/noarch::geopy-1.21.0-py_0\n",
      "\n",
      "\n",
      "\n",
      "Downloading and Extracting Packages\n",
      "geographiclib-1.50   | 34 KB     | ##################################### | 100% \n",
      "geopy-1.21.0         | 58 KB     | ##################################### | 100% \n",
      "Preparing transaction: done\n",
      "Verifying transaction: done\n",
      "Executing transaction: done\n",
      "Collecting package metadata (repodata.json): done\n",
      "Solving environment: done\n",
      "\n",
      "## Package Plan ##\n",
      "\n",
      "  environment location: /home/apu/anaconda3\n",
      "\n",
      "  added / updated specs:\n",
      "    - folium=0.5.0\n",
      "\n",
      "\n",
      "The following packages will be downloaded:\n",
      "\n",
      "    package                    |            build\n",
      "    ---------------------------|-----------------\n",
      "    altair-4.1.0               |             py_1         614 KB  conda-forge\n",
      "    branca-0.4.0               |             py_0          26 KB  conda-forge\n",
      "    folium-0.5.0               |             py_0          45 KB  conda-forge\n",
      "    pandas-1.0.3               |   py37h0da4684_0        11.1 MB  conda-forge\n",
      "    vincent-0.4.4              |             py_1          28 KB  conda-forge\n",
      "    ------------------------------------------------------------\n",
      "                                           Total:        11.8 MB\n",
      "\n",
      "The following NEW packages will be INSTALLED:\n",
      "\n",
      "  altair             conda-forge/noarch::altair-4.1.0-py_1\n",
      "  branca             conda-forge/noarch::branca-0.4.0-py_0\n",
      "  folium             conda-forge/noarch::folium-0.5.0-py_0\n",
      "  pandas             conda-forge/linux-64::pandas-1.0.3-py37h0da4684_0\n",
      "  vincent            conda-forge/noarch::vincent-0.4.4-py_1\n",
      "\n",
      "\n",
      "\n",
      "Downloading and Extracting Packages\n",
      "pandas-1.0.3         | 11.1 MB   | ##################################### | 100% \n",
      "branca-0.4.0         | 26 KB     | ##################################### | 100% \n",
      "vincent-0.4.4        | 28 KB     | ##################################### | 100% \n",
      "folium-0.5.0         | 45 KB     | ##################################### | 100% \n",
      "altair-4.1.0         | 614 KB    | ##################################### | 100% \n",
      "Preparing transaction: done\n",
      "Verifying transaction: done\n",
      "Executing transaction: done\n",
      "Folium installed\n",
      "Libraries imported.\n"
     ]
    }
   ],
   "source": [
    "import requests # library to handle requests\n",
    "import pandas as pd # library for data analsysis\n",
    "import numpy as np # library to handle data in a vectorized manner\n",
    "import random # library for random number generation\n",
    "\n",
    "!conda install -c conda-forge geopy --yes \n",
    "from geopy.geocoders import Nominatim # module to convert an address into latitude and longitude values\n",
    "\n",
    "# libraries for displaying images\n",
    "from IPython.display import Image \n",
    "from IPython.core.display import HTML \n",
    "    \n",
    "# tranforming json file into a pandas dataframe library\n",
    "from pandas.io.json import json_normalize\n",
    "\n",
    "!conda install -c conda-forge folium=0.5.0 --yes\n",
    "import folium # plotting library\n",
    "\n",
    "print('Folium installed')\n",
    "print('Libraries imported.')"
   ]
  },
  {
   "cell_type": "markdown",
   "metadata": {
    "button": false,
    "new_sheet": false,
    "run_control": {
     "read_only": false
    }
   },
   "source": [
    "### Define Foursquare Credentials and Version"
   ]
  },
  {
   "cell_type": "markdown",
   "metadata": {
    "button": false,
    "new_sheet": false,
    "run_control": {
     "read_only": false
    }
   },
   "source": [
    "##### Make sure that you have created a Foursquare developer account and have your credentials handy"
   ]
  },
  {
   "cell_type": "code",
   "execution_count": 50,
   "metadata": {
    "button": false,
    "new_sheet": false,
    "run_control": {
     "read_only": false
    }
   },
   "outputs": [
    {
     "name": "stdout",
     "output_type": "stream",
     "text": [
      "Your credentails:\n",
      "CLIENT_ID: X5OBM0WZCSVVJASBUED5CUOTIGF3D4UKUTXLQ3G44JTG3RLU\n",
      "CLIENT_SECRET:4OMKQ2OOFVOV1BC1ZMQAHN0QZAPUICT3SOUAI2TKDMF4ZEBB\n"
     ]
    }
   ],
   "source": [
    "CLIENT_ID = 'X5OBM0WZCSVVJASBUED5CUOTIGF3D4UKUTXLQ3G44JTG3RLU' # your Foursquare ID\n",
    "CLIENT_SECRET = '4OMKQ2OOFVOV1BC1ZMQAHN0QZAPUICT3SOUAI2TKDMF4ZEBB' # your Foursquare Secret\n",
    "VERSION = '20180604'\n",
    "LIMIT = 30\n",
    "print('Your credentails:')\n",
    "print('CLIENT_ID: ' + CLIENT_ID)\n",
    "print('CLIENT_SECRET:' + CLIENT_SECRET)"
   ]
  },
  {
   "cell_type": "markdown",
   "metadata": {
    "button": false,
    "new_sheet": false,
    "run_control": {
     "read_only": false
    }
   },
   "source": [
    "  "
   ]
  },
  {
   "cell_type": "markdown",
   "metadata": {
    "button": false,
    "new_sheet": false,
    "run_control": {
     "read_only": false
    }
   },
   "source": [
    "#### Let's again assume that you are staying at the Conrad hotel. So let's start by converting the Contrad Hotel's address to its latitude and longitude coordinates."
   ]
  },
  {
   "cell_type": "markdown",
   "metadata": {},
   "source": [
    "In order to define an instance of the geocoder, we need to define a user_agent. We will name our agent <em>foursquare_agent</em>, as shown below."
   ]
  },
  {
   "cell_type": "code",
   "execution_count": 3,
   "metadata": {
    "button": false,
    "new_sheet": false,
    "run_control": {
     "read_only": false
    }
   },
   "outputs": [
    {
     "name": "stdout",
     "output_type": "stream",
     "text": [
      "<geopy.geocoders.osm.Nominatim object at 0x7fc9841e7940>\n",
      "40.7149555 -74.0153365\n"
     ]
    }
   ],
   "source": [
    "address = '102 North End Ave, New York, NY'\n",
    "\n",
    "geolocator = Nominatim(user_agent=\"foursquare_agent\")\n",
    "print(geolocator)\n",
    "location = geolocator.geocode(address)\n",
    "latitude = location.latitude\n",
    "longitude = location.longitude\n",
    "print(latitude, longitude) \n"
   ]
  },
  {
   "cell_type": "markdown",
   "metadata": {
    "button": false,
    "new_sheet": false,
    "run_control": {
     "read_only": false
    }
   },
   "source": [
    "   "
   ]
  },
  {
   "cell_type": "markdown",
   "metadata": {
    "button": false,
    "new_sheet": false,
    "run_control": {
     "read_only": false
    }
   },
   "source": [
    "<a id=\"item1\"></a>"
   ]
  },
  {
   "cell_type": "markdown",
   "metadata": {
    "button": false,
    "new_sheet": false,
    "run_control": {
     "read_only": false
    }
   },
   "source": [
    "## 1. Search for a specific venue category\n",
    "> `https://api.foursquare.com/v2/venues/`**search**`?client_id=`**CLIENT_ID**`&client_secret=`**CLIENT_SECRET**`&ll=`**LATITUDE**`,`**LONGITUDE**`&v=`**VERSION**`&query=`**QUERY**`&radius=`**RADIUS**`&limit=`**LIMIT**"
   ]
  },
  {
   "cell_type": "markdown",
   "metadata": {
    "button": false,
    "new_sheet": false,
    "run_control": {
     "read_only": false
    }
   },
   "source": [
    "#### Now, let's assume that it is lunch time, and you are craving Italian food. So, let's define a query to search for Italian food that is within 500 metres from the Conrad Hotel. "
   ]
  },
  {
   "cell_type": "code",
   "execution_count": 4,
   "metadata": {
    "button": false,
    "new_sheet": false,
    "run_control": {
     "read_only": false
    },
    "scrolled": true
   },
   "outputs": [
    {
     "name": "stdout",
     "output_type": "stream",
     "text": [
      "Italian .... OK!\n"
     ]
    }
   ],
   "source": [
    "search_query = 'Italian'\n",
    "radius = 500\n",
    "print(search_query + ' .... OK!')"
   ]
  },
  {
   "cell_type": "markdown",
   "metadata": {
    "button": false,
    "new_sheet": false,
    "run_control": {
     "read_only": false
    }
   },
   "source": [
    "#### Define the corresponding URL"
   ]
  },
  {
   "cell_type": "code",
   "execution_count": 87,
   "metadata": {
    "button": false,
    "new_sheet": false,
    "run_control": {
     "read_only": false
    }
   },
   "outputs": [
    {
     "data": {
      "text/plain": [
       "'https://api.foursquare.com/v2/venues/search?client_id=X5OBM0WZCSVVJASBUED5CUOTIGF3D4UKUTXLQ3G44JTG3RLU&client_secret=4OMKQ2OOFVOV1BC1ZMQAHN0QZAPUICT3SOUAI2TKDMF4ZEBB&ll=40.715337,-74.008848&v=20180604&query=Italian&radius=500&limit=30'"
      ]
     },
     "execution_count": 87,
     "metadata": {},
     "output_type": "execute_result"
    }
   ],
   "source": [
    "url = 'https://api.foursquare.com/v2/venues/search?client_id={}&client_secret={}&ll={},{}&v={}&query={}&radius={}&limit={}'.format(CLIENT_ID, CLIENT_SECRET, latitude, longitude, VERSION, search_query, radius, LIMIT)\n",
    "url"
   ]
  },
  {
   "cell_type": "markdown",
   "metadata": {
    "button": false,
    "new_sheet": false,
    "run_control": {
     "read_only": false
    }
   },
   "source": [
    "#### Send the GET Request and examine the results"
   ]
  },
  {
   "cell_type": "code",
   "execution_count": 88,
   "metadata": {
    "button": false,
    "new_sheet": false,
    "run_control": {
     "read_only": false
    },
    "scrolled": true
   },
   "outputs": [
    {
     "data": {
      "text/plain": [
       "{'meta': {'code': 200, 'requestId': '5e98de78b9a389001b356fe6'},\n",
       " 'response': {'venues': [{'id': '3fd66200f964a520f4e41ee3',\n",
       "    'name': 'Ecco',\n",
       "    'location': {'address': '124 Chambers St',\n",
       "     'crossStreet': 'btwn Church St & W Broadway',\n",
       "     'lat': 40.71533713859952,\n",
       "     'lng': -74.00884766217825,\n",
       "     'labeledLatLngs': [{'label': 'display',\n",
       "       'lat': 40.71533713859952,\n",
       "       'lng': -74.00884766217825},\n",
       "      {'label': 'entrance', 'lat': 40.715202, 'lng': -74.008779}],\n",
       "     'distance': 0,\n",
       "     'postalCode': '10007',\n",
       "     'cc': 'US',\n",
       "     'city': 'New York',\n",
       "     'state': 'NY',\n",
       "     'country': 'United States',\n",
       "     'formattedAddress': ['124 Chambers St (btwn Church St & W Broadway)',\n",
       "      'New York, NY 10007',\n",
       "      'United States']},\n",
       "    'categories': [{'id': '4bf58dd8d48988d110941735',\n",
       "      'name': 'Italian Restaurant',\n",
       "      'pluralName': 'Italian Restaurants',\n",
       "      'shortName': 'Italian',\n",
       "      'icon': {'prefix': 'https://ss3.4sqi.net/img/categories_v2/food/italian_',\n",
       "       'suffix': '.png'},\n",
       "      'primary': True}],\n",
       "    'referralId': 'v-1587076850',\n",
       "    'hasPerk': False},\n",
       "   {'id': '4f3232e219836c91c7bfde94',\n",
       "    'name': 'Conca Cucina Italian Restaurant',\n",
       "    'location': {'address': '63 W Broadway',\n",
       "     'lat': 40.714484000000006,\n",
       "     'lng': -74.00980600000001,\n",
       "     'labeledLatLngs': [{'label': 'display',\n",
       "       'lat': 40.714484000000006,\n",
       "       'lng': -74.00980600000001}],\n",
       "     'distance': 124,\n",
       "     'postalCode': '10007',\n",
       "     'cc': 'US',\n",
       "     'city': 'New York',\n",
       "     'state': 'NY',\n",
       "     'country': 'United States',\n",
       "     'formattedAddress': ['63 W Broadway',\n",
       "      'New York, NY 10007',\n",
       "      'United States']},\n",
       "    'categories': [{'id': '4d4b7105d754a06374d81259',\n",
       "      'name': 'Food',\n",
       "      'pluralName': 'Food',\n",
       "      'shortName': 'Food',\n",
       "      'icon': {'prefix': 'https://ss3.4sqi.net/img/categories_v2/food/default_',\n",
       "       'suffix': '.png'},\n",
       "      'primary': True}],\n",
       "    'referralId': 'v-1587076850',\n",
       "    'hasPerk': False},\n",
       "   {'id': '528bf16711d2b7722da6b51c',\n",
       "    'name': 'Pisillo Italian Panini',\n",
       "    'location': {'address': '97 Nassau St',\n",
       "     'crossStreet': 'at Ann St',\n",
       "     'lat': 40.710530084460785,\n",
       "     'lng': -74.00752571804911,\n",
       "     'labeledLatLngs': [{'label': 'display',\n",
       "       'lat': 40.710530084460785,\n",
       "       'lng': -74.00752571804911}],\n",
       "     'distance': 546,\n",
       "     'postalCode': '10038',\n",
       "     'cc': 'US',\n",
       "     'city': 'New York',\n",
       "     'state': 'NY',\n",
       "     'country': 'United States',\n",
       "     'formattedAddress': ['97 Nassau St (at Ann St)',\n",
       "      'New York, NY 10038',\n",
       "      'United States']},\n",
       "    'categories': [{'id': '4bf58dd8d48988d1c5941735',\n",
       "      'name': 'Sandwich Place',\n",
       "      'pluralName': 'Sandwich Places',\n",
       "      'shortName': 'Sandwiches',\n",
       "      'icon': {'prefix': 'https://ss3.4sqi.net/img/categories_v2/food/deli_',\n",
       "       'suffix': '.png'},\n",
       "      'primary': True}],\n",
       "    'delivery': {'id': '286355',\n",
       "     'url': 'https://www.seamless.com/menu/pisillo-97-nassau-st-new-york/286355?affiliate=1131&utm_source=foursquare-affiliate-network&utm_medium=affiliate&utm_campaign=1131&utm_content=286355',\n",
       "     'provider': {'name': 'seamless',\n",
       "      'icon': {'prefix': 'https://fastly.4sqi.net/img/general/cap/',\n",
       "       'sizes': [40, 50],\n",
       "       'name': '/delivery_provider_seamless_20180129.png'}}},\n",
       "    'venuePage': {'id': '105457747'},\n",
       "    'referralId': 'v-1587076850',\n",
       "    'hasPerk': False},\n",
       "   {'id': '4fa862b3e4b0ebff2f749f06',\n",
       "    'name': \"Harry's Italian Pizza Bar\",\n",
       "    'location': {'address': '225 Murray St',\n",
       "     'lat': 40.71521779064671,\n",
       "     'lng': -74.01473940209351,\n",
       "     'labeledLatLngs': [{'label': 'display',\n",
       "       'lat': 40.71521779064671,\n",
       "       'lng': -74.01473940209351},\n",
       "      {'label': 'entrance', 'lat': 40.715361, 'lng': -74.014975}],\n",
       "     'distance': 497,\n",
       "     'postalCode': '10282',\n",
       "     'cc': 'US',\n",
       "     'city': 'New York',\n",
       "     'state': 'NY',\n",
       "     'country': 'United States',\n",
       "     'formattedAddress': ['225 Murray St',\n",
       "      'New York, NY 10282',\n",
       "      'United States']},\n",
       "    'categories': [{'id': '4bf58dd8d48988d1ca941735',\n",
       "      'name': 'Pizza Place',\n",
       "      'pluralName': 'Pizza Places',\n",
       "      'shortName': 'Pizza',\n",
       "      'icon': {'prefix': 'https://ss3.4sqi.net/img/categories_v2/food/pizza_',\n",
       "       'suffix': '.png'},\n",
       "      'primary': True}],\n",
       "    'delivery': {'id': '294544',\n",
       "     'url': 'https://www.seamless.com/menu/harrys-italian-pizza-bar-225-murray-st-new-york/294544?affiliate=1131&utm_source=foursquare-affiliate-network&utm_medium=affiliate&utm_campaign=1131&utm_content=294544',\n",
       "     'provider': {'name': 'seamless',\n",
       "      'icon': {'prefix': 'https://fastly.4sqi.net/img/general/cap/',\n",
       "       'sizes': [40, 50],\n",
       "       'name': '/delivery_provider_seamless_20180129.png'}}},\n",
       "    'referralId': 'v-1587076850',\n",
       "    'hasPerk': False},\n",
       "   {'id': '4e4c4d28bd413c4cc66857a5',\n",
       "    'name': \"Caruso's Italian Restaurant\",\n",
       "    'location': {'address': '42 Broadway',\n",
       "     'lat': 40.710509099999996,\n",
       "     'lng': -74.00827615,\n",
       "     'labeledLatLngs': [{'label': 'display',\n",
       "       'lat': 40.710509099999996,\n",
       "       'lng': -74.00827615}],\n",
       "     'distance': 539,\n",
       "     'postalCode': '10004',\n",
       "     'cc': 'US',\n",
       "     'city': 'New York',\n",
       "     'state': 'NY',\n",
       "     'country': 'United States',\n",
       "     'formattedAddress': ['42 Broadway',\n",
       "      'New York, NY 10004',\n",
       "      'United States']},\n",
       "    'categories': [{'id': '4bf58dd8d48988d110941735',\n",
       "      'name': 'Italian Restaurant',\n",
       "      'pluralName': 'Italian Restaurants',\n",
       "      'shortName': 'Italian',\n",
       "      'icon': {'prefix': 'https://ss3.4sqi.net/img/categories_v2/food/italian_',\n",
       "       'suffix': '.png'},\n",
       "      'primary': True}],\n",
       "    'referralId': 'v-1587076850',\n",
       "    'hasPerk': False},\n",
       "   {'id': '588a4316326c5a4b60559f17',\n",
       "    'name': 'Pisillo Italian Cafe',\n",
       "    'location': {'lat': 40.71049280792626,\n",
       "     'lng': -74.00754611675153,\n",
       "     'labeledLatLngs': [{'label': 'display',\n",
       "       'lat': 40.71049280792626,\n",
       "       'lng': -74.00754611675153}],\n",
       "     'distance': 550,\n",
       "     'cc': 'US',\n",
       "     'city': 'New York',\n",
       "     'state': 'NY',\n",
       "     'country': 'United States',\n",
       "     'formattedAddress': ['New York, NY', 'United States']},\n",
       "    'categories': [{'id': '4bf58dd8d48988d16d941735',\n",
       "      'name': 'Café',\n",
       "      'pluralName': 'Cafés',\n",
       "      'shortName': 'Café',\n",
       "      'icon': {'prefix': 'https://ss3.4sqi.net/img/categories_v2/food/cafe_',\n",
       "       'suffix': '.png'},\n",
       "      'primary': True}],\n",
       "    'referralId': 'v-1587076850',\n",
       "    'hasPerk': False},\n",
       "   {'id': '4c5de89e6ebe2d7f7955d42e',\n",
       "    'name': \"Gloria's Restaurant\",\n",
       "    'location': {'address': '107 W Broadway',\n",
       "     'crossStreet': 'Reade St',\n",
       "     'lat': 40.710412,\n",
       "     'lng': -74.007998,\n",
       "     'labeledLatLngs': [{'label': 'display',\n",
       "       'lat': 40.710412,\n",
       "       'lng': -74.007998}],\n",
       "     'distance': 552,\n",
       "     'postalCode': '10013',\n",
       "     'cc': 'US',\n",
       "     'city': 'New York',\n",
       "     'state': 'NY',\n",
       "     'country': 'United States',\n",
       "     'formattedAddress': ['107 W Broadway (Reade St)',\n",
       "      'New York, NY 10013',\n",
       "      'United States']},\n",
       "    'categories': [{'id': '4bf58dd8d48988d110941735',\n",
       "      'name': 'Italian Restaurant',\n",
       "      'pluralName': 'Italian Restaurants',\n",
       "      'shortName': 'Italian',\n",
       "      'icon': {'prefix': 'https://ss3.4sqi.net/img/categories_v2/food/italian_',\n",
       "       'suffix': '.png'},\n",
       "      'primary': True}],\n",
       "    'referralId': 'v-1587076850',\n",
       "    'hasPerk': False}]}}"
      ]
     },
     "execution_count": 88,
     "metadata": {},
     "output_type": "execute_result"
    }
   ],
   "source": [
    "results = requests.get(url).json()\n",
    "results"
   ]
  },
  {
   "cell_type": "markdown",
   "metadata": {
    "button": false,
    "new_sheet": false,
    "run_control": {
     "read_only": false
    }
   },
   "source": [
    "#### Get relevant part of JSON and transform it into a *pandas* dataframe"
   ]
  },
  {
   "cell_type": "code",
   "execution_count": 89,
   "metadata": {
    "button": false,
    "new_sheet": false,
    "run_control": {
     "read_only": false
    }
   },
   "outputs": [
    {
     "name": "stderr",
     "output_type": "stream",
     "text": [
      "/home/apu/anaconda3/lib/python3.7/site-packages/ipykernel_launcher.py:5: FutureWarning: pandas.io.json.json_normalize is deprecated, use pandas.json_normalize instead\n",
      "  \"\"\"\n"
     ]
    },
    {
     "name": "stdout",
     "output_type": "stream",
     "text": [
      "(7, 24)\n"
     ]
    },
    {
     "data": {
      "text/html": [
       "<div>\n",
       "<style scoped>\n",
       "    .dataframe tbody tr th:only-of-type {\n",
       "        vertical-align: middle;\n",
       "    }\n",
       "\n",
       "    .dataframe tbody tr th {\n",
       "        vertical-align: top;\n",
       "    }\n",
       "\n",
       "    .dataframe thead th {\n",
       "        text-align: right;\n",
       "    }\n",
       "</style>\n",
       "<table border=\"1\" class=\"dataframe\">\n",
       "  <thead>\n",
       "    <tr style=\"text-align: right;\">\n",
       "      <th></th>\n",
       "      <th>id</th>\n",
       "      <th>name</th>\n",
       "      <th>categories</th>\n",
       "      <th>referralId</th>\n",
       "      <th>hasPerk</th>\n",
       "      <th>location.address</th>\n",
       "      <th>location.crossStreet</th>\n",
       "      <th>location.lat</th>\n",
       "      <th>location.lng</th>\n",
       "      <th>location.labeledLatLngs</th>\n",
       "      <th>...</th>\n",
       "      <th>location.state</th>\n",
       "      <th>location.country</th>\n",
       "      <th>location.formattedAddress</th>\n",
       "      <th>delivery.id</th>\n",
       "      <th>delivery.url</th>\n",
       "      <th>delivery.provider.name</th>\n",
       "      <th>delivery.provider.icon.prefix</th>\n",
       "      <th>delivery.provider.icon.sizes</th>\n",
       "      <th>delivery.provider.icon.name</th>\n",
       "      <th>venuePage.id</th>\n",
       "    </tr>\n",
       "  </thead>\n",
       "  <tbody>\n",
       "    <tr>\n",
       "      <th>0</th>\n",
       "      <td>3fd66200f964a520f4e41ee3</td>\n",
       "      <td>Ecco</td>\n",
       "      <td>[{'id': '4bf58dd8d48988d110941735', 'name': 'Italian Restaurant', 'pluralName': 'Italian Restaurants', 'shortName': 'Italian', 'icon': {'prefix': 'https://ss3.4sqi.net/img/categories_v2/food/italian_', 'suffix': '.png'}, 'primary': True}]</td>\n",
       "      <td>v-1587076850</td>\n",
       "      <td>False</td>\n",
       "      <td>124 Chambers St</td>\n",
       "      <td>btwn Church St &amp; W Broadway</td>\n",
       "      <td>40.715337</td>\n",
       "      <td>-74.008848</td>\n",
       "      <td>[{'label': 'display', 'lat': 40.71533713859952, 'lng': -74.00884766217825}, {'label': 'entrance', 'lat': 40.715202, 'lng': -74.008779}]</td>\n",
       "      <td>...</td>\n",
       "      <td>NY</td>\n",
       "      <td>United States</td>\n",
       "      <td>[124 Chambers St (btwn Church St &amp; W Broadway), New York, NY 10007, United States]</td>\n",
       "      <td>NaN</td>\n",
       "      <td>NaN</td>\n",
       "      <td>NaN</td>\n",
       "      <td>NaN</td>\n",
       "      <td>NaN</td>\n",
       "      <td>NaN</td>\n",
       "      <td>NaN</td>\n",
       "    </tr>\n",
       "    <tr>\n",
       "      <th>1</th>\n",
       "      <td>4f3232e219836c91c7bfde94</td>\n",
       "      <td>Conca Cucina Italian Restaurant</td>\n",
       "      <td>[{'id': '4d4b7105d754a06374d81259', 'name': 'Food', 'pluralName': 'Food', 'shortName': 'Food', 'icon': {'prefix': 'https://ss3.4sqi.net/img/categories_v2/food/default_', 'suffix': '.png'}, 'primary': True}]</td>\n",
       "      <td>v-1587076850</td>\n",
       "      <td>False</td>\n",
       "      <td>63 W Broadway</td>\n",
       "      <td>NaN</td>\n",
       "      <td>40.714484</td>\n",
       "      <td>-74.009806</td>\n",
       "      <td>[{'label': 'display', 'lat': 40.714484000000006, 'lng': -74.00980600000001}]</td>\n",
       "      <td>...</td>\n",
       "      <td>NY</td>\n",
       "      <td>United States</td>\n",
       "      <td>[63 W Broadway, New York, NY 10007, United States]</td>\n",
       "      <td>NaN</td>\n",
       "      <td>NaN</td>\n",
       "      <td>NaN</td>\n",
       "      <td>NaN</td>\n",
       "      <td>NaN</td>\n",
       "      <td>NaN</td>\n",
       "      <td>NaN</td>\n",
       "    </tr>\n",
       "    <tr>\n",
       "      <th>2</th>\n",
       "      <td>528bf16711d2b7722da6b51c</td>\n",
       "      <td>Pisillo Italian Panini</td>\n",
       "      <td>[{'id': '4bf58dd8d48988d1c5941735', 'name': 'Sandwich Place', 'pluralName': 'Sandwich Places', 'shortName': 'Sandwiches', 'icon': {'prefix': 'https://ss3.4sqi.net/img/categories_v2/food/deli_', 'suffix': '.png'}, 'primary': True}]</td>\n",
       "      <td>v-1587076850</td>\n",
       "      <td>False</td>\n",
       "      <td>97 Nassau St</td>\n",
       "      <td>at Ann St</td>\n",
       "      <td>40.710530</td>\n",
       "      <td>-74.007526</td>\n",
       "      <td>[{'label': 'display', 'lat': 40.710530084460785, 'lng': -74.00752571804911}]</td>\n",
       "      <td>...</td>\n",
       "      <td>NY</td>\n",
       "      <td>United States</td>\n",
       "      <td>[97 Nassau St (at Ann St), New York, NY 10038, United States]</td>\n",
       "      <td>286355</td>\n",
       "      <td>https://www.seamless.com/menu/pisillo-97-nassau-st-new-york/286355?affiliate=1131&amp;utm_source=foursquare-affiliate-network&amp;utm_medium=affiliate&amp;utm_campaign=1131&amp;utm_content=286355</td>\n",
       "      <td>seamless</td>\n",
       "      <td>https://fastly.4sqi.net/img/general/cap/</td>\n",
       "      <td>[40, 50]</td>\n",
       "      <td>/delivery_provider_seamless_20180129.png</td>\n",
       "      <td>105457747</td>\n",
       "    </tr>\n",
       "    <tr>\n",
       "      <th>3</th>\n",
       "      <td>4fa862b3e4b0ebff2f749f06</td>\n",
       "      <td>Harry's Italian Pizza Bar</td>\n",
       "      <td>[{'id': '4bf58dd8d48988d1ca941735', 'name': 'Pizza Place', 'pluralName': 'Pizza Places', 'shortName': 'Pizza', 'icon': {'prefix': 'https://ss3.4sqi.net/img/categories_v2/food/pizza_', 'suffix': '.png'}, 'primary': True}]</td>\n",
       "      <td>v-1587076850</td>\n",
       "      <td>False</td>\n",
       "      <td>225 Murray St</td>\n",
       "      <td>NaN</td>\n",
       "      <td>40.715218</td>\n",
       "      <td>-74.014739</td>\n",
       "      <td>[{'label': 'display', 'lat': 40.71521779064671, 'lng': -74.01473940209351}, {'label': 'entrance', 'lat': 40.715361, 'lng': -74.014975}]</td>\n",
       "      <td>...</td>\n",
       "      <td>NY</td>\n",
       "      <td>United States</td>\n",
       "      <td>[225 Murray St, New York, NY 10282, United States]</td>\n",
       "      <td>294544</td>\n",
       "      <td>https://www.seamless.com/menu/harrys-italian-pizza-bar-225-murray-st-new-york/294544?affiliate=1131&amp;utm_source=foursquare-affiliate-network&amp;utm_medium=affiliate&amp;utm_campaign=1131&amp;utm_content=294544</td>\n",
       "      <td>seamless</td>\n",
       "      <td>https://fastly.4sqi.net/img/general/cap/</td>\n",
       "      <td>[40, 50]</td>\n",
       "      <td>/delivery_provider_seamless_20180129.png</td>\n",
       "      <td>NaN</td>\n",
       "    </tr>\n",
       "    <tr>\n",
       "      <th>4</th>\n",
       "      <td>4e4c4d28bd413c4cc66857a5</td>\n",
       "      <td>Caruso's Italian Restaurant</td>\n",
       "      <td>[{'id': '4bf58dd8d48988d110941735', 'name': 'Italian Restaurant', 'pluralName': 'Italian Restaurants', 'shortName': 'Italian', 'icon': {'prefix': 'https://ss3.4sqi.net/img/categories_v2/food/italian_', 'suffix': '.png'}, 'primary': True}]</td>\n",
       "      <td>v-1587076850</td>\n",
       "      <td>False</td>\n",
       "      <td>42 Broadway</td>\n",
       "      <td>NaN</td>\n",
       "      <td>40.710509</td>\n",
       "      <td>-74.008276</td>\n",
       "      <td>[{'label': 'display', 'lat': 40.710509099999996, 'lng': -74.00827615}]</td>\n",
       "      <td>...</td>\n",
       "      <td>NY</td>\n",
       "      <td>United States</td>\n",
       "      <td>[42 Broadway, New York, NY 10004, United States]</td>\n",
       "      <td>NaN</td>\n",
       "      <td>NaN</td>\n",
       "      <td>NaN</td>\n",
       "      <td>NaN</td>\n",
       "      <td>NaN</td>\n",
       "      <td>NaN</td>\n",
       "      <td>NaN</td>\n",
       "    </tr>\n",
       "  </tbody>\n",
       "</table>\n",
       "<p>5 rows × 24 columns</p>\n",
       "</div>"
      ],
      "text/plain": [
       "                         id                             name  \\\n",
       "0  3fd66200f964a520f4e41ee3  Ecco                              \n",
       "1  4f3232e219836c91c7bfde94  Conca Cucina Italian Restaurant   \n",
       "2  528bf16711d2b7722da6b51c  Pisillo Italian Panini            \n",
       "3  4fa862b3e4b0ebff2f749f06  Harry's Italian Pizza Bar         \n",
       "4  4e4c4d28bd413c4cc66857a5  Caruso's Italian Restaurant       \n",
       "\n",
       "                                                                                                                                                                                                                                       categories  \\\n",
       "0  [{'id': '4bf58dd8d48988d110941735', 'name': 'Italian Restaurant', 'pluralName': 'Italian Restaurants', 'shortName': 'Italian', 'icon': {'prefix': 'https://ss3.4sqi.net/img/categories_v2/food/italian_', 'suffix': '.png'}, 'primary': True}]   \n",
       "1  [{'id': '4d4b7105d754a06374d81259', 'name': 'Food', 'pluralName': 'Food', 'shortName': 'Food', 'icon': {'prefix': 'https://ss3.4sqi.net/img/categories_v2/food/default_', 'suffix': '.png'}, 'primary': True}]                                   \n",
       "2  [{'id': '4bf58dd8d48988d1c5941735', 'name': 'Sandwich Place', 'pluralName': 'Sandwich Places', 'shortName': 'Sandwiches', 'icon': {'prefix': 'https://ss3.4sqi.net/img/categories_v2/food/deli_', 'suffix': '.png'}, 'primary': True}]           \n",
       "3  [{'id': '4bf58dd8d48988d1ca941735', 'name': 'Pizza Place', 'pluralName': 'Pizza Places', 'shortName': 'Pizza', 'icon': {'prefix': 'https://ss3.4sqi.net/img/categories_v2/food/pizza_', 'suffix': '.png'}, 'primary': True}]                     \n",
       "4  [{'id': '4bf58dd8d48988d110941735', 'name': 'Italian Restaurant', 'pluralName': 'Italian Restaurants', 'shortName': 'Italian', 'icon': {'prefix': 'https://ss3.4sqi.net/img/categories_v2/food/italian_', 'suffix': '.png'}, 'primary': True}]   \n",
       "\n",
       "     referralId  hasPerk location.address         location.crossStreet  \\\n",
       "0  v-1587076850  False    124 Chambers St  btwn Church St & W Broadway   \n",
       "1  v-1587076850  False    63 W Broadway    NaN                           \n",
       "2  v-1587076850  False    97 Nassau St     at Ann St                     \n",
       "3  v-1587076850  False    225 Murray St    NaN                           \n",
       "4  v-1587076850  False    42 Broadway      NaN                           \n",
       "\n",
       "   location.lat  location.lng  \\\n",
       "0  40.715337    -74.008848      \n",
       "1  40.714484    -74.009806      \n",
       "2  40.710530    -74.007526      \n",
       "3  40.715218    -74.014739      \n",
       "4  40.710509    -74.008276      \n",
       "\n",
       "                                                                                                                   location.labeledLatLngs  \\\n",
       "0  [{'label': 'display', 'lat': 40.71533713859952, 'lng': -74.00884766217825}, {'label': 'entrance', 'lat': 40.715202, 'lng': -74.008779}]   \n",
       "1  [{'label': 'display', 'lat': 40.714484000000006, 'lng': -74.00980600000001}]                                                              \n",
       "2  [{'label': 'display', 'lat': 40.710530084460785, 'lng': -74.00752571804911}]                                                              \n",
       "3  [{'label': 'display', 'lat': 40.71521779064671, 'lng': -74.01473940209351}, {'label': 'entrance', 'lat': 40.715361, 'lng': -74.014975}]   \n",
       "4  [{'label': 'display', 'lat': 40.710509099999996, 'lng': -74.00827615}]                                                                    \n",
       "\n",
       "   ...  location.state location.country  \\\n",
       "0  ...  NY              United States     \n",
       "1  ...  NY              United States     \n",
       "2  ...  NY              United States     \n",
       "3  ...  NY              United States     \n",
       "4  ...  NY              United States     \n",
       "\n",
       "                                                            location.formattedAddress  \\\n",
       "0  [124 Chambers St (btwn Church St & W Broadway), New York, NY 10007, United States]   \n",
       "1  [63 W Broadway, New York, NY 10007, United States]                                   \n",
       "2  [97 Nassau St (at Ann St), New York, NY 10038, United States]                        \n",
       "3  [225 Murray St, New York, NY 10282, United States]                                   \n",
       "4  [42 Broadway, New York, NY 10004, United States]                                     \n",
       "\n",
       "  delivery.id  \\\n",
       "0  NaN          \n",
       "1  NaN          \n",
       "2  286355       \n",
       "3  294544       \n",
       "4  NaN          \n",
       "\n",
       "                                                                                                                                                                                            delivery.url  \\\n",
       "0  NaN                                                                                                                                                                                                     \n",
       "1  NaN                                                                                                                                                                                                     \n",
       "2  https://www.seamless.com/menu/pisillo-97-nassau-st-new-york/286355?affiliate=1131&utm_source=foursquare-affiliate-network&utm_medium=affiliate&utm_campaign=1131&utm_content=286355                     \n",
       "3  https://www.seamless.com/menu/harrys-italian-pizza-bar-225-murray-st-new-york/294544?affiliate=1131&utm_source=foursquare-affiliate-network&utm_medium=affiliate&utm_campaign=1131&utm_content=294544   \n",
       "4  NaN                                                                                                                                                                                                     \n",
       "\n",
       "  delivery.provider.name             delivery.provider.icon.prefix  \\\n",
       "0  NaN                    NaN                                        \n",
       "1  NaN                    NaN                                        \n",
       "2  seamless               https://fastly.4sqi.net/img/general/cap/   \n",
       "3  seamless               https://fastly.4sqi.net/img/general/cap/   \n",
       "4  NaN                    NaN                                        \n",
       "\n",
       "  delivery.provider.icon.sizes               delivery.provider.icon.name  \\\n",
       "0  NaN                          NaN                                        \n",
       "1  NaN                          NaN                                        \n",
       "2  [40, 50]                     /delivery_provider_seamless_20180129.png   \n",
       "3  [40, 50]                     /delivery_provider_seamless_20180129.png   \n",
       "4  NaN                          NaN                                        \n",
       "\n",
       "  venuePage.id  \n",
       "0  NaN          \n",
       "1  NaN          \n",
       "2  105457747    \n",
       "3  NaN          \n",
       "4  NaN          \n",
       "\n",
       "[5 rows x 24 columns]"
      ]
     },
     "execution_count": 89,
     "metadata": {},
     "output_type": "execute_result"
    }
   ],
   "source": [
    "# assign relevant part of JSON to venues\n",
    "venues = results['response']['venues']\n",
    "\n",
    "# tranform venues into a dataframe\n",
    "dataframe = json_normalize(venues)\n",
    "print(dataframe.shape)\n",
    "dataframe.head()"
   ]
  },
  {
   "cell_type": "code",
   "execution_count": 16,
   "metadata": {},
   "outputs": [
    {
     "data": {
      "text/plain": [
       "[{'id': '4bf58dd8d48988d1ca941735',\n",
       "  'name': 'Pizza Place',\n",
       "  'pluralName': 'Pizza Places',\n",
       "  'shortName': 'Pizza',\n",
       "  'icon': {'prefix': 'https://ss3.4sqi.net/img/categories_v2/food/pizza_',\n",
       "   'suffix': '.png'},\n",
       "  'primary': True}]"
      ]
     },
     "execution_count": 16,
     "metadata": {},
     "output_type": "execute_result"
    }
   ],
   "source": [
    "dataframe['categories'][0]"
   ]
  },
  {
   "cell_type": "markdown",
   "metadata": {
    "button": false,
    "new_sheet": false,
    "run_control": {
     "read_only": false
    }
   },
   "source": [
    "#### Define information of interest and filter dataframe"
   ]
  },
  {
   "cell_type": "code",
   "execution_count": 90,
   "metadata": {
    "button": false,
    "new_sheet": false,
    "run_control": {
     "read_only": false
    },
    "scrolled": true
   },
   "outputs": [
    {
     "name": "stdout",
     "output_type": "stream",
     "text": [
      "['name', 'categories', 'location.address', 'location.crossStreet', 'location.lat', 'location.lng', 'location.labeledLatLngs', 'location.distance', 'location.postalCode', 'location.cc', 'location.city', 'location.state', 'location.country', 'location.formattedAddress', 'id']\n"
     ]
    },
    {
     "data": {
      "text/html": [
       "<div>\n",
       "<style scoped>\n",
       "    .dataframe tbody tr th:only-of-type {\n",
       "        vertical-align: middle;\n",
       "    }\n",
       "\n",
       "    .dataframe tbody tr th {\n",
       "        vertical-align: top;\n",
       "    }\n",
       "\n",
       "    .dataframe thead th {\n",
       "        text-align: right;\n",
       "    }\n",
       "</style>\n",
       "<table border=\"1\" class=\"dataframe\">\n",
       "  <thead>\n",
       "    <tr style=\"text-align: right;\">\n",
       "      <th></th>\n",
       "      <th>name</th>\n",
       "      <th>categories</th>\n",
       "      <th>address</th>\n",
       "      <th>crossStreet</th>\n",
       "      <th>lat</th>\n",
       "      <th>lng</th>\n",
       "      <th>labeledLatLngs</th>\n",
       "      <th>distance</th>\n",
       "      <th>postalCode</th>\n",
       "      <th>cc</th>\n",
       "      <th>city</th>\n",
       "      <th>state</th>\n",
       "      <th>country</th>\n",
       "      <th>formattedAddress</th>\n",
       "      <th>id</th>\n",
       "    </tr>\n",
       "  </thead>\n",
       "  <tbody>\n",
       "    <tr>\n",
       "      <th>0</th>\n",
       "      <td>Ecco</td>\n",
       "      <td>Italian Restaurant</td>\n",
       "      <td>124 Chambers St</td>\n",
       "      <td>btwn Church St &amp; W Broadway</td>\n",
       "      <td>40.715337</td>\n",
       "      <td>-74.008848</td>\n",
       "      <td>[{'label': 'display', 'lat': 40.71533713859952, 'lng': -74.00884766217825}, {'label': 'entrance', 'lat': 40.715202, 'lng': -74.008779}]</td>\n",
       "      <td>0</td>\n",
       "      <td>10007</td>\n",
       "      <td>US</td>\n",
       "      <td>New York</td>\n",
       "      <td>NY</td>\n",
       "      <td>United States</td>\n",
       "      <td>[124 Chambers St (btwn Church St &amp; W Broadway), New York, NY 10007, United States]</td>\n",
       "      <td>3fd66200f964a520f4e41ee3</td>\n",
       "    </tr>\n",
       "    <tr>\n",
       "      <th>1</th>\n",
       "      <td>Conca Cucina Italian Restaurant</td>\n",
       "      <td>Food</td>\n",
       "      <td>63 W Broadway</td>\n",
       "      <td>NaN</td>\n",
       "      <td>40.714484</td>\n",
       "      <td>-74.009806</td>\n",
       "      <td>[{'label': 'display', 'lat': 40.714484000000006, 'lng': -74.00980600000001}]</td>\n",
       "      <td>124</td>\n",
       "      <td>10007</td>\n",
       "      <td>US</td>\n",
       "      <td>New York</td>\n",
       "      <td>NY</td>\n",
       "      <td>United States</td>\n",
       "      <td>[63 W Broadway, New York, NY 10007, United States]</td>\n",
       "      <td>4f3232e219836c91c7bfde94</td>\n",
       "    </tr>\n",
       "    <tr>\n",
       "      <th>2</th>\n",
       "      <td>Pisillo Italian Panini</td>\n",
       "      <td>Sandwich Place</td>\n",
       "      <td>97 Nassau St</td>\n",
       "      <td>at Ann St</td>\n",
       "      <td>40.710530</td>\n",
       "      <td>-74.007526</td>\n",
       "      <td>[{'label': 'display', 'lat': 40.710530084460785, 'lng': -74.00752571804911}]</td>\n",
       "      <td>546</td>\n",
       "      <td>10038</td>\n",
       "      <td>US</td>\n",
       "      <td>New York</td>\n",
       "      <td>NY</td>\n",
       "      <td>United States</td>\n",
       "      <td>[97 Nassau St (at Ann St), New York, NY 10038, United States]</td>\n",
       "      <td>528bf16711d2b7722da6b51c</td>\n",
       "    </tr>\n",
       "    <tr>\n",
       "      <th>3</th>\n",
       "      <td>Harry's Italian Pizza Bar</td>\n",
       "      <td>Pizza Place</td>\n",
       "      <td>225 Murray St</td>\n",
       "      <td>NaN</td>\n",
       "      <td>40.715218</td>\n",
       "      <td>-74.014739</td>\n",
       "      <td>[{'label': 'display', 'lat': 40.71521779064671, 'lng': -74.01473940209351}, {'label': 'entrance', 'lat': 40.715361, 'lng': -74.014975}]</td>\n",
       "      <td>497</td>\n",
       "      <td>10282</td>\n",
       "      <td>US</td>\n",
       "      <td>New York</td>\n",
       "      <td>NY</td>\n",
       "      <td>United States</td>\n",
       "      <td>[225 Murray St, New York, NY 10282, United States]</td>\n",
       "      <td>4fa862b3e4b0ebff2f749f06</td>\n",
       "    </tr>\n",
       "    <tr>\n",
       "      <th>4</th>\n",
       "      <td>Caruso's Italian Restaurant</td>\n",
       "      <td>Italian Restaurant</td>\n",
       "      <td>42 Broadway</td>\n",
       "      <td>NaN</td>\n",
       "      <td>40.710509</td>\n",
       "      <td>-74.008276</td>\n",
       "      <td>[{'label': 'display', 'lat': 40.710509099999996, 'lng': -74.00827615}]</td>\n",
       "      <td>539</td>\n",
       "      <td>10004</td>\n",
       "      <td>US</td>\n",
       "      <td>New York</td>\n",
       "      <td>NY</td>\n",
       "      <td>United States</td>\n",
       "      <td>[42 Broadway, New York, NY 10004, United States]</td>\n",
       "      <td>4e4c4d28bd413c4cc66857a5</td>\n",
       "    </tr>\n",
       "    <tr>\n",
       "      <th>5</th>\n",
       "      <td>Pisillo Italian Cafe</td>\n",
       "      <td>Café</td>\n",
       "      <td>NaN</td>\n",
       "      <td>NaN</td>\n",
       "      <td>40.710493</td>\n",
       "      <td>-74.007546</td>\n",
       "      <td>[{'label': 'display', 'lat': 40.71049280792626, 'lng': -74.00754611675153}]</td>\n",
       "      <td>550</td>\n",
       "      <td>NaN</td>\n",
       "      <td>US</td>\n",
       "      <td>New York</td>\n",
       "      <td>NY</td>\n",
       "      <td>United States</td>\n",
       "      <td>[New York, NY, United States]</td>\n",
       "      <td>588a4316326c5a4b60559f17</td>\n",
       "    </tr>\n",
       "    <tr>\n",
       "      <th>6</th>\n",
       "      <td>Gloria's Restaurant</td>\n",
       "      <td>Italian Restaurant</td>\n",
       "      <td>107 W Broadway</td>\n",
       "      <td>Reade St</td>\n",
       "      <td>40.710412</td>\n",
       "      <td>-74.007998</td>\n",
       "      <td>[{'label': 'display', 'lat': 40.710412, 'lng': -74.007998}]</td>\n",
       "      <td>552</td>\n",
       "      <td>10013</td>\n",
       "      <td>US</td>\n",
       "      <td>New York</td>\n",
       "      <td>NY</td>\n",
       "      <td>United States</td>\n",
       "      <td>[107 W Broadway (Reade St), New York, NY 10013, United States]</td>\n",
       "      <td>4c5de89e6ebe2d7f7955d42e</td>\n",
       "    </tr>\n",
       "  </tbody>\n",
       "</table>\n",
       "</div>"
      ],
      "text/plain": [
       "                              name          categories          address  \\\n",
       "0  Ecco                             Italian Restaurant  124 Chambers St   \n",
       "1  Conca Cucina Italian Restaurant  Food                63 W Broadway     \n",
       "2  Pisillo Italian Panini           Sandwich Place      97 Nassau St      \n",
       "3  Harry's Italian Pizza Bar        Pizza Place         225 Murray St     \n",
       "4  Caruso's Italian Restaurant      Italian Restaurant  42 Broadway       \n",
       "5  Pisillo Italian Cafe             Café                NaN               \n",
       "6  Gloria's Restaurant              Italian Restaurant  107 W Broadway    \n",
       "\n",
       "                   crossStreet        lat        lng  \\\n",
       "0  btwn Church St & W Broadway  40.715337 -74.008848   \n",
       "1  NaN                          40.714484 -74.009806   \n",
       "2  at Ann St                    40.710530 -74.007526   \n",
       "3  NaN                          40.715218 -74.014739   \n",
       "4  NaN                          40.710509 -74.008276   \n",
       "5  NaN                          40.710493 -74.007546   \n",
       "6  Reade St                     40.710412 -74.007998   \n",
       "\n",
       "                                                                                                                            labeledLatLngs  \\\n",
       "0  [{'label': 'display', 'lat': 40.71533713859952, 'lng': -74.00884766217825}, {'label': 'entrance', 'lat': 40.715202, 'lng': -74.008779}]   \n",
       "1  [{'label': 'display', 'lat': 40.714484000000006, 'lng': -74.00980600000001}]                                                              \n",
       "2  [{'label': 'display', 'lat': 40.710530084460785, 'lng': -74.00752571804911}]                                                              \n",
       "3  [{'label': 'display', 'lat': 40.71521779064671, 'lng': -74.01473940209351}, {'label': 'entrance', 'lat': 40.715361, 'lng': -74.014975}]   \n",
       "4  [{'label': 'display', 'lat': 40.710509099999996, 'lng': -74.00827615}]                                                                    \n",
       "5  [{'label': 'display', 'lat': 40.71049280792626, 'lng': -74.00754611675153}]                                                               \n",
       "6  [{'label': 'display', 'lat': 40.710412, 'lng': -74.007998}]                                                                               \n",
       "\n",
       "   distance postalCode  cc      city state        country  \\\n",
       "0  0         10007      US  New York  NY    United States   \n",
       "1  124       10007      US  New York  NY    United States   \n",
       "2  546       10038      US  New York  NY    United States   \n",
       "3  497       10282      US  New York  NY    United States   \n",
       "4  539       10004      US  New York  NY    United States   \n",
       "5  550       NaN        US  New York  NY    United States   \n",
       "6  552       10013      US  New York  NY    United States   \n",
       "\n",
       "                                                                     formattedAddress  \\\n",
       "0  [124 Chambers St (btwn Church St & W Broadway), New York, NY 10007, United States]   \n",
       "1  [63 W Broadway, New York, NY 10007, United States]                                   \n",
       "2  [97 Nassau St (at Ann St), New York, NY 10038, United States]                        \n",
       "3  [225 Murray St, New York, NY 10282, United States]                                   \n",
       "4  [42 Broadway, New York, NY 10004, United States]                                     \n",
       "5  [New York, NY, United States]                                                        \n",
       "6  [107 W Broadway (Reade St), New York, NY 10013, United States]                       \n",
       "\n",
       "                         id  \n",
       "0  3fd66200f964a520f4e41ee3  \n",
       "1  4f3232e219836c91c7bfde94  \n",
       "2  528bf16711d2b7722da6b51c  \n",
       "3  4fa862b3e4b0ebff2f749f06  \n",
       "4  4e4c4d28bd413c4cc66857a5  \n",
       "5  588a4316326c5a4b60559f17  \n",
       "6  4c5de89e6ebe2d7f7955d42e  "
      ]
     },
     "execution_count": 90,
     "metadata": {},
     "output_type": "execute_result"
    }
   ],
   "source": [
    "# keep only columns that include venue name, and anything that is associated with location\n",
    "filtered_columns = ['name', 'categories'] + [col for col in dataframe.columns if col.startswith('location.')] + ['id']\n",
    "print(filtered_columns)\n",
    "dataframe_filtered = dataframe.loc[:, filtered_columns]\n",
    "\n",
    "# function that extracts the category of the venue\n",
    "#print(row)\n",
    "def get_category_type(row):\n",
    "    #print(row)\n",
    "    try:\n",
    "        categories_list = row['categories']\n",
    "    except:\n",
    "        categories_list = row['venue.categories']\n",
    "        \n",
    "    if len(categories_list) == 0:\n",
    "        return None\n",
    "    else:\n",
    "        return categories_list[0]['name']\n",
    "\n",
    "# filter the category for each row\n",
    "dataframe_filtered['categories'] = dataframe_filtered.apply(get_category_type, axis=1)\n",
    "\n",
    "# clean column names by keeping only last term\n",
    "dataframe_filtered.columns = [column.split('.')[-1] for column in dataframe_filtered.columns]\n",
    "\n",
    "dataframe_filtered"
   ]
  },
  {
   "cell_type": "markdown",
   "metadata": {
    "button": false,
    "new_sheet": false,
    "run_control": {
     "read_only": false
    }
   },
   "source": [
    "#### Let's visualize the Italian restaurants that are nearby"
   ]
  },
  {
   "cell_type": "code",
   "execution_count": 17,
   "metadata": {
    "button": false,
    "new_sheet": false,
    "run_control": {
     "read_only": false
    }
   },
   "outputs": [
    {
     "data": {
      "text/plain": [
       "0          Harry's Italian Pizza Bar\n",
       "1    Conca Cucina Italian Restaurant\n",
       "2                               Ecco\n",
       "Name: name, dtype: object"
      ]
     },
     "execution_count": 17,
     "metadata": {},
     "output_type": "execute_result"
    }
   ],
   "source": [
    "dataframe_filtered.name"
   ]
  },
  {
   "cell_type": "code",
   "execution_count": 19,
   "metadata": {
    "button": false,
    "new_sheet": false,
    "run_control": {
     "read_only": false
    },
    "scrolled": false
   },
   "outputs": [
    {
     "data": {
      "text/html": [
       "<div style=\"width:100%;\"><div style=\"position:relative;width:100%;height:0;padding-bottom:60%;\"><iframe src=\"about:blank\" style=\"position:absolute;width:100%;height:100%;left:0;top:0;border:none !important;\" data-html=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 onload=\"this.contentDocument.open();this.contentDocument.write(atob(this.getAttribute('data-html')));this.contentDocument.close();\" allowfullscreen webkitallowfullscreen mozallowfullscreen></iframe></div></div>"
      ],
      "text/plain": [
       "<folium.folium.Map at 0x7fc9839c70b8>"
      ]
     },
     "execution_count": 19,
     "metadata": {},
     "output_type": "execute_result"
    }
   ],
   "source": [
    "venues_map = folium.Map(location=[latitude, longitude], zoom_start=13) # generate map centred around the Conrad Hotel\n",
    "\n",
    "# add a red circle marker to represent the Conrad Hotel\n",
    "folium.features.CircleMarker(\n",
    "    [latitude, longitude],\n",
    "    radius=10,\n",
    "    color='red',\n",
    "    popup='Conrad Hotel',\n",
    "    fill = True,\n",
    "    fill_color = 'red',\n",
    "    fill_opacity = 0.6\n",
    ").add_to(venues_map)\n",
    "\n",
    "# add the Italian restaurants as blue circle markers\n",
    "for lat, lng, label in zip(dataframe_filtered.lat, dataframe_filtered.lng, dataframe_filtered.categories):\n",
    "    folium.features.CircleMarker(\n",
    "        [lat, lng],\n",
    "        radius=5,\n",
    "        color='blue',\n",
    "        popup=label,\n",
    "        fill = True,\n",
    "        fill_color='blue',\n",
    "        fill_opacity=0.6\n",
    "    ).add_to(venues_map)\n",
    "\n",
    "# display map\n",
    "venues_map"
   ]
  },
  {
   "cell_type": "markdown",
   "metadata": {
    "button": false,
    "new_sheet": false,
    "run_control": {
     "read_only": false
    }
   },
   "source": [
    "   "
   ]
  },
  {
   "cell_type": "markdown",
   "metadata": {
    "button": false,
    "new_sheet": false,
    "run_control": {
     "read_only": false
    }
   },
   "source": [
    "<a id=\"item2\"></a>"
   ]
  },
  {
   "cell_type": "markdown",
   "metadata": {
    "button": false,
    "new_sheet": false,
    "run_control": {
     "read_only": false
    }
   },
   "source": [
    "## 2. Explore a Given Venue\n",
    "> `https://api.foursquare.com/v2/venues/`**VENUE_ID**`?client_id=`**CLIENT_ID**`&client_secret=`**CLIENT_SECRET**`&v=`**VERSION**"
   ]
  },
  {
   "cell_type": "markdown",
   "metadata": {
    "button": false,
    "new_sheet": false,
    "run_control": {
     "read_only": false
    }
   },
   "source": [
    "### A. Let's explore the closest Italian restaurant -- _Harry's Italian Pizza Bar_"
   ]
  },
  {
   "cell_type": "code",
   "execution_count": 20,
   "metadata": {
    "button": false,
    "new_sheet": false,
    "run_control": {
     "read_only": false
    }
   },
   "outputs": [
    {
     "data": {
      "text/plain": [
       "'https://api.foursquare.com/v2/venues/4fa862b3e4b0ebff2f749f06?client_id=X5OBM0WZCSVVJASBUED5CUOTIGF3D4UKUTXLQ3G44JTG3RLU&client_secret=4OMKQ2OOFVOV1BC1ZMQAHN0QZAPUICT3SOUAI2TKDMF4ZEBB&v=20180604'"
      ]
     },
     "execution_count": 20,
     "metadata": {},
     "output_type": "execute_result"
    }
   ],
   "source": [
    "venue_id = '4fa862b3e4b0ebff2f749f06' # ID of Harry's Italian Pizza Bar\n",
    "url = 'https://api.foursquare.com/v2/venues/{}?client_id={}&client_secret={}&v={}'.format(venue_id, CLIENT_ID, CLIENT_SECRET, VERSION)\n",
    "url"
   ]
  },
  {
   "cell_type": "markdown",
   "metadata": {
    "button": false,
    "new_sheet": false,
    "run_control": {
     "read_only": false
    }
   },
   "source": [
    "#### Send GET request for result"
   ]
  },
  {
   "cell_type": "code",
   "execution_count": 21,
   "metadata": {
    "button": false,
    "new_sheet": false,
    "run_control": {
     "read_only": false
    }
   },
   "outputs": [
    {
     "name": "stdout",
     "output_type": "stream",
     "text": [
      "dict_keys(['id', 'name', 'contact', 'location', 'canonicalUrl', 'categories', 'verified', 'stats', 'url', 'price', 'hasMenu', 'likes', 'dislike', 'ok', 'rating', 'ratingColor', 'ratingSignals', 'delivery', 'menu', 'allowMenuUrlEdit', 'beenHere', 'specials', 'photos', 'reasons', 'hereNow', 'createdAt', 'tips', 'shortUrl', 'timeZone', 'listed', 'hours', 'popular', 'seasonalHours', 'defaultHours', 'pageUpdates', 'inbox', 'attributes', 'bestPhoto', 'colors'])\n"
     ]
    },
    {
     "data": {
      "text/plain": [
       "{'id': '4fa862b3e4b0ebff2f749f06',\n",
       " 'name': \"Harry's Italian Pizza Bar\",\n",
       " 'contact': {'phone': '2126081007', 'formattedPhone': '(212) 608-1007'},\n",
       " 'location': {'address': '225 Murray St',\n",
       "  'lat': 40.71521779064671,\n",
       "  'lng': -74.01473940209351,\n",
       "  'labeledLatLngs': [{'label': 'display',\n",
       "    'lat': 40.71521779064671,\n",
       "    'lng': -74.01473940209351},\n",
       "   {'label': '?', 'lat': 40.715361, 'lng': -74.014975}],\n",
       "  'postalCode': '10282',\n",
       "  'cc': 'US',\n",
       "  'city': 'New York',\n",
       "  'state': 'NY',\n",
       "  'country': 'United States',\n",
       "  'formattedAddress': ['225 Murray St',\n",
       "   'New York, NY 10282',\n",
       "   'United States']},\n",
       " 'canonicalUrl': 'https://foursquare.com/v/harrys-italian-pizza-bar/4fa862b3e4b0ebff2f749f06',\n",
       " 'categories': [{'id': '4bf58dd8d48988d1ca941735',\n",
       "   'name': 'Pizza Place',\n",
       "   'pluralName': 'Pizza Places',\n",
       "   'shortName': 'Pizza',\n",
       "   'icon': {'prefix': 'https://ss3.4sqi.net/img/categories_v2/food/pizza_',\n",
       "    'suffix': '.png'},\n",
       "   'primary': True},\n",
       "  {'id': '4bf58dd8d48988d110941735',\n",
       "   'name': 'Italian Restaurant',\n",
       "   'pluralName': 'Italian Restaurants',\n",
       "   'shortName': 'Italian',\n",
       "   'icon': {'prefix': 'https://ss3.4sqi.net/img/categories_v2/food/italian_',\n",
       "    'suffix': '.png'}}],\n",
       " 'verified': False,\n",
       " 'stats': {'tipCount': 57},\n",
       " 'url': 'http://harrysitalian.com',\n",
       " 'price': {'tier': 2, 'message': 'Moderate', 'currency': '$'},\n",
       " 'hasMenu': True,\n",
       " 'likes': {'count': 120,\n",
       "  'groups': [{'type': 'others', 'count': 120, 'items': []}],\n",
       "  'summary': '120 Likes'},\n",
       " 'dislike': False,\n",
       " 'ok': False,\n",
       " 'rating': 7.0,\n",
       " 'ratingColor': 'C5DE35',\n",
       " 'ratingSignals': 212,\n",
       " 'delivery': {'id': '294544',\n",
       "  'url': 'https://www.seamless.com/menu/harrys-italian-pizza-bar-225-murray-st-new-york/294544?affiliate=1131&utm_source=foursquare-affiliate-network&utm_medium=affiliate&utm_campaign=1131&utm_content=294544',\n",
       "  'provider': {'name': 'seamless',\n",
       "   'icon': {'prefix': 'https://fastly.4sqi.net/img/general/cap/',\n",
       "    'sizes': [40, 50],\n",
       "    'name': '/delivery_provider_seamless_20180129.png'}}},\n",
       " 'menu': {'type': 'Menu',\n",
       "  'label': 'Menu',\n",
       "  'anchor': 'View Menu',\n",
       "  'url': 'https://foursquare.com/v/harrys-italian-pizza-bar/4fa862b3e4b0ebff2f749f06/menu',\n",
       "  'mobileUrl': 'https://foursquare.com/v/4fa862b3e4b0ebff2f749f06/device_menu'},\n",
       " 'allowMenuUrlEdit': True,\n",
       " 'beenHere': {'count': 0,\n",
       "  'unconfirmedCount': 0,\n",
       "  'marked': False,\n",
       "  'lastCheckinExpiredAt': 0},\n",
       " 'specials': {'count': 0, 'items': []},\n",
       " 'photos': {'count': 147,\n",
       "  'groups': [{'type': 'venue',\n",
       "    'name': 'Venue photos',\n",
       "    'count': 147,\n",
       "    'items': [{'id': '4fad980de4b091b4626c3633',\n",
       "      'createdAt': 1336776717,\n",
       "      'source': {'name': 'Foursquare for Android',\n",
       "       'url': 'https://foursquare.com/download/#/android'},\n",
       "      'prefix': 'https://fastly.4sqi.net/img/general/',\n",
       "      'suffix': '/ya1iQFI7pLjuIJp1PGDKlrZS3OJdHCF7tpILMmjv_2w.jpg',\n",
       "      'width': 480,\n",
       "      'height': 640,\n",
       "      'user': {'id': '13676709',\n",
       "       'firstName': 'Leony',\n",
       "       'lastName': 'N',\n",
       "       'photo': {'prefix': 'https://fastly.4sqi.net/img/user/',\n",
       "        'suffix': '/T0ANFNGNMCHUDEUE.jpg'}},\n",
       "      'visibility': 'public'}]}]},\n",
       " 'reasons': {'count': 1,\n",
       "  'items': [{'summary': 'Lots of people like this place',\n",
       "    'type': 'general',\n",
       "    'reasonName': 'rawLikesReason'}]},\n",
       " 'hereNow': {'count': 0, 'summary': 'Nobody here', 'groups': []},\n",
       " 'createdAt': 1336435379,\n",
       " 'tips': {'count': 57,\n",
       "  'groups': [{'type': 'others',\n",
       "    'name': 'All tips',\n",
       "    'count': 57,\n",
       "    'items': [{'id': '53d27909498e0523841340b6',\n",
       "      'createdAt': 1406302473,\n",
       "      'text': \"Harry's Italian Pizza bar is known for it's amazing pizza, but did you know that the brunches here are amazing too? Try the Nutella French toast and we know you'll be sold.\",\n",
       "      'type': 'user',\n",
       "      'canonicalUrl': 'https://foursquare.com/item/53d27909498e0523841340b6',\n",
       "      'lang': 'en',\n",
       "      'likes': {'count': 4,\n",
       "       'groups': [{'type': 'others',\n",
       "         'count': 4,\n",
       "         'items': [{'id': '369426',\n",
       "           'firstName': 'P.',\n",
       "           'lastName': 'M',\n",
       "           'photo': {'prefix': 'https://fastly.4sqi.net/img/user/',\n",
       "            'suffix': '/JPQYUWJKUT0H2OO4.jpg'}},\n",
       "          {'id': '87587879',\n",
       "           'firstName': 'Diane',\n",
       "           'lastName': 'D',\n",
       "           'photo': {'prefix': 'https://fastly.4sqi.net/img/user/',\n",
       "            'suffix': '/87587879-ESLRSZLQ2CBE2P4W.jpg'}},\n",
       "          {'id': '87591341',\n",
       "           'firstName': 'Tim',\n",
       "           'lastName': 'S',\n",
       "           'photo': {'prefix': 'https://fastly.4sqi.net/img/user/',\n",
       "            'suffix': '/-Z4YK4VKE0JSVXIY1.jpg'}},\n",
       "          {'id': '87473404',\n",
       "           'firstName': 'TenantKing.com',\n",
       "           'photo': {'prefix': 'https://fastly.4sqi.net/img/user/',\n",
       "            'suffix': '/87473404-HI5DTBTK0HX401CA.png'},\n",
       "           'type': 'page'}]}],\n",
       "       'summary': '4 likes'},\n",
       "      'logView': True,\n",
       "      'agreeCount': 4,\n",
       "      'disagreeCount': 0,\n",
       "      'todo': {'count': 0},\n",
       "      'user': {'id': '87473404',\n",
       "       'firstName': 'TenantKing.com',\n",
       "       'photo': {'prefix': 'https://fastly.4sqi.net/img/user/',\n",
       "        'suffix': '/87473404-HI5DTBTK0HX401CA.png'},\n",
       "       'type': 'page'}}]}]},\n",
       " 'shortUrl': 'http://4sq.com/JNblHV',\n",
       " 'timeZone': 'America/New_York',\n",
       " 'listed': {'count': 54,\n",
       "  'groups': [{'type': 'others',\n",
       "    'name': 'Lists from other people',\n",
       "    'count': 54,\n",
       "    'items': [{'id': '4fa32fd0e4b04193744746b1',\n",
       "      'name': 'Manhattan Haunts',\n",
       "      'description': '',\n",
       "      'type': 'others',\n",
       "      'user': {'id': '24592223',\n",
       "       'firstName': 'Becca',\n",
       "       'lastName': 'M',\n",
       "       'photo': {'prefix': 'https://fastly.4sqi.net/img/user/',\n",
       "        'suffix': '/24592223-RAW2UYM0GIB1U40K.jpg'}},\n",
       "      'editable': False,\n",
       "      'public': True,\n",
       "      'collaborative': False,\n",
       "      'url': '/becca_mcarthur/list/manhattan-haunts',\n",
       "      'canonicalUrl': 'https://foursquare.com/becca_mcarthur/list/manhattan-haunts',\n",
       "      'createdAt': 1336094672,\n",
       "      'updatedAt': 1380845377,\n",
       "      'photo': {'id': '4e8cc9461081e3b3544e12e5',\n",
       "       'createdAt': 1317849414,\n",
       "       'prefix': 'https://fastly.4sqi.net/img/general/',\n",
       "       'suffix': '/0NLVU2HC1JF4DXIMKWUFW3QBUT31DC11EFNYYHMJG3NDWAPS.jpg',\n",
       "       'width': 492,\n",
       "       'height': 330,\n",
       "       'user': {'id': '742542',\n",
       "        'firstName': 'Time Out New York',\n",
       "        'photo': {'prefix': 'https://fastly.4sqi.net/img/user/',\n",
       "         'suffix': '/XXHKCBSQHBORZNSR.jpg'},\n",
       "        'type': 'page'},\n",
       "       'visibility': 'public'},\n",
       "      'followers': {'count': 22},\n",
       "      'listItems': {'count': 187,\n",
       "       'items': [{'id': 'v4fa862b3e4b0ebff2f749f06',\n",
       "         'createdAt': 1342934485}]}},\n",
       "     {'id': '4fae817be4b085f6b2a74d19',\n",
       "      'name': 'USA NYC MAN FiDi',\n",
       "      'description': 'Where to go for decent eats in the restaurant wasteland of Downtown NYC aka FiDi, along with Tribeca & Battery Park City.',\n",
       "      'type': 'others',\n",
       "      'user': {'id': '12113441',\n",
       "       'firstName': 'Kino',\n",
       "       'photo': {'prefix': 'https://fastly.4sqi.net/img/user/',\n",
       "        'suffix': '/12113441-K5HTHFLU2MUCM0CM.jpg'}},\n",
       "      'editable': False,\n",
       "      'public': True,\n",
       "      'collaborative': False,\n",
       "      'url': '/kinosfault/list/usa-nyc-man-fidi',\n",
       "      'canonicalUrl': 'https://foursquare.com/kinosfault/list/usa-nyc-man-fidi',\n",
       "      'createdAt': 1336836475,\n",
       "      'updatedAt': 1556754919,\n",
       "      'photo': {'id': '55984992498e13ba75e353bb',\n",
       "       'createdAt': 1436043666,\n",
       "       'prefix': 'https://fastly.4sqi.net/img/general/',\n",
       "       'suffix': '/12113441_iOa6Uh-Xi8bhj2-gpzkkw8MKiAIs7RmOcz_RM7m8ink.jpg',\n",
       "       'width': 540,\n",
       "       'height': 960,\n",
       "       'user': {'id': '12113441',\n",
       "        'firstName': 'Kino',\n",
       "        'photo': {'prefix': 'https://fastly.4sqi.net/img/user/',\n",
       "         'suffix': '/12113441-K5HTHFLU2MUCM0CM.jpg'}},\n",
       "       'visibility': 'public'},\n",
       "      'followers': {'count': 20},\n",
       "      'listItems': {'count': 273,\n",
       "       'items': [{'id': 'v4fa862b3e4b0ebff2f749f06',\n",
       "         'createdAt': 1373909433}]}},\n",
       "     {'id': '4fddeff0e4b0e078037ac0d3',\n",
       "      'name': 'NYC Resturants',\n",
       "      'description': '',\n",
       "      'type': 'others',\n",
       "      'user': {'id': '21563126',\n",
       "       'firstName': 'Richard',\n",
       "       'lastName': 'R',\n",
       "       'photo': {'prefix': 'https://fastly.4sqi.net/img/user/',\n",
       "        'suffix': '/21563126_v05J1KPw_SVj6Ehq9g8B9jeAGjFUMsU5QGl-NZ8inUQ7pKQm5bKplW37EmR7jS2A7GYPBBAtl.jpg'}},\n",
       "      'editable': False,\n",
       "      'public': True,\n",
       "      'collaborative': True,\n",
       "      'url': '/rickr7/list/nyc-resturants',\n",
       "      'canonicalUrl': 'https://foursquare.com/rickr7/list/nyc-resturants',\n",
       "      'createdAt': 1339944944,\n",
       "      'updatedAt': 1582232663,\n",
       "      'photo': {'id': '5072dd13e4b09145cdf782d1',\n",
       "       'createdAt': 1349704979,\n",
       "       'prefix': 'https://fastly.4sqi.net/img/general/',\n",
       "       'suffix': '/208205_fGh2OuAZ9qJ4agbAA5wMVNOSIm9kNUlRtNwj1N-adqg.jpg',\n",
       "       'width': 800,\n",
       "       'height': 800,\n",
       "       'user': {'id': '208205',\n",
       "        'firstName': 'Thalia',\n",
       "        'lastName': 'K',\n",
       "        'photo': {'prefix': 'https://fastly.4sqi.net/img/user/',\n",
       "         'suffix': '/SNOOLCAW2AG04ZKD.jpg'}},\n",
       "       'visibility': 'public'},\n",
       "      'followers': {'count': 12},\n",
       "      'listItems': {'count': 194,\n",
       "       'items': [{'id': 'v4fa862b3e4b0ebff2f749f06',\n",
       "         'createdAt': 1581655865}]}},\n",
       "     {'id': '5266c68a498e7c667807fe09',\n",
       "      'name': 'Foodie Love in NY - 02',\n",
       "      'description': '',\n",
       "      'type': 'others',\n",
       "      'user': {'id': '547977',\n",
       "       'firstName': 'WiLL',\n",
       "       'photo': {'prefix': 'https://fastly.4sqi.net/img/user/',\n",
       "        'suffix': '/-Q5NYGDMFDMOITQRR.jpg'}},\n",
       "      'editable': False,\n",
       "      'public': True,\n",
       "      'collaborative': False,\n",
       "      'url': '/sweetiewill/list/foodie-love-in-ny--02',\n",
       "      'canonicalUrl': 'https://foursquare.com/sweetiewill/list/foodie-love-in-ny--02',\n",
       "      'createdAt': 1382467210,\n",
       "      'updatedAt': 1391995585,\n",
       "      'followers': {'count': 7},\n",
       "      'listItems': {'count': 200,\n",
       "       'items': [{'id': 'v4fa862b3e4b0ebff2f749f06',\n",
       "         'createdAt': 1386809936}]}}]}]},\n",
       " 'hours': {'status': 'Open until Midnight',\n",
       "  'richStatus': {'entities': [], 'text': 'Open until Midnight'},\n",
       "  'isOpen': True,\n",
       "  'isLocalHoliday': False,\n",
       "  'dayData': [],\n",
       "  'timeframes': [{'days': 'Mon–Wed, Sun',\n",
       "    'open': [{'renderedTime': '11:30 AM–11:00 PM'}],\n",
       "    'segments': []},\n",
       "   {'days': 'Thu–Sat',\n",
       "    'includesToday': True,\n",
       "    'open': [{'renderedTime': '11:30 AM–Midnight'}],\n",
       "    'segments': []}]},\n",
       " 'popular': {'isOpen': False,\n",
       "  'isLocalHoliday': False,\n",
       "  'timeframes': [{'days': 'Today',\n",
       "    'includesToday': True,\n",
       "    'open': [{'renderedTime': 'Noon–2:00 PM'},\n",
       "     {'renderedTime': '5:00 PM–10:00 PM'}],\n",
       "    'segments': []},\n",
       "   {'days': 'Fri',\n",
       "    'open': [{'renderedTime': 'Noon–3:00 PM'},\n",
       "     {'renderedTime': '5:00 PM–11:00 PM'}],\n",
       "    'segments': []},\n",
       "   {'days': 'Sat',\n",
       "    'open': [{'renderedTime': 'Noon–11:00 PM'}],\n",
       "    'segments': []},\n",
       "   {'days': 'Sun',\n",
       "    'open': [{'renderedTime': 'Noon–3:00 PM'},\n",
       "     {'renderedTime': '5:00 PM–8:00 PM'}],\n",
       "    'segments': []},\n",
       "   {'days': 'Mon',\n",
       "    'open': [{'renderedTime': 'Noon–2:00 PM'},\n",
       "     {'renderedTime': '6:00 PM–8:00 PM'}],\n",
       "    'segments': []},\n",
       "   {'days': 'Tue–Wed',\n",
       "    'open': [{'renderedTime': 'Noon–2:00 PM'},\n",
       "     {'renderedTime': '5:00 PM–10:00 PM'}],\n",
       "    'segments': []}]},\n",
       " 'seasonalHours': [],\n",
       " 'defaultHours': {'status': 'Open until Midnight',\n",
       "  'richStatus': {'entities': [], 'text': 'Open until Midnight'},\n",
       "  'isOpen': True,\n",
       "  'isLocalHoliday': False,\n",
       "  'dayData': [],\n",
       "  'timeframes': [{'days': 'Mon–Wed, Sun',\n",
       "    'open': [{'renderedTime': '11:30 AM–11:00 PM'}],\n",
       "    'segments': []},\n",
       "   {'days': 'Thu–Sat',\n",
       "    'includesToday': True,\n",
       "    'open': [{'renderedTime': '11:30 AM–Midnight'}],\n",
       "    'segments': []}]},\n",
       " 'pageUpdates': {'count': 0, 'items': []},\n",
       " 'inbox': {'count': 0, 'items': []},\n",
       " 'attributes': {'groups': [{'type': 'price',\n",
       "    'name': 'Price',\n",
       "    'summary': '$$',\n",
       "    'count': 1,\n",
       "    'items': [{'displayName': 'Price', 'displayValue': '$$', 'priceTier': 2}]},\n",
       "   {'type': 'payments',\n",
       "    'name': 'Credit Cards',\n",
       "    'summary': 'Credit Cards',\n",
       "    'count': 7,\n",
       "    'items': [{'displayName': 'Credit Cards',\n",
       "      'displayValue': 'Yes (incl. American Express)'}]},\n",
       "   {'type': 'outdoorSeating',\n",
       "    'name': 'Outdoor Seating',\n",
       "    'summary': 'Outdoor Seating',\n",
       "    'count': 1,\n",
       "    'items': [{'displayName': 'Outdoor Seating', 'displayValue': 'Yes'}]},\n",
       "   {'type': 'serves',\n",
       "    'name': 'Menus',\n",
       "    'summary': 'Happy Hour, Brunch & more',\n",
       "    'count': 8,\n",
       "    'items': [{'displayName': 'Brunch', 'displayValue': 'Brunch'},\n",
       "     {'displayName': 'Lunch', 'displayValue': 'Lunch'},\n",
       "     {'displayName': 'Dinner', 'displayValue': 'Dinner'},\n",
       "     {'displayName': 'Happy Hour', 'displayValue': 'Happy Hour'}]},\n",
       "   {'type': 'drinks',\n",
       "    'name': 'Drinks',\n",
       "    'summary': 'Beer, Wine & Cocktails',\n",
       "    'count': 5,\n",
       "    'items': [{'displayName': 'Beer', 'displayValue': 'Beer'},\n",
       "     {'displayName': 'Wine', 'displayValue': 'Wine'},\n",
       "     {'displayName': 'Cocktails', 'displayValue': 'Cocktails'}]},\n",
       "   {'type': 'diningOptions',\n",
       "    'name': 'Dining Options',\n",
       "    'summary': 'Delivery',\n",
       "    'count': 5,\n",
       "    'items': [{'displayName': 'Delivery', 'displayValue': 'Delivery'}]}]},\n",
       " 'bestPhoto': {'id': '4fad980de4b091b4626c3633',\n",
       "  'createdAt': 1336776717,\n",
       "  'source': {'name': 'Foursquare for Android',\n",
       "   'url': 'https://foursquare.com/download/#/android'},\n",
       "  'prefix': 'https://fastly.4sqi.net/img/general/',\n",
       "  'suffix': '/ya1iQFI7pLjuIJp1PGDKlrZS3OJdHCF7tpILMmjv_2w.jpg',\n",
       "  'width': 480,\n",
       "  'height': 640,\n",
       "  'visibility': 'public'},\n",
       " 'colors': {'highlightColor': {'photoId': '4fad980de4b091b4626c3633',\n",
       "   'value': -13619152},\n",
       "  'highlightTextColor': {'photoId': '4fad980de4b091b4626c3633', 'value': -1},\n",
       "  'algoVersion': 3}}"
      ]
     },
     "execution_count": 21,
     "metadata": {},
     "output_type": "execute_result"
    }
   ],
   "source": [
    "result = requests.get(url).json()\n",
    "print(result['response']['venue'].keys())\n",
    "result['response']['venue']"
   ]
  },
  {
   "cell_type": "markdown",
   "metadata": {
    "button": false,
    "new_sheet": false,
    "run_control": {
     "read_only": false
    }
   },
   "source": [
    "### B. Get the venue's overall rating"
   ]
  },
  {
   "cell_type": "code",
   "execution_count": 22,
   "metadata": {
    "button": false,
    "new_sheet": false,
    "run_control": {
     "read_only": false
    }
   },
   "outputs": [
    {
     "name": "stdout",
     "output_type": "stream",
     "text": [
      "7.0\n"
     ]
    }
   ],
   "source": [
    "try:\n",
    "    print(result['response']['venue']['rating'])\n",
    "except:\n",
    "    print('This venue has not been rated yet.')"
   ]
  },
  {
   "cell_type": "markdown",
   "metadata": {
    "button": false,
    "new_sheet": false,
    "run_control": {
     "read_only": false
    }
   },
   "source": [
    "That is not a very good rating. Let's check the rating of the second closest Italian restaurant."
   ]
  },
  {
   "cell_type": "code",
   "execution_count": 23,
   "metadata": {
    "button": false,
    "new_sheet": false,
    "run_control": {
     "read_only": false
    }
   },
   "outputs": [
    {
     "name": "stdout",
     "output_type": "stream",
     "text": [
      "This venue has not been rated yet.\n"
     ]
    }
   ],
   "source": [
    "venue_id = '4f3232e219836c91c7bfde94' # ID of Conca Cucina Italian Restaurant\n",
    "url = 'https://api.foursquare.com/v2/venues/{}?client_id={}&client_secret={}&v={}'.format(venue_id, CLIENT_ID, CLIENT_SECRET, VERSION)\n",
    "\n",
    "result = requests.get(url).json()\n",
    "try:\n",
    "    print(result['response']['venue']['rating'])\n",
    "except:\n",
    "    print('This venue has not been rated yet.')"
   ]
  },
  {
   "cell_type": "markdown",
   "metadata": {
    "button": false,
    "new_sheet": false,
    "run_control": {
     "read_only": false
    }
   },
   "source": [
    "Since this restaurant has no ratings, let's check the third restaurant."
   ]
  },
  {
   "cell_type": "code",
   "execution_count": 24,
   "metadata": {
    "button": false,
    "new_sheet": false,
    "run_control": {
     "read_only": false
    }
   },
   "outputs": [
    {
     "name": "stdout",
     "output_type": "stream",
     "text": [
      "7.4\n"
     ]
    }
   ],
   "source": [
    "venue_id = '3fd66200f964a520f4e41ee3' # ID of Ecco\n",
    "url = 'https://api.foursquare.com/v2/venues/{}?client_id={}&client_secret={}&v={}'.format(venue_id, CLIENT_ID, CLIENT_SECRET, VERSION)\n",
    "\n",
    "result = requests.get(url).json()\n",
    "try:\n",
    "    print(result['response']['venue']['rating'])\n",
    "except:\n",
    "    print('This venue has not been rated yet.')"
   ]
  },
  {
   "cell_type": "markdown",
   "metadata": {
    "button": false,
    "new_sheet": false,
    "run_control": {
     "read_only": false
    }
   },
   "source": [
    "Since this restaurant has a slightly better rating, let's explore it further."
   ]
  },
  {
   "cell_type": "markdown",
   "metadata": {
    "button": false,
    "new_sheet": false,
    "run_control": {
     "read_only": false
    }
   },
   "source": [
    "### C. Get the number of tips"
   ]
  },
  {
   "cell_type": "code",
   "execution_count": 25,
   "metadata": {
    "button": false,
    "new_sheet": false,
    "run_control": {
     "read_only": false
    }
   },
   "outputs": [
    {
     "data": {
      "text/plain": [
       "19"
      ]
     },
     "execution_count": 25,
     "metadata": {},
     "output_type": "execute_result"
    }
   ],
   "source": [
    "result['response']['venue']['tips']['count']"
   ]
  },
  {
   "cell_type": "markdown",
   "metadata": {
    "button": false,
    "new_sheet": false,
    "run_control": {
     "read_only": false
    }
   },
   "source": [
    "### D. Get the venue's tips\n",
    "> `https://api.foursquare.com/v2/venues/`**VENUE_ID**`/tips?client_id=`**CLIENT_ID**`&client_secret=`**CLIENT_SECRET**`&v=`**VERSION**`&limit=`**LIMIT**"
   ]
  },
  {
   "cell_type": "markdown",
   "metadata": {
    "button": false,
    "new_sheet": false,
    "run_control": {
     "read_only": false
    }
   },
   "source": [
    "#### Create URL and send GET request. Make sure to set limit to get all tips"
   ]
  },
  {
   "cell_type": "code",
   "execution_count": 29,
   "metadata": {
    "button": false,
    "new_sheet": false,
    "run_control": {
     "read_only": false
    }
   },
   "outputs": [
    {
     "data": {
      "text/plain": [
       "{'meta': {'code': 200, 'requestId': '5e98c37eb9a389001bee6307'},\n",
       " 'response': {'tips': {'count': 19,\n",
       "   'items': [{'id': '5ab1cb46c9a517174651d3fe',\n",
       "     'createdAt': 1521601350,\n",
       "     'text': 'A+ Italian food! Trust me on this: my mom’s side of the family is 100% Italian. I was born and bred to know good pasta when I see it, and Ecco is one of my all-time NYC favorites',\n",
       "     'type': 'user',\n",
       "     'canonicalUrl': 'https://foursquare.com/item/5ab1cb46c9a517174651d3fe',\n",
       "     'lang': 'en',\n",
       "     'likes': {'count': 0, 'groups': []},\n",
       "     'logView': True,\n",
       "     'agreeCount': 4,\n",
       "     'disagreeCount': 0,\n",
       "     'todo': {'count': 0},\n",
       "     'user': {'id': '484542633',\n",
       "      'firstName': 'Nick',\n",
       "      'lastName': 'E',\n",
       "      'photo': {'prefix': 'https://fastly.4sqi.net/img/user/',\n",
       "       'suffix': '/484542633_unymNUmw_FdPs3GjXHujmHcYnN4hf8kEPADlOZuIrdcdm97VX3tFqL7fFNMNA_8Gl9NlU1GYg.jpg'}},\n",
       "     'authorInteractionType': 'liked'}]}}}"
      ]
     },
     "execution_count": 29,
     "metadata": {},
     "output_type": "execute_result"
    }
   ],
   "source": [
    "## Ecco Tips\n",
    "limit = 19 # set limit to be greater than or equal to the total number of tips\n",
    "url = 'https://api.foursquare.com/v2/venues/{}/tips?client_id={}&client_secret={}&v={}&limit={}'.format(venue_id, CLIENT_ID, CLIENT_SECRET, VERSION, limit)\n",
    "\n",
    "results = requests.get(url).json()\n",
    "results"
   ]
  },
  {
   "cell_type": "markdown",
   "metadata": {
    "button": false,
    "new_sheet": false,
    "run_control": {
     "read_only": false
    }
   },
   "source": [
    "#### Get tips and list of associated features"
   ]
  },
  {
   "cell_type": "code",
   "execution_count": 38,
   "metadata": {
    "button": false,
    "new_sheet": false,
    "run_control": {
     "read_only": false
    }
   },
   "outputs": [
    {
     "name": "stdout",
     "output_type": "stream",
     "text": [
      "[{'id': '5ab1cb46c9a517174651d3fe', 'createdAt': 1521601350, 'text': 'A+ Italian food! Trust me on this: my mom’s side of the family is 100% Italian. I was born and bred to know good pasta when I see it, and Ecco is one of my all-time NYC favorites', 'type': 'user', 'canonicalUrl': 'https://foursquare.com/item/5ab1cb46c9a517174651d3fe', 'lang': 'en', 'likes': {'count': 0, 'groups': []}, 'logView': True, 'agreeCount': 4, 'disagreeCount': 0, 'todo': {'count': 0}, 'user': {'id': '484542633', 'firstName': 'Nick', 'lastName': 'E', 'photo': {'prefix': 'https://fastly.4sqi.net/img/user/', 'suffix': '/484542633_unymNUmw_FdPs3GjXHujmHcYnN4hf8kEPADlOZuIrdcdm97VX3tFqL7fFNMNA_8Gl9NlU1GYg.jpg'}}, 'authorInteractionType': 'liked'}]\n",
      "{'id': '5ab1cb46c9a517174651d3fe', 'createdAt': 1521601350, 'text': 'A+ Italian food! Trust me on this: my mom’s side of the family is 100% Italian. I was born and bred to know good pasta when I see it, and Ecco is one of my all-time NYC favorites', 'type': 'user', 'canonicalUrl': 'https://foursquare.com/item/5ab1cb46c9a517174651d3fe', 'lang': 'en', 'likes': {'count': 0, 'groups': []}, 'logView': True, 'agreeCount': 4, 'disagreeCount': 0, 'todo': {'count': 0}, 'user': {'id': '484542633', 'firstName': 'Nick', 'lastName': 'E', 'photo': {'prefix': 'https://fastly.4sqi.net/img/user/', 'suffix': '/484542633_unymNUmw_FdPs3GjXHujmHcYnN4hf8kEPADlOZuIrdcdm97VX3tFqL7fFNMNA_8Gl9NlU1GYg.jpg'}}, 'authorInteractionType': 'liked'}\n"
     ]
    },
    {
     "data": {
      "text/plain": [
       "dict_keys(['id', 'createdAt', 'text', 'type', 'canonicalUrl', 'lang', 'likes', 'logView', 'agreeCount', 'disagreeCount', 'todo', 'user', 'authorInteractionType'])"
      ]
     },
     "execution_count": 38,
     "metadata": {},
     "output_type": "execute_result"
    }
   ],
   "source": [
    "tips = results['response']['tips']['items']\n",
    "print(tips)\n",
    "\n",
    "tip = results['response']['tips']['items'][0]\n",
    "print(tip)\n",
    "tip.keys()"
   ]
  },
  {
   "cell_type": "markdown",
   "metadata": {
    "button": false,
    "new_sheet": false,
    "run_control": {
     "read_only": false
    }
   },
   "source": [
    "#### Format column width and display all tips"
   ]
  },
  {
   "cell_type": "code",
   "execution_count": 46,
   "metadata": {
    "button": false,
    "new_sheet": false,
    "run_control": {
     "read_only": false
    },
    "scrolled": false
   },
   "outputs": [
    {
     "name": "stdout",
     "output_type": "stream",
     "text": [
      "['text', 'agreeCount', 'disagreeCount', 'id', 'user.firstName', 'user.lastName', 'user.id']\n"
     ]
    },
    {
     "name": "stderr",
     "output_type": "stream",
     "text": [
      "/home/apu/anaconda3/lib/python3.7/site-packages/ipykernel_launcher.py:3: FutureWarning: pandas.io.json.json_normalize is deprecated, use pandas.json_normalize instead\n",
      "  This is separate from the ipykernel package so we can avoid doing imports until\n"
     ]
    },
    {
     "data": {
      "text/html": [
       "<div>\n",
       "<style scoped>\n",
       "    .dataframe tbody tr th:only-of-type {\n",
       "        vertical-align: middle;\n",
       "    }\n",
       "\n",
       "    .dataframe tbody tr th {\n",
       "        vertical-align: top;\n",
       "    }\n",
       "\n",
       "    .dataframe thead th {\n",
       "        text-align: right;\n",
       "    }\n",
       "</style>\n",
       "<table border=\"1\" class=\"dataframe\">\n",
       "  <thead>\n",
       "    <tr style=\"text-align: right;\">\n",
       "      <th></th>\n",
       "      <th>text</th>\n",
       "      <th>agreeCount</th>\n",
       "      <th>disagreeCount</th>\n",
       "      <th>id</th>\n",
       "      <th>user.firstName</th>\n",
       "      <th>user.lastName</th>\n",
       "      <th>user.id</th>\n",
       "    </tr>\n",
       "  </thead>\n",
       "  <tbody>\n",
       "    <tr>\n",
       "      <th>0</th>\n",
       "      <td>A+ Italian food! Trust me on this: my mom’s side of the family is 100% Italian. I was born and bred to know good pasta when I see it, and Ecco is one of my all-time NYC favorites</td>\n",
       "      <td>4</td>\n",
       "      <td>0</td>\n",
       "      <td>5ab1cb46c9a517174651d3fe</td>\n",
       "      <td>Nick</td>\n",
       "      <td>E</td>\n",
       "      <td>484542633</td>\n",
       "    </tr>\n",
       "  </tbody>\n",
       "</table>\n",
       "</div>"
      ],
      "text/plain": [
       "                                                                                                                                                                                 text  \\\n",
       "0  A+ Italian food! Trust me on this: my mom’s side of the family is 100% Italian. I was born and bred to know good pasta when I see it, and Ecco is one of my all-time NYC favorites   \n",
       "\n",
       "   agreeCount  disagreeCount                        id user.firstName  \\\n",
       "0           4              0  5ab1cb46c9a517174651d3fe           Nick   \n",
       "\n",
       "  user.lastName    user.id  \n",
       "0             E  484542633  "
      ]
     },
     "execution_count": 46,
     "metadata": {},
     "output_type": "execute_result"
    }
   ],
   "source": [
    "pd.set_option('display.max_colwidth', None)\n",
    "\n",
    "tips_df = json_normalize(tips) # json normalize tips\n",
    "#print(tips_df)\n",
    "# columns to keep\n",
    "filtered_columns = ['text', 'agreeCount', 'disagreeCount', 'id', 'user.firstName', 'user.lastName', 'user.id']\n",
    "print(filtered_columns)\n",
    "tips_filtered = tips_df.loc[:,filtered_columns]\n",
    "\n",
    "# display tips\n",
    "tips_filtered"
   ]
  },
  {
   "cell_type": "markdown",
   "metadata": {
    "button": false,
    "new_sheet": false,
    "run_control": {
     "read_only": false
    }
   },
   "source": [
    "Now remember that because we are using a personal developer account, then we can access only 2 of the restaurant's tips, instead of all 15 tips."
   ]
  },
  {
   "cell_type": "markdown",
   "metadata": {
    "button": false,
    "new_sheet": false,
    "run_control": {
     "read_only": false
    }
   },
   "source": [
    "   "
   ]
  },
  {
   "cell_type": "markdown",
   "metadata": {
    "button": false,
    "new_sheet": false,
    "run_control": {
     "read_only": false
    }
   },
   "source": [
    "<a id=\"item3\"></a>"
   ]
  },
  {
   "cell_type": "markdown",
   "metadata": {
    "button": false,
    "new_sheet": false,
    "run_control": {
     "read_only": false
    }
   },
   "source": [
    "## 3. Search a Foursquare User\n",
    "> `https://api.foursquare.com/v2/users/`**USER_ID**`?client_id=`**CLIENT_ID**`&client_secret=`**CLIENT_SECRET**`&v=`**VERSION**"
   ]
  },
  {
   "cell_type": "markdown",
   "metadata": {
    "button": false,
    "new_sheet": false,
    "run_control": {
     "read_only": false
    }
   },
   "source": [
    "### Define URL, send GET request and display features associated with user"
   ]
  },
  {
   "cell_type": "code",
   "execution_count": 64,
   "metadata": {},
   "outputs": [],
   "source": [
    "#https://foursquare.com/oauth2/authenticate?client_id=CLIENT_ID&response_type=code&redirect_uri=https://www.google.com\n",
    "\n",
    "#https://www.google.com/?code=LAV2ZNIBLSOSITJVLR51QQYB5UUSCBO2XKOBIZXW5JSL4FGI\n",
    "    \n",
    "#https://foursquare.com/oauth2/access_token?client_id=X5OBM0WZCSVVJASBUED5CUOTIGF3D4UKUTXLQ3G44JTG3RLU&client_secret=4OMKQ2OOFVOV1BC1ZMQAHN0QZAPUICT3SOUAI2TKDMF4ZEBB&grant_type=authorization_code&redirect_uri=https://www.google.com/&code=LAV2ZNIBLSOSITJVLR51QQYB5UUSCBO2XKOBIZXW5JSL4FGI\n",
    "\n",
    "#{\"access_token\":\"Y1FBCVI0OEJGIUBDG4UF00OGW4PKNA12K4CJBC2QY2BMSCJS\"}"
   ]
  },
  {
   "cell_type": "code",
   "execution_count": 70,
   "metadata": {
    "button": false,
    "new_sheet": false,
    "run_control": {
     "read_only": false
    }
   },
   "outputs": [
    {
     "name": "stdout",
     "output_type": "stream",
     "text": [
      "{'id': '484542633', 'firstName': 'Nick', 'lastName': 'El-Tawil', 'gender': 'male', 'canonicalUrl': 'https://foursquare.com/user/484542633', 'photo': {'prefix': 'https://fastly.4sqi.net/img/user/', 'suffix': '/484542633_unymNUmw_FdPs3GjXHujmHcYnN4hf8kEPADlOZuIrdcdm97VX3tFqL7fFNMNA_8Gl9NlU1GYg.jpg'}, 'friends': {'count': 0, 'groups': [{'type': 'friends', 'name': 'Mutual friends', 'count': 0, 'items': []}, {'type': 'others', 'name': 'Other friends', 'count': 0, 'items': []}]}, 'tips': {'count': 99}, 'homeCity': 'New York, NY', 'bio': 'https://www.tawil.team/nick-el-tawil/', 'contact': {'twitter': 'nickeltawil'}, 'photos': {'count': 2, 'items': [{'id': '5e41a7ce346b7c00085b0f70', 'createdAt': 1581361102, 'source': {'name': 'Foursquare for iOS', 'url': 'https://foursquare.com/download/#/iphone'}, 'prefix': 'https://fastly.4sqi.net/img/general/', 'suffix': '/484542633_cF12vc8JQJTd-hyznst-CsHHTdSoi4XwCGKhTuQXNfo.jpg', 'width': 1440, 'height': 1440, 'visibility': 'public', 'venue': {'id': '5ab194451ffed736e329b365', 'name': 'Tawil & Team', 'location': {'address': '413 W 14th St # 200', 'crossStreet': '9th Avenue', 'lat': 40.739614, 'lng': -74.005877, 'labeledLatLngs': [{'label': 'display', 'lat': 40.739614, 'lng': -74.005877}], 'postalCode': '10014', 'cc': 'US', 'city': 'New York', 'state': 'NY', 'country': 'United States', 'formattedAddress': ['413 W 14th St # 200 (9th Avenue)', 'New York, NY 10014']}, 'categories': [{'id': '5032885091d4c4b30a586d66', 'name': 'Real Estate Office', 'pluralName': 'Real Estate Offices', 'shortName': 'Real Estate', 'icon': {'prefix': 'https://ss3.4sqi.net/img/categories_v2/shops/realestate_', 'suffix': '.png'}, 'primary': True}], 'like': False}}]}, 'checkinPings': 'off', 'pings': False, 'type': 'user', 'mayorships': {'count': 0, 'items': []}, 'checkins': {'count': 1, 'items': []}, 'lists': {'count': 2, 'groups': [{'type': 'created', 'count': 0, 'items': []}, {'type': 'followed', 'count': 0, 'items': []}, {'type': 'yours', 'count': 2, 'items': [{'id': '484542633/todos', 'name': \"Nick's Saved Places\", 'description': '', 'type': 'todos', 'editable': False, 'public': True, 'collaborative': False, 'url': '/nickeltawil/list/todos', 'canonicalUrl': 'https://foursquare.com/nickeltawil/list/todos', 'listItems': {'count': 1}}, {'id': '484542633/venuelikes', 'name': 'Nick’s Liked Places', 'description': '', 'type': 'likes', 'editable': False, 'public': True, 'collaborative': False, 'url': '/nickeltawil/list/venuelikes', 'canonicalUrl': 'https://foursquare.com/nickeltawil/list/venuelikes', 'listItems': {'count': 0}}]}]}, 'blockedStatus': 'none', 'lenses': []}\n"
     ]
    },
    {
     "data": {
      "text/plain": [
       "dict_keys(['id', 'firstName', 'lastName', 'gender', 'canonicalUrl', 'photo', 'friends', 'tips', 'homeCity', 'bio', 'contact', 'photos', 'checkinPings', 'pings', 'type', 'mayorships', 'checkins', 'lists', 'blockedStatus', 'lenses'])"
      ]
     },
     "execution_count": 70,
     "metadata": {},
     "output_type": "execute_result"
    }
   ],
   "source": [
    "user_id = '484542633' # user ID with most agree counts and complete profile\n",
    "access_token='Y1FBCVI0OEJGIUBDG4UF00OGW4PKNA12K4CJBC2QY2BMSCJS'\n",
    "url = 'https://api.foursquare.com/v2/users/{}?oauth_token={}&v={}'.format(user_id, access_token, VERSION) # define URL\n",
    "\n",
    "# send GET request\n",
    "results = requests.get(url).json()\n",
    "#print(results)\n",
    "user_data = results['response']['user']\n",
    "print(user_data)\n",
    "# display features associated with user\n",
    "user_data.keys()"
   ]
  },
  {
   "cell_type": "code",
   "execution_count": 65,
   "metadata": {
    "button": false,
    "new_sheet": false,
    "run_control": {
     "read_only": false
    }
   },
   "outputs": [
    {
     "name": "stdout",
     "output_type": "stream",
     "text": [
      "First Name: Nick\n",
      "Last Name: El-Tawil\n",
      "Home City: New York, NY\n"
     ]
    }
   ],
   "source": [
    "print('First Name: ' + user_data['firstName'])\n",
    "print('Last Name: ' + user_data['lastName'])\n",
    "print('Home City: ' + user_data['homeCity'])"
   ]
  },
  {
   "cell_type": "markdown",
   "metadata": {
    "button": false,
    "new_sheet": false,
    "run_control": {
     "read_only": false
    }
   },
   "source": [
    "#### How many tips has this user submitted?"
   ]
  },
  {
   "cell_type": "code",
   "execution_count": 66,
   "metadata": {
    "button": false,
    "new_sheet": false,
    "run_control": {
     "read_only": false
    }
   },
   "outputs": [
    {
     "data": {
      "text/plain": [
       "{'count': 99}"
      ]
     },
     "execution_count": 66,
     "metadata": {},
     "output_type": "execute_result"
    }
   ],
   "source": [
    "user_data['tips']"
   ]
  },
  {
   "cell_type": "markdown",
   "metadata": {
    "button": false,
    "new_sheet": false,
    "run_control": {
     "read_only": false
    }
   },
   "source": [
    "Wow! So it turns out that Nick is a very active Foursquare user, with more than 250 tips."
   ]
  },
  {
   "cell_type": "markdown",
   "metadata": {
    "button": false,
    "new_sheet": false,
    "run_control": {
     "read_only": false
    }
   },
   "source": [
    "### Get User's tips"
   ]
  },
  {
   "cell_type": "code",
   "execution_count": 67,
   "metadata": {
    "button": false,
    "new_sheet": false,
    "run_control": {
     "read_only": false
    },
    "scrolled": false
   },
   "outputs": [
    {
     "name": "stderr",
     "output_type": "stream",
     "text": [
      "/home/apu/anaconda3/lib/python3.7/site-packages/ipykernel_launcher.py:9: FutureWarning: Passing a negative integer is deprecated in version 1.0 and will not be supported in future version. Instead, use None to not limit the column width.\n",
      "  if __name__ == '__main__':\n",
      "/home/apu/anaconda3/lib/python3.7/site-packages/ipykernel_launcher.py:11: FutureWarning: pandas.io.json.json_normalize is deprecated, use pandas.json_normalize instead\n",
      "  # This is added back by InteractiveShellApp.init_path()\n"
     ]
    },
    {
     "data": {
      "text/html": [
       "<div>\n",
       "<style scoped>\n",
       "    .dataframe tbody tr th:only-of-type {\n",
       "        vertical-align: middle;\n",
       "    }\n",
       "\n",
       "    .dataframe tbody tr th {\n",
       "        vertical-align: top;\n",
       "    }\n",
       "\n",
       "    .dataframe thead th {\n",
       "        text-align: right;\n",
       "    }\n",
       "</style>\n",
       "<table border=\"1\" class=\"dataframe\">\n",
       "  <thead>\n",
       "    <tr style=\"text-align: right;\">\n",
       "      <th></th>\n",
       "      <th>text</th>\n",
       "      <th>agreeCount</th>\n",
       "      <th>disagreeCount</th>\n",
       "      <th>id</th>\n",
       "    </tr>\n",
       "  </thead>\n",
       "  <tbody>\n",
       "    <tr>\n",
       "      <th>0</th>\n",
       "      <td>They serve coffee!!!!!!</td>\n",
       "      <td>1</td>\n",
       "      <td>0</td>\n",
       "      <td>5accc98c0313204c9d7ec157</td>\n",
       "    </tr>\n",
       "    <tr>\n",
       "      <th>1</th>\n",
       "      <td>The linguine with clams is on point 👌</td>\n",
       "      <td>1</td>\n",
       "      <td>0</td>\n",
       "      <td>5accbe3a911fc423730f3ed3</td>\n",
       "    </tr>\n",
       "    <tr>\n",
       "      <th>2</th>\n",
       "      <td>Quick, cheap lunch that tastes good! Way shorter line than Chipotle, too.</td>\n",
       "      <td>2</td>\n",
       "      <td>0</td>\n",
       "      <td>5acbec70a0215b732e264fe8</td>\n",
       "    </tr>\n",
       "    <tr>\n",
       "      <th>3</th>\n",
       "      <td>You’re not a real New Yorker until you’ve shame-ordered Insomnia Cookies for delivery at 3am</td>\n",
       "      <td>1</td>\n",
       "      <td>0</td>\n",
       "      <td>5acbbd4eb1538e45373b07f5</td>\n",
       "    </tr>\n",
       "    <tr>\n",
       "      <th>4</th>\n",
       "      <td>Good for you yet still tasty! Clean green protein is my go-to after I hit the gym 💪</td>\n",
       "      <td>2</td>\n",
       "      <td>0</td>\n",
       "      <td>5acbbcda01235808d5d6dc75</td>\n",
       "    </tr>\n",
       "    <tr>\n",
       "      <th>5</th>\n",
       "      <td>Burger game strong 💪</td>\n",
       "      <td>1</td>\n",
       "      <td>0</td>\n",
       "      <td>5ab575fb6bdee65f759da8c1</td>\n",
       "    </tr>\n",
       "    <tr>\n",
       "      <th>6</th>\n",
       "      <td>Great burgers &amp; fries! Also, this place is exactly what it’s like when you go to a bar in the Southwest. Source: I’m from Arizona.</td>\n",
       "      <td>2</td>\n",
       "      <td>0</td>\n",
       "      <td>5ab5575d73fe2516ad8f363b</td>\n",
       "    </tr>\n",
       "    <tr>\n",
       "      <th>7</th>\n",
       "      <td>Açaí bowl + peanut butter + whey protein = 💪💪💪</td>\n",
       "      <td>1</td>\n",
       "      <td>0</td>\n",
       "      <td>5ab42db53c858d64af2688a4</td>\n",
       "    </tr>\n",
       "    <tr>\n",
       "      <th>8</th>\n",
       "      <td>Highly underrated and way less crowded than Central Park!</td>\n",
       "      <td>3</td>\n",
       "      <td>0</td>\n",
       "      <td>5ab42c396f706a29f53ad1a8</td>\n",
       "    </tr>\n",
       "    <tr>\n",
       "      <th>9</th>\n",
       "      <td>Way easier to navigate than the Met proper, plus the Met Breuer focuses on modern art. If I only have a limited amount of time to spend in a museum, I would rather go here than anywhere else!</td>\n",
       "      <td>6</td>\n",
       "      <td>0</td>\n",
       "      <td>5ab42b987dc9e17930e5ff5b</td>\n",
       "    </tr>\n",
       "    <tr>\n",
       "      <th>10</th>\n",
       "      <td>Get the açaí bowl with peanut butter after your work out and thank me later 👌</td>\n",
       "      <td>1</td>\n",
       "      <td>0</td>\n",
       "      <td>5ab42aca2a7ab6333652b266</td>\n",
       "    </tr>\n",
       "    <tr>\n",
       "      <th>11</th>\n",
       "      <td>When you want a burger, this should be the first thing that comes to mind. A+!</td>\n",
       "      <td>1</td>\n",
       "      <td>0</td>\n",
       "      <td>5ab42a28da5e5617d18e3a6a</td>\n",
       "    </tr>\n",
       "    <tr>\n",
       "      <th>12</th>\n",
       "      <td>Way less crowded than Central Park! People who live in the neighborhood rave about Carl Schurz Park.</td>\n",
       "      <td>3</td>\n",
       "      <td>0</td>\n",
       "      <td>5ab429db1ffe971b060083f5</td>\n",
       "    </tr>\n",
       "    <tr>\n",
       "      <th>13</th>\n",
       "      <td>The best Mexican food in the Murray Hill / Kips Bay area!</td>\n",
       "      <td>1</td>\n",
       "      <td>0</td>\n",
       "      <td>5ab3f53f8496ca57542d5549</td>\n",
       "    </tr>\n",
       "    <tr>\n",
       "      <th>14</th>\n",
       "      <td>Best coffee shop in the neighborhood!</td>\n",
       "      <td>1</td>\n",
       "      <td>0</td>\n",
       "      <td>5ab3f428da5e5617d17d1475</td>\n",
       "    </tr>\n",
       "    <tr>\n",
       "      <th>15</th>\n",
       "      <td>When there’s nice weather, the rooftop at Tonic East is the best place to watch the game. Perfect for March Madness &amp; NBA finals!</td>\n",
       "      <td>2</td>\n",
       "      <td>0</td>\n",
       "      <td>5ab3f3fedd70c572de886c9d</td>\n",
       "    </tr>\n",
       "    <tr>\n",
       "      <th>16</th>\n",
       "      <td>Rib game level 💯</td>\n",
       "      <td>1</td>\n",
       "      <td>0</td>\n",
       "      <td>5ab3f372da2e00604ca53924</td>\n",
       "    </tr>\n",
       "    <tr>\n",
       "      <th>17</th>\n",
       "      <td>Solid option for good Mexican food, which is hard to find in Murray Hill.</td>\n",
       "      <td>4</td>\n",
       "      <td>0</td>\n",
       "      <td>5ab3f275dff815096a61884e</td>\n",
       "    </tr>\n",
       "    <tr>\n",
       "      <th>18</th>\n",
       "      <td>My parents love this place. They always go here when they visit NYC, even though I tell them there are 5,689,097,788 other pizza places. They don’t dare. That has to count for something, right?</td>\n",
       "      <td>2</td>\n",
       "      <td>0</td>\n",
       "      <td>5ab3ef834c954c7a779e20ff</td>\n",
       "    </tr>\n",
       "  </tbody>\n",
       "</table>\n",
       "</div>"
      ],
      "text/plain": [
       "                                                                                                                                                                                                 text  \\\n",
       "0   They serve coffee!!!!!!                                                                                                                                                                             \n",
       "1   The linguine with clams is on point 👌                                                                                                                                                               \n",
       "2   Quick, cheap lunch that tastes good! Way shorter line than Chipotle, too.                                                                                                                           \n",
       "3   You’re not a real New Yorker until you’ve shame-ordered Insomnia Cookies for delivery at 3am                                                                                                        \n",
       "4   Good for you yet still tasty! Clean green protein is my go-to after I hit the gym 💪                                                                                                                 \n",
       "5   Burger game strong 💪                                                                                                                                                                                \n",
       "6   Great burgers & fries! Also, this place is exactly what it’s like when you go to a bar in the Southwest. Source: I’m from Arizona.                                                                  \n",
       "7   Açaí bowl + peanut butter + whey protein = 💪💪💪                                                                                                                                                      \n",
       "8   Highly underrated and way less crowded than Central Park!                                                                                                                                           \n",
       "9   Way easier to navigate than the Met proper, plus the Met Breuer focuses on modern art. If I only have a limited amount of time to spend in a museum, I would rather go here than anywhere else!     \n",
       "10  Get the açaí bowl with peanut butter after your work out and thank me later 👌                                                                                                                       \n",
       "11  When you want a burger, this should be the first thing that comes to mind. A+!                                                                                                                      \n",
       "12  Way less crowded than Central Park! People who live in the neighborhood rave about Carl Schurz Park.                                                                                                \n",
       "13  The best Mexican food in the Murray Hill / Kips Bay area!                                                                                                                                           \n",
       "14  Best coffee shop in the neighborhood!                                                                                                                                                               \n",
       "15  When there’s nice weather, the rooftop at Tonic East is the best place to watch the game. Perfect for March Madness & NBA finals!                                                                   \n",
       "16  Rib game level 💯                                                                                                                                                                                    \n",
       "17  Solid option for good Mexican food, which is hard to find in Murray Hill.                                                                                                                           \n",
       "18  My parents love this place. They always go here when they visit NYC, even though I tell them there are 5,689,097,788 other pizza places. They don’t dare. That has to count for something, right?   \n",
       "\n",
       "    agreeCount  disagreeCount                        id  \n",
       "0   1           0              5accc98c0313204c9d7ec157  \n",
       "1   1           0              5accbe3a911fc423730f3ed3  \n",
       "2   2           0              5acbec70a0215b732e264fe8  \n",
       "3   1           0              5acbbd4eb1538e45373b07f5  \n",
       "4   2           0              5acbbcda01235808d5d6dc75  \n",
       "5   1           0              5ab575fb6bdee65f759da8c1  \n",
       "6   2           0              5ab5575d73fe2516ad8f363b  \n",
       "7   1           0              5ab42db53c858d64af2688a4  \n",
       "8   3           0              5ab42c396f706a29f53ad1a8  \n",
       "9   6           0              5ab42b987dc9e17930e5ff5b  \n",
       "10  1           0              5ab42aca2a7ab6333652b266  \n",
       "11  1           0              5ab42a28da5e5617d18e3a6a  \n",
       "12  3           0              5ab429db1ffe971b060083f5  \n",
       "13  1           0              5ab3f53f8496ca57542d5549  \n",
       "14  1           0              5ab3f428da5e5617d17d1475  \n",
       "15  2           0              5ab3f3fedd70c572de886c9d  \n",
       "16  1           0              5ab3f372da2e00604ca53924  \n",
       "17  4           0              5ab3f275dff815096a61884e  \n",
       "18  2           0              5ab3ef834c954c7a779e20ff  "
      ]
     },
     "execution_count": 67,
     "metadata": {},
     "output_type": "execute_result"
    }
   ],
   "source": [
    "# define tips URL\n",
    "url = 'https://api.foursquare.com/v2/users/{}/tips?client_id={}&client_secret={}&v={}&limit={}'.format(user_id, CLIENT_ID, CLIENT_SECRET, VERSION, limit)\n",
    "\n",
    "# send GET request and get user's tips\n",
    "results = requests.get(url).json()\n",
    "tips = results['response']['tips']['items']\n",
    "\n",
    "# format column width\n",
    "pd.set_option('display.max_colwidth', -1)\n",
    "\n",
    "tips_df = json_normalize(tips)\n",
    "\n",
    "# filter columns\n",
    "filtered_columns = ['text', 'agreeCount', 'disagreeCount', 'id']\n",
    "tips_filtered = tips_df.loc[:, filtered_columns]\n",
    "\n",
    "# display user's tips\n",
    "tips_filtered"
   ]
  },
  {
   "cell_type": "markdown",
   "metadata": {
    "button": false,
    "new_sheet": false,
    "run_control": {
     "read_only": false
    }
   },
   "source": [
    "#### Let's get the venue for the tip with the greatest number of agree counts"
   ]
  },
  {
   "cell_type": "code",
   "execution_count": 68,
   "metadata": {
    "button": false,
    "new_sheet": false,
    "run_control": {
     "read_only": false
    }
   },
   "outputs": [
    {
     "name": "stdout",
     "output_type": "stream",
     "text": [
      "The Met Breuer\n",
      "{'address': '945 Madison Ave', 'crossStreet': 'at E 75th St', 'lat': 40.7735510352329, 'lng': -73.96422626639125, 'labeledLatLngs': [{'label': 'display', 'lat': 40.7735510352329, 'lng': -73.96422626639125}], 'postalCode': '10021', 'cc': 'US', 'city': 'New York', 'state': 'NY', 'country': 'United States', 'formattedAddress': ['945 Madison Ave (at E 75th St)', 'New York, NY 10021', 'United States']}\n"
     ]
    }
   ],
   "source": [
    "tip_id = '5ab42b987dc9e17930e5ff5b' # tip id\n",
    "\n",
    "# define URL\n",
    "url = 'http://api.foursquare.com/v2/tips/{}?client_id={}&client_secret={}&v={}'.format(tip_id, CLIENT_ID, CLIENT_SECRET, VERSION)\n",
    "\n",
    "# send GET Request and examine results\n",
    "result = requests.get(url).json()\n",
    "print(result['response']['tip']['venue']['name'])\n",
    "print(result['response']['tip']['venue']['location'])"
   ]
  },
  {
   "cell_type": "markdown",
   "metadata": {
    "button": false,
    "new_sheet": false,
    "run_control": {
     "read_only": false
    }
   },
   "source": [
    "### Get User's friends"
   ]
  },
  {
   "cell_type": "code",
   "execution_count": 71,
   "metadata": {
    "button": false,
    "new_sheet": false,
    "run_control": {
     "read_only": false
    },
    "scrolled": false
   },
   "outputs": [
    {
     "name": "stderr",
     "output_type": "stream",
     "text": [
      "/home/apu/anaconda3/lib/python3.7/site-packages/ipykernel_launcher.py:1: FutureWarning: pandas.io.json.json_normalize is deprecated, use pandas.json_normalize instead\n",
      "  \"\"\"Entry point for launching an IPython kernel.\n"
     ]
    },
    {
     "data": {
      "text/html": [
       "<div>\n",
       "<style scoped>\n",
       "    .dataframe tbody tr th:only-of-type {\n",
       "        vertical-align: middle;\n",
       "    }\n",
       "\n",
       "    .dataframe tbody tr th {\n",
       "        vertical-align: top;\n",
       "    }\n",
       "\n",
       "    .dataframe thead th {\n",
       "        text-align: right;\n",
       "    }\n",
       "</style>\n",
       "<table border=\"1\" class=\"dataframe\">\n",
       "  <thead>\n",
       "    <tr style=\"text-align: right;\">\n",
       "      <th></th>\n",
       "    </tr>\n",
       "  </thead>\n",
       "  <tbody>\n",
       "  </tbody>\n",
       "</table>\n",
       "</div>"
      ],
      "text/plain": [
       "Empty DataFrame\n",
       "Columns: []\n",
       "Index: []"
      ]
     },
     "execution_count": 71,
     "metadata": {},
     "output_type": "execute_result"
    }
   ],
   "source": [
    "user_friends = json_normalize(user_data['friends']['groups'][0]['items'])\n",
    "user_friends"
   ]
  },
  {
   "cell_type": "markdown",
   "metadata": {
    "button": false,
    "new_sheet": false,
    "run_control": {
     "read_only": false
    }
   },
   "source": [
    "Interesting. Despite being very active, it turns out that Nick does not have any friends on Foursquare. This might definitely change in the future."
   ]
  },
  {
   "cell_type": "markdown",
   "metadata": {
    "button": false,
    "new_sheet": false,
    "run_control": {
     "read_only": false
    }
   },
   "source": [
    "### Retrieve the User's Profile Image"
   ]
  },
  {
   "cell_type": "code",
   "execution_count": 72,
   "metadata": {
    "button": false,
    "new_sheet": false,
    "run_control": {
     "read_only": false
    },
    "scrolled": true
   },
   "outputs": [
    {
     "data": {
      "text/plain": [
       "{'id': '484542633',\n",
       " 'firstName': 'Nick',\n",
       " 'lastName': 'El-Tawil',\n",
       " 'gender': 'male',\n",
       " 'canonicalUrl': 'https://foursquare.com/user/484542633',\n",
       " 'photo': {'prefix': 'https://fastly.4sqi.net/img/user/',\n",
       "  'suffix': '/484542633_unymNUmw_FdPs3GjXHujmHcYnN4hf8kEPADlOZuIrdcdm97VX3tFqL7fFNMNA_8Gl9NlU1GYg.jpg'},\n",
       " 'friends': {'count': 0,\n",
       "  'groups': [{'type': 'friends',\n",
       "    'name': 'Mutual friends',\n",
       "    'count': 0,\n",
       "    'items': []},\n",
       "   {'type': 'others', 'name': 'Other friends', 'count': 0, 'items': []}]},\n",
       " 'tips': {'count': 99},\n",
       " 'homeCity': 'New York, NY',\n",
       " 'bio': 'https://www.tawil.team/nick-el-tawil/',\n",
       " 'contact': {'twitter': 'nickeltawil'},\n",
       " 'photos': {'count': 2,\n",
       "  'items': [{'id': '5e41a7ce346b7c00085b0f70',\n",
       "    'createdAt': 1581361102,\n",
       "    'source': {'name': 'Foursquare for iOS',\n",
       "     'url': 'https://foursquare.com/download/#/iphone'},\n",
       "    'prefix': 'https://fastly.4sqi.net/img/general/',\n",
       "    'suffix': '/484542633_cF12vc8JQJTd-hyznst-CsHHTdSoi4XwCGKhTuQXNfo.jpg',\n",
       "    'width': 1440,\n",
       "    'height': 1440,\n",
       "    'visibility': 'public',\n",
       "    'venue': {'id': '5ab194451ffed736e329b365',\n",
       "     'name': 'Tawil & Team',\n",
       "     'location': {'address': '413 W 14th St # 200',\n",
       "      'crossStreet': '9th Avenue',\n",
       "      'lat': 40.739614,\n",
       "      'lng': -74.005877,\n",
       "      'labeledLatLngs': [{'label': 'display',\n",
       "        'lat': 40.739614,\n",
       "        'lng': -74.005877}],\n",
       "      'postalCode': '10014',\n",
       "      'cc': 'US',\n",
       "      'city': 'New York',\n",
       "      'state': 'NY',\n",
       "      'country': 'United States',\n",
       "      'formattedAddress': ['413 W 14th St # 200 (9th Avenue)',\n",
       "       'New York, NY 10014']},\n",
       "     'categories': [{'id': '5032885091d4c4b30a586d66',\n",
       "       'name': 'Real Estate Office',\n",
       "       'pluralName': 'Real Estate Offices',\n",
       "       'shortName': 'Real Estate',\n",
       "       'icon': {'prefix': 'https://ss3.4sqi.net/img/categories_v2/shops/realestate_',\n",
       "        'suffix': '.png'},\n",
       "       'primary': True}],\n",
       "     'like': False}}]},\n",
       " 'checkinPings': 'off',\n",
       " 'pings': False,\n",
       " 'type': 'user',\n",
       " 'mayorships': {'count': 0, 'items': []},\n",
       " 'checkins': {'count': 1, 'items': []},\n",
       " 'lists': {'count': 2,\n",
       "  'groups': [{'type': 'created', 'count': 0, 'items': []},\n",
       "   {'type': 'followed', 'count': 0, 'items': []},\n",
       "   {'type': 'yours',\n",
       "    'count': 2,\n",
       "    'items': [{'id': '484542633/todos',\n",
       "      'name': \"Nick's Saved Places\",\n",
       "      'description': '',\n",
       "      'type': 'todos',\n",
       "      'editable': False,\n",
       "      'public': True,\n",
       "      'collaborative': False,\n",
       "      'url': '/nickeltawil/list/todos',\n",
       "      'canonicalUrl': 'https://foursquare.com/nickeltawil/list/todos',\n",
       "      'listItems': {'count': 1}},\n",
       "     {'id': '484542633/venuelikes',\n",
       "      'name': 'Nick’s Liked Places',\n",
       "      'description': '',\n",
       "      'type': 'likes',\n",
       "      'editable': False,\n",
       "      'public': True,\n",
       "      'collaborative': False,\n",
       "      'url': '/nickeltawil/list/venuelikes',\n",
       "      'canonicalUrl': 'https://foursquare.com/nickeltawil/list/venuelikes',\n",
       "      'listItems': {'count': 0}}]}]},\n",
       " 'blockedStatus': 'none',\n",
       " 'lenses': []}"
      ]
     },
     "execution_count": 72,
     "metadata": {},
     "output_type": "execute_result"
    }
   ],
   "source": [
    "user_data"
   ]
  },
  {
   "cell_type": "code",
   "execution_count": 75,
   "metadata": {
    "button": false,
    "new_sheet": false,
    "run_control": {
     "read_only": false
    }
   },
   "outputs": [
    {
     "data": {
      "text/html": [
       "<img src=\"https://igx.4sqi.net/img/user/300x300/484542633_mK2Yum7T_7Tn9fWpndidJsmw2Hof_6T5vJBKCHPLMK5OL-U5ZiJGj51iwBstcpDLYa3Zvhvis.jpg\"/>"
      ],
      "text/plain": [
       "<IPython.core.display.Image object>"
      ]
     },
     "execution_count": 75,
     "metadata": {},
     "output_type": "execute_result"
    }
   ],
   "source": [
    "# 1. grab prefix of photo\n",
    "# 2. grab suffix of photo\n",
    "# 3. concatenate them using the image size  \n",
    "Image(url='https://igx.4sqi.net/img/user/300x300/484542633_mK2Yum7T_7Tn9fWpndidJsmw2Hof_6T5vJBKCHPLMK5OL-U5ZiJGj51iwBstcpDLYa3Zvhvis.jpg')"
   ]
  },
  {
   "cell_type": "markdown",
   "metadata": {
    "button": false,
    "new_sheet": false,
    "run_control": {
     "read_only": false
    }
   },
   "source": [
    "  "
   ]
  },
  {
   "cell_type": "markdown",
   "metadata": {
    "button": false,
    "new_sheet": false,
    "run_control": {
     "read_only": false
    }
   },
   "source": [
    "<a id=\"item4\"></a>"
   ]
  },
  {
   "cell_type": "markdown",
   "metadata": {
    "button": false,
    "new_sheet": false,
    "run_control": {
     "read_only": false
    }
   },
   "source": [
    "## 4. Explore a location\n",
    "> `https://api.foursquare.com/v2/venues/`**explore**`?client_id=`**CLIENT_ID**`&client_secret=`**CLIENT_SECRET**`&ll=`**LATITUDE**`,`**LONGITUDE**`&v=`**VERSION**`&limit=`**LIMIT**"
   ]
  },
  {
   "cell_type": "markdown",
   "metadata": {
    "button": false,
    "new_sheet": false,
    "run_control": {
     "read_only": false
    }
   },
   "source": [
    "#### So, you just finished your gourmet dish at Ecco, and are just curious about the popular spots around the restaurant. In order to explore the area, let's start by getting the latitude and longitude values of Ecco Restaurant."
   ]
  },
  {
   "cell_type": "code",
   "execution_count": 91,
   "metadata": {
    "button": false,
    "new_sheet": false,
    "run_control": {
     "read_only": false
    }
   },
   "outputs": [],
   "source": [
    "latitude = 40.715337\n",
    "longitude = -74.008848"
   ]
  },
  {
   "cell_type": "markdown",
   "metadata": {
    "button": false,
    "new_sheet": false,
    "run_control": {
     "read_only": false
    }
   },
   "source": [
    "#### Define URL"
   ]
  },
  {
   "cell_type": "code",
   "execution_count": 92,
   "metadata": {
    "button": false,
    "new_sheet": false,
    "run_control": {
     "read_only": false
    }
   },
   "outputs": [
    {
     "data": {
      "text/plain": [
       "'https://api.foursquare.com/v2/venues/explore?client_id=X5OBM0WZCSVVJASBUED5CUOTIGF3D4UKUTXLQ3G44JTG3RLU&client_secret=4OMKQ2OOFVOV1BC1ZMQAHN0QZAPUICT3SOUAI2TKDMF4ZEBB&ll=40.715337,-74.008848&v=20180604&radius=500&limit=30'"
      ]
     },
     "execution_count": 92,
     "metadata": {},
     "output_type": "execute_result"
    }
   ],
   "source": [
    "url = 'https://api.foursquare.com/v2/venues/explore?client_id={}&client_secret={}&ll={},{}&v={}&radius={}&limit={}'.format(CLIENT_ID, CLIENT_SECRET, latitude, longitude, VERSION, radius, LIMIT)\n",
    "url"
   ]
  },
  {
   "cell_type": "markdown",
   "metadata": {
    "button": false,
    "new_sheet": false,
    "run_control": {
     "read_only": false
    }
   },
   "source": [
    "#### Send GET request and examine results"
   ]
  },
  {
   "cell_type": "code",
   "execution_count": 93,
   "metadata": {
    "button": false,
    "new_sheet": false,
    "run_control": {
     "read_only": false
    }
   },
   "outputs": [],
   "source": [
    "import requests"
   ]
  },
  {
   "cell_type": "code",
   "execution_count": 94,
   "metadata": {
    "button": false,
    "new_sheet": false,
    "run_control": {
     "read_only": false
    }
   },
   "outputs": [
    {
     "data": {
      "text/plain": [
       "'There are 30 around Ecco restaurant.'"
      ]
     },
     "execution_count": 94,
     "metadata": {},
     "output_type": "execute_result"
    }
   ],
   "source": [
    "results = requests.get(url).json()\n",
    "'There are {} around Ecco restaurant.'.format(len(results['response']['groups'][0]['items']))"
   ]
  },
  {
   "cell_type": "markdown",
   "metadata": {
    "button": false,
    "new_sheet": false,
    "run_control": {
     "read_only": false
    }
   },
   "source": [
    "#### Get relevant part of JSON"
   ]
  },
  {
   "cell_type": "code",
   "execution_count": 83,
   "metadata": {
    "button": false,
    "new_sheet": false,
    "run_control": {
     "read_only": false
    }
   },
   "outputs": [
    {
     "data": {
      "text/plain": [
       "[{'reasons': {'count': 0,\n",
       "   'items': [{'summary': 'This spot is popular',\n",
       "     'type': 'general',\n",
       "     'reasonName': 'globalInteractionReason'}]},\n",
       "  'venue': {'id': '4af5d65ff964a52091fd21e3',\n",
       "   'name': 'Korin',\n",
       "   'location': {'address': '57 Warren St',\n",
       "    'crossStreet': 'Church St',\n",
       "    'lat': 40.71482437714839,\n",
       "    'lng': -74.00940425461492,\n",
       "    'labeledLatLngs': [{'label': 'display',\n",
       "      'lat': 40.71482437714839,\n",
       "      'lng': -74.00940425461492},\n",
       "     {'label': '?', 'lat': 40.714727, 'lng': -74.009399}],\n",
       "    'distance': 73,\n",
       "    'postalCode': '10007',\n",
       "    'cc': 'US',\n",
       "    'neighborhood': 'Tribeca',\n",
       "    'city': 'New York',\n",
       "    'state': 'NY',\n",
       "    'country': 'United States',\n",
       "    'formattedAddress': ['57 Warren St (Church St)',\n",
       "     'New York, NY 10007',\n",
       "     'United States']},\n",
       "   'categories': [{'id': '4bf58dd8d48988d1f8941735',\n",
       "     'name': 'Furniture / Home Store',\n",
       "     'pluralName': 'Furniture / Home Stores',\n",
       "     'shortName': 'Furniture / Home',\n",
       "     'icon': {'prefix': 'https://ss3.4sqi.net/img/categories_v2/shops/furniture_',\n",
       "      'suffix': '.png'},\n",
       "     'primary': True}],\n",
       "   'photos': {'count': 0, 'groups': []},\n",
       "   'venuePage': {'id': '33104775'}},\n",
       "  'referralId': 'e-0-4af5d65ff964a52091fd21e3-0'},\n",
       " {'reasons': {'count': 0,\n",
       "   'items': [{'summary': 'This spot is popular',\n",
       "     'type': 'general',\n",
       "     'reasonName': 'globalInteractionReason'}]},\n",
       "  'venue': {'id': '5d5f24ec09484500079aee00',\n",
       "   'name': 'Los Tacos No. 1',\n",
       "   'location': {'address': '136 Church St',\n",
       "    'lat': 40.714267,\n",
       "    'lng': -74.008756,\n",
       "    'labeledLatLngs': [{'label': 'display',\n",
       "      'lat': 40.714267,\n",
       "      'lng': -74.008756}],\n",
       "    'distance': 119,\n",
       "    'postalCode': '10007',\n",
       "    'cc': 'US',\n",
       "    'city': 'New York',\n",
       "    'state': 'NY',\n",
       "    'country': 'United States',\n",
       "    'formattedAddress': ['136 Church St',\n",
       "     'New York, NY 10007',\n",
       "     'United States']},\n",
       "   'categories': [{'id': '4bf58dd8d48988d151941735',\n",
       "     'name': 'Taco Place',\n",
       "     'pluralName': 'Taco Places',\n",
       "     'shortName': 'Tacos',\n",
       "     'icon': {'prefix': 'https://ss3.4sqi.net/img/categories_v2/food/taco_',\n",
       "      'suffix': '.png'},\n",
       "     'primary': True}],\n",
       "   'photos': {'count': 0, 'groups': []}},\n",
       "  'referralId': 'e-0-5d5f24ec09484500079aee00-1'},\n",
       " {'reasons': {'count': 0,\n",
       "   'items': [{'summary': 'This spot is popular',\n",
       "     'type': 'general',\n",
       "     'reasonName': 'globalInteractionReason'}]},\n",
       "  'venue': {'id': '4c154c9a77cea593c401d260',\n",
       "   'name': 'Takahachi Bakery',\n",
       "   'location': {'address': '25 Murray St',\n",
       "    'crossStreet': 'at Church St',\n",
       "    'lat': 40.713652845301894,\n",
       "    'lng': -74.0088038953017,\n",
       "    'labeledLatLngs': [{'label': 'display',\n",
       "      'lat': 40.713652845301894,\n",
       "      'lng': -74.0088038953017},\n",
       "     {'label': '?', 'lat': 40.713716, 'lng': -74.008443}],\n",
       "    'distance': 187,\n",
       "    'postalCode': '10007',\n",
       "    'cc': 'US',\n",
       "    'city': 'New York',\n",
       "    'state': 'NY',\n",
       "    'country': 'United States',\n",
       "    'formattedAddress': ['25 Murray St (at Church St)',\n",
       "     'New York, NY 10007',\n",
       "     'United States']},\n",
       "   'categories': [{'id': '4bf58dd8d48988d16a941735',\n",
       "     'name': 'Bakery',\n",
       "     'pluralName': 'Bakeries',\n",
       "     'shortName': 'Bakery',\n",
       "     'icon': {'prefix': 'https://ss3.4sqi.net/img/categories_v2/food/bakery_',\n",
       "      'suffix': '.png'},\n",
       "     'primary': True}],\n",
       "   'photos': {'count': 0, 'groups': []},\n",
       "   'venuePage': {'id': '85495566'}},\n",
       "  'referralId': 'e-0-4c154c9a77cea593c401d260-2'},\n",
       " {'reasons': {'count': 0,\n",
       "   'items': [{'summary': 'This spot is popular',\n",
       "     'type': 'general',\n",
       "     'reasonName': 'globalInteractionReason'}]},\n",
       "  'venue': {'id': '4adcf23cf964a520cc6221e3',\n",
       "   'name': 'Chambers Street Wines',\n",
       "   'location': {'address': '148 Chambers St',\n",
       "    'crossStreet': 'btwn West Broadway & Hudson St',\n",
       "    'lat': 40.715773063928374,\n",
       "    'lng': -74.00971823312332,\n",
       "    'labeledLatLngs': [{'label': 'display',\n",
       "      'lat': 40.715773063928374,\n",
       "      'lng': -74.00971823312332},\n",
       "     {'label': '?', 'lat': 40.715696, 'lng': -74.00988}],\n",
       "    'distance': 88,\n",
       "    'postalCode': '10007',\n",
       "    'cc': 'US',\n",
       "    'city': 'New York',\n",
       "    'state': 'NY',\n",
       "    'country': 'United States',\n",
       "    'formattedAddress': ['148 Chambers St (btwn West Broadway & Hudson St)',\n",
       "     'New York, NY 10007',\n",
       "     'United States']},\n",
       "   'categories': [{'id': '4bf58dd8d48988d119951735',\n",
       "     'name': 'Wine Shop',\n",
       "     'pluralName': 'Wine Shops',\n",
       "     'shortName': 'Wine Shop',\n",
       "     'icon': {'prefix': 'https://ss3.4sqi.net/img/categories_v2/shops/food_wineshop_',\n",
       "      'suffix': '.png'},\n",
       "     'primary': True}],\n",
       "   'photos': {'count': 0, 'groups': []}},\n",
       "  'referralId': 'e-0-4adcf23cf964a520cc6221e3-3'},\n",
       " {'reasons': {'count': 0,\n",
       "   'items': [{'summary': 'This spot is popular',\n",
       "     'type': 'general',\n",
       "     'reasonName': 'globalInteractionReason'}]},\n",
       "  'venue': {'id': '54148bc6498ea7bb8c05b70a',\n",
       "   'name': 'Juice Press',\n",
       "   'location': {'address': '83 Murray St',\n",
       "    'crossStreet': 'btwn Greenwich St & W Broadway',\n",
       "    'lat': 40.71478769908051,\n",
       "    'lng': -74.0111317502157,\n",
       "    'labeledLatLngs': [{'label': 'display',\n",
       "      'lat': 40.71478769908051,\n",
       "      'lng': -74.0111317502157}],\n",
       "    'distance': 202,\n",
       "    'postalCode': '10007',\n",
       "    'cc': 'US',\n",
       "    'city': 'New York',\n",
       "    'state': 'NY',\n",
       "    'country': 'United States',\n",
       "    'formattedAddress': ['83 Murray St (btwn Greenwich St & W Broadway)',\n",
       "     'New York, NY 10007',\n",
       "     'United States']},\n",
       "   'categories': [{'id': '4bf58dd8d48988d1d3941735',\n",
       "     'name': 'Vegetarian / Vegan Restaurant',\n",
       "     'pluralName': 'Vegetarian / Vegan Restaurants',\n",
       "     'shortName': 'Vegetarian / Vegan',\n",
       "     'icon': {'prefix': 'https://ss3.4sqi.net/img/categories_v2/food/vegetarian_',\n",
       "      'suffix': '.png'},\n",
       "     'primary': True}],\n",
       "   'photos': {'count': 0, 'groups': []}},\n",
       "  'referralId': 'e-0-54148bc6498ea7bb8c05b70a-4'},\n",
       " {'reasons': {'count': 0,\n",
       "   'items': [{'summary': 'This spot is popular',\n",
       "     'type': 'general',\n",
       "     'reasonName': 'globalInteractionReason'}]},\n",
       "  'venue': {'id': '4a8f2f39f964a520471420e3',\n",
       "   'name': 'Takahachi',\n",
       "   'location': {'address': '145 Duane St',\n",
       "    'crossStreet': 'btwn W Broadway & Church St',\n",
       "    'lat': 40.71652647412374,\n",
       "    'lng': -74.00810108466207,\n",
       "    'labeledLatLngs': [{'label': 'display',\n",
       "      'lat': 40.71652647412374,\n",
       "      'lng': -74.00810108466207},\n",
       "     {'label': '?', 'lat': 40.716508, 'lng': -74.007989}],\n",
       "    'distance': 146,\n",
       "    'postalCode': '10013',\n",
       "    'cc': 'US',\n",
       "    'city': 'New York',\n",
       "    'state': 'NY',\n",
       "    'country': 'United States',\n",
       "    'formattedAddress': ['145 Duane St (btwn W Broadway & Church St)',\n",
       "     'New York, NY 10013',\n",
       "     'United States']},\n",
       "   'categories': [{'id': '4bf58dd8d48988d1d2941735',\n",
       "     'name': 'Sushi Restaurant',\n",
       "     'pluralName': 'Sushi Restaurants',\n",
       "     'shortName': 'Sushi',\n",
       "     'icon': {'prefix': 'https://ss3.4sqi.net/img/categories_v2/food/sushi_',\n",
       "      'suffix': '.png'},\n",
       "     'primary': True}],\n",
       "   'photos': {'count': 0, 'groups': []}},\n",
       "  'referralId': 'e-0-4a8f2f39f964a520471420e3-5'},\n",
       " {'reasons': {'count': 0,\n",
       "   'items': [{'summary': 'This spot is popular',\n",
       "     'type': 'general',\n",
       "     'reasonName': 'globalInteractionReason'}]},\n",
       "  'venue': {'id': '4a6e331af964a52031d41fe3',\n",
       "   'name': 'Equinox Tribeca',\n",
       "   'location': {'address': '54 Murray St',\n",
       "    'crossStreet': 'at W Broadway',\n",
       "    'lat': 40.71409860726041,\n",
       "    'lng': -74.0096857179283,\n",
       "    'labeledLatLngs': [{'label': 'display',\n",
       "      'lat': 40.71409860726041,\n",
       "      'lng': -74.0096857179283}],\n",
       "    'distance': 154,\n",
       "    'postalCode': '10007',\n",
       "    'cc': 'US',\n",
       "    'city': 'New York',\n",
       "    'state': 'NY',\n",
       "    'country': 'United States',\n",
       "    'formattedAddress': ['54 Murray St (at W Broadway)',\n",
       "     'New York, NY 10007',\n",
       "     'United States']},\n",
       "   'categories': [{'id': '4bf58dd8d48988d176941735',\n",
       "     'name': 'Gym',\n",
       "     'pluralName': 'Gyms',\n",
       "     'shortName': 'Gym',\n",
       "     'icon': {'prefix': 'https://ss3.4sqi.net/img/categories_v2/building/gym_',\n",
       "      'suffix': '.png'},\n",
       "     'primary': True}],\n",
       "   'photos': {'count': 0, 'groups': []}},\n",
       "  'referralId': 'e-0-4a6e331af964a52031d41fe3-6'},\n",
       " {'reasons': {'count': 0,\n",
       "   'items': [{'summary': 'This spot is popular',\n",
       "     'type': 'general',\n",
       "     'reasonName': 'globalInteractionReason'}]},\n",
       "  'venue': {'id': '49bc3b0af964a52020541fe3',\n",
       "   'name': 'Whole Foods Market',\n",
       "   'location': {'address': '270 Greenwich Street',\n",
       "    'crossStreet': 'at Warren St',\n",
       "    'lat': 40.715579155420606,\n",
       "    'lng': -74.01136823958119,\n",
       "    'labeledLatLngs': [{'label': 'display',\n",
       "      'lat': 40.715579155420606,\n",
       "      'lng': -74.01136823958119}],\n",
       "    'distance': 214,\n",
       "    'postalCode': '10007',\n",
       "    'cc': 'US',\n",
       "    'neighborhood': 'Tribeca',\n",
       "    'city': 'New York',\n",
       "    'state': 'NY',\n",
       "    'country': 'United States',\n",
       "    'formattedAddress': ['270 Greenwich Street (at Warren St)',\n",
       "     'New York, NY 10007',\n",
       "     'United States']},\n",
       "   'categories': [{'id': '4bf58dd8d48988d118951735',\n",
       "     'name': 'Grocery Store',\n",
       "     'pluralName': 'Grocery Stores',\n",
       "     'shortName': 'Grocery Store',\n",
       "     'icon': {'prefix': 'https://ss3.4sqi.net/img/categories_v2/shops/food_grocery_',\n",
       "      'suffix': '.png'},\n",
       "     'primary': True}],\n",
       "   'photos': {'count': 0, 'groups': []}},\n",
       "  'referralId': 'e-0-49bc3b0af964a52020541fe3-7'},\n",
       " {'reasons': {'count': 0,\n",
       "   'items': [{'summary': 'This spot is popular',\n",
       "     'type': 'general',\n",
       "     'reasonName': 'globalInteractionReason'}]},\n",
       "  'venue': {'id': '53910ac3498e57a5dc0eb160',\n",
       "   'name': 'Exceed Physical Culture',\n",
       "   'location': {'address': '97 Reade St',\n",
       "    'crossStreet': 'bet W Broadway & Church St',\n",
       "    'lat': 40.7156286200256,\n",
       "    'lng': -74.0079922583853,\n",
       "    'labeledLatLngs': [{'label': 'display',\n",
       "      'lat': 40.7156286200256,\n",
       "      'lng': -74.0079922583853},\n",
       "     {'label': '?', 'lat': 40.715589, 'lng': -74.008105}],\n",
       "    'distance': 79,\n",
       "    'postalCode': '10013',\n",
       "    'cc': 'US',\n",
       "    'neighborhood': 'Tribeca',\n",
       "    'city': 'New York',\n",
       "    'state': 'NY',\n",
       "    'country': 'United States',\n",
       "    'formattedAddress': ['97 Reade St (bet W Broadway & Church St)',\n",
       "     'New York, NY 10013',\n",
       "     'United States']},\n",
       "   'categories': [{'id': '4bf58dd8d48988d175941735',\n",
       "     'name': 'Gym / Fitness Center',\n",
       "     'pluralName': 'Gyms or Fitness Centers',\n",
       "     'shortName': 'Gym / Fitness',\n",
       "     'icon': {'prefix': 'https://ss3.4sqi.net/img/categories_v2/building/gym_',\n",
       "      'suffix': '.png'},\n",
       "     'primary': True}],\n",
       "   'photos': {'count': 0, 'groups': []}},\n",
       "  'referralId': 'e-0-53910ac3498e57a5dc0eb160-8'},\n",
       " {'reasons': {'count': 0,\n",
       "   'items': [{'summary': 'This spot is popular',\n",
       "     'type': 'general',\n",
       "     'reasonName': 'globalInteractionReason'}]},\n",
       "  'venue': {'id': '50ba9119e4b071a4bae6dc10',\n",
       "   'name': 'Nish Nūsh',\n",
       "   'location': {'address': '88 Reade St',\n",
       "    'crossStreet': 'at Church St',\n",
       "    'lat': 40.71553710116416,\n",
       "    'lng': -74.00772452925565,\n",
       "    'labeledLatLngs': [{'label': 'display',\n",
       "      'lat': 40.71553710116416,\n",
       "      'lng': -74.00772452925565},\n",
       "     {'label': '?', 'lat': 40.715615, 'lng': -74.00773}],\n",
       "    'distance': 97,\n",
       "    'postalCode': '10013',\n",
       "    'cc': 'US',\n",
       "    'city': 'New York',\n",
       "    'state': 'NY',\n",
       "    'country': 'United States',\n",
       "    'formattedAddress': ['88 Reade St (at Church St)',\n",
       "     'New York, NY 10013',\n",
       "     'United States']},\n",
       "   'categories': [{'id': '4bf58dd8d48988d10b941735',\n",
       "     'name': 'Falafel Restaurant',\n",
       "     'pluralName': 'Falafel Restaurants',\n",
       "     'shortName': 'Falafel',\n",
       "     'icon': {'prefix': 'https://ss3.4sqi.net/img/categories_v2/food/falafel_',\n",
       "      'suffix': '.png'},\n",
       "     'primary': True}],\n",
       "   'photos': {'count': 0, 'groups': []},\n",
       "   'venuePage': {'id': '93083181'}},\n",
       "  'referralId': 'e-0-50ba9119e4b071a4bae6dc10-9'},\n",
       " {'reasons': {'count': 0,\n",
       "   'items': [{'summary': 'This spot is popular',\n",
       "     'type': 'general',\n",
       "     'reasonName': 'globalInteractionReason'}]},\n",
       "  'venue': {'id': '4dadcb124df0522cc5622202',\n",
       "   'name': \"Tiny's and the Bar Upstairs\",\n",
       "   'location': {'address': '135 W Broadway',\n",
       "    'crossStreet': 'between Duane St & Thomas St',\n",
       "    'lat': 40.71679304855808,\n",
       "    'lng': -74.00821998878457,\n",
       "    'labeledLatLngs': [{'label': 'display',\n",
       "      'lat': 40.71679304855808,\n",
       "      'lng': -74.00821998878457}],\n",
       "    'distance': 170,\n",
       "    'postalCode': '10013',\n",
       "    'cc': 'US',\n",
       "    'city': 'New York',\n",
       "    'state': 'NY',\n",
       "    'country': 'United States',\n",
       "    'formattedAddress': ['135 W Broadway (between Duane St & Thomas St)',\n",
       "     'New York, NY 10013',\n",
       "     'United States']},\n",
       "   'categories': [{'id': '4bf58dd8d48988d14e941735',\n",
       "     'name': 'American Restaurant',\n",
       "     'pluralName': 'American Restaurants',\n",
       "     'shortName': 'American',\n",
       "     'icon': {'prefix': 'https://ss3.4sqi.net/img/categories_v2/food/default_',\n",
       "      'suffix': '.png'},\n",
       "     'primary': True}],\n",
       "   'photos': {'count': 0, 'groups': []},\n",
       "   'venuePage': {'id': '84453413'}},\n",
       "  'referralId': 'e-0-4dadcb124df0522cc5622202-10'},\n",
       " {'reasons': {'count': 0,\n",
       "   'items': [{'summary': 'This spot is popular',\n",
       "     'type': 'general',\n",
       "     'reasonName': 'globalInteractionReason'}]},\n",
       "  'venue': {'id': '3fd66200f964a52083e61ee3',\n",
       "   'name': 'The Odeon',\n",
       "   'location': {'address': '145 W Broadway',\n",
       "    'crossStreet': 'at Thomas St',\n",
       "    'lat': 40.71701011409906,\n",
       "    'lng': -74.00804244562225,\n",
       "    'labeledLatLngs': [{'label': 'display',\n",
       "      'lat': 40.71701011409906,\n",
       "      'lng': -74.00804244562225}],\n",
       "    'distance': 198,\n",
       "    'postalCode': '10013',\n",
       "    'cc': 'US',\n",
       "    'city': 'New York',\n",
       "    'state': 'NY',\n",
       "    'country': 'United States',\n",
       "    'formattedAddress': ['145 W Broadway (at Thomas St)',\n",
       "     'New York, NY 10013',\n",
       "     'United States']},\n",
       "   'categories': [{'id': '4bf58dd8d48988d10c941735',\n",
       "     'name': 'French Restaurant',\n",
       "     'pluralName': 'French Restaurants',\n",
       "     'shortName': 'French',\n",
       "     'icon': {'prefix': 'https://ss3.4sqi.net/img/categories_v2/food/french_',\n",
       "      'suffix': '.png'},\n",
       "     'primary': True}],\n",
       "   'photos': {'count': 0, 'groups': []},\n",
       "   'venuePage': {'id': '97281190'}},\n",
       "  'referralId': 'e-0-3fd66200f964a52083e61ee3-11'},\n",
       " {'reasons': {'count': 0,\n",
       "   'items': [{'summary': 'This spot is popular',\n",
       "     'type': 'general',\n",
       "     'reasonName': 'globalInteractionReason'}]},\n",
       "  'venue': {'id': '534c9d7b498e1bdd443a40e1',\n",
       "   'name': 'Racines',\n",
       "   'location': {'address': '94 Chambers St',\n",
       "    'lat': 40.714754151461236,\n",
       "    'lng': -74.0075806002039,\n",
       "    'labeledLatLngs': [{'label': 'display',\n",
       "      'lat': 40.714754151461236,\n",
       "      'lng': -74.0075806002039}],\n",
       "    'distance': 125,\n",
       "    'postalCode': '10007',\n",
       "    'cc': 'US',\n",
       "    'city': 'New York',\n",
       "    'state': 'NY',\n",
       "    'country': 'United States',\n",
       "    'formattedAddress': ['94 Chambers St',\n",
       "     'New York, NY 10007',\n",
       "     'United States']},\n",
       "   'categories': [{'id': '4bf58dd8d48988d10c941735',\n",
       "     'name': 'French Restaurant',\n",
       "     'pluralName': 'French Restaurants',\n",
       "     'shortName': 'French',\n",
       "     'icon': {'prefix': 'https://ss3.4sqi.net/img/categories_v2/food/french_',\n",
       "      'suffix': '.png'},\n",
       "     'primary': True}],\n",
       "   'photos': {'count': 0, 'groups': []}},\n",
       "  'referralId': 'e-0-534c9d7b498e1bdd443a40e1-12'},\n",
       " {'reasons': {'count': 0,\n",
       "   'items': [{'summary': 'This spot is popular',\n",
       "     'type': 'general',\n",
       "     'reasonName': 'globalInteractionReason'}]},\n",
       "  'venue': {'id': '4a4baaf8f964a52091ac1fe3',\n",
       "   'name': \"Zucker's Bagels & Smoked Fish\",\n",
       "   'location': {'address': '146 Chambers St',\n",
       "    'crossStreet': 'btwn W. Broadway & Greenwich St',\n",
       "    'lat': 40.71558,\n",
       "    'lng': -74.00985,\n",
       "    'labeledLatLngs': [{'label': 'display',\n",
       "      'lat': 40.71558,\n",
       "      'lng': -74.00985}],\n",
       "    'distance': 88,\n",
       "    'postalCode': '10007',\n",
       "    'cc': 'US',\n",
       "    'city': 'New York',\n",
       "    'state': 'NY',\n",
       "    'country': 'United States',\n",
       "    'formattedAddress': ['146 Chambers St (btwn W. Broadway & Greenwich St)',\n",
       "     'New York, NY 10007',\n",
       "     'United States']},\n",
       "   'categories': [{'id': '4bf58dd8d48988d179941735',\n",
       "     'name': 'Bagel Shop',\n",
       "     'pluralName': 'Bagel Shops',\n",
       "     'shortName': 'Bagels',\n",
       "     'icon': {'prefix': 'https://ss3.4sqi.net/img/categories_v2/food/bagels_',\n",
       "      'suffix': '.png'},\n",
       "     'primary': True}],\n",
       "   'delivery': {'id': '277435',\n",
       "    'url': 'https://www.seamless.com/menu/zuckers-bagels--smoked-fish-146-chambers-st-new-york/277435?affiliate=1131&utm_source=foursquare-affiliate-network&utm_medium=affiliate&utm_campaign=1131&utm_content=277435',\n",
       "    'provider': {'name': 'seamless',\n",
       "     'icon': {'prefix': 'https://fastly.4sqi.net/img/general/cap/',\n",
       "      'sizes': [40, 50],\n",
       "      'name': '/delivery_provider_seamless_20180129.png'}}},\n",
       "   'photos': {'count': 0, 'groups': []}},\n",
       "  'referralId': 'e-0-4a4baaf8f964a52091ac1fe3-13'},\n",
       " {'reasons': {'count': 0,\n",
       "   'items': [{'summary': 'This spot is popular',\n",
       "     'type': 'general',\n",
       "     'reasonName': 'globalInteractionReason'}]},\n",
       "  'venue': {'id': '4c3cb549b36ac9285d7a0486',\n",
       "   'name': 'Duane Park',\n",
       "   'location': {'address': 'Duane St',\n",
       "    'crossStreet': 'at Hudson St',\n",
       "    'lat': 40.71717275801168,\n",
       "    'lng': -74.00932869125117,\n",
       "    'labeledLatLngs': [{'label': 'display',\n",
       "      'lat': 40.71717275801168,\n",
       "      'lng': -74.00932869125117}],\n",
       "    'distance': 208,\n",
       "    'cc': 'US',\n",
       "    'city': 'New York',\n",
       "    'state': 'NY',\n",
       "    'country': 'United States',\n",
       "    'formattedAddress': ['Duane St (at Hudson St)',\n",
       "     'New York, NY',\n",
       "     'United States']},\n",
       "   'categories': [{'id': '4bf58dd8d48988d163941735',\n",
       "     'name': 'Park',\n",
       "     'pluralName': 'Parks',\n",
       "     'shortName': 'Park',\n",
       "     'icon': {'prefix': 'https://ss3.4sqi.net/img/categories_v2/parks_outdoors/park_',\n",
       "      'suffix': '.png'},\n",
       "     'primary': True}],\n",
       "   'photos': {'count': 0, 'groups': []}},\n",
       "  'referralId': 'e-0-4c3cb549b36ac9285d7a0486-14'},\n",
       " {'reasons': {'count': 0,\n",
       "   'items': [{'summary': 'This spot is popular',\n",
       "     'type': 'general',\n",
       "     'reasonName': 'globalInteractionReason'}]},\n",
       "  'venue': {'id': '49ccd495f964a52091591fe3',\n",
       "   'name': 'Kaffe 1668',\n",
       "   'location': {'address': '275 Greenwich St',\n",
       "    'crossStreet': 'at Murray St',\n",
       "    'lat': 40.71504512558996,\n",
       "    'lng': -74.0115087102821,\n",
       "    'labeledLatLngs': [{'label': 'display',\n",
       "      'lat': 40.71504512558996,\n",
       "      'lng': -74.0115087102821}],\n",
       "    'distance': 226,\n",
       "    'postalCode': '10007',\n",
       "    'cc': 'US',\n",
       "    'city': 'New York',\n",
       "    'state': 'NY',\n",
       "    'country': 'United States',\n",
       "    'formattedAddress': ['275 Greenwich St (at Murray St)',\n",
       "     'New York, NY 10007',\n",
       "     'United States']},\n",
       "   'categories': [{'id': '4bf58dd8d48988d1e0931735',\n",
       "     'name': 'Coffee Shop',\n",
       "     'pluralName': 'Coffee Shops',\n",
       "     'shortName': 'Coffee Shop',\n",
       "     'icon': {'prefix': 'https://ss3.4sqi.net/img/categories_v2/food/coffeeshop_',\n",
       "      'suffix': '.png'},\n",
       "     'primary': True}],\n",
       "   'photos': {'count': 0, 'groups': []},\n",
       "   'venuePage': {'id': '43231093'}},\n",
       "  'referralId': 'e-0-49ccd495f964a52091591fe3-15'},\n",
       " {'reasons': {'count': 0,\n",
       "   'items': [{'summary': 'This spot is popular',\n",
       "     'type': 'general',\n",
       "     'reasonName': 'globalInteractionReason'}]},\n",
       "  'venue': {'id': '4b8dbba4f964a5201e0b33e3',\n",
       "   'name': 'Church Street Boxing Gym',\n",
       "   'location': {'address': '25 Park Pl',\n",
       "    'crossStreet': 'btwn Church St. & Broadway',\n",
       "    'lat': 40.713353574017404,\n",
       "    'lng': -74.00906676030888,\n",
       "    'labeledLatLngs': [{'label': 'display',\n",
       "      'lat': 40.713353574017404,\n",
       "      'lng': -74.00906676030888}],\n",
       "    'distance': 221,\n",
       "    'postalCode': '10007',\n",
       "    'cc': 'US',\n",
       "    'city': 'New York',\n",
       "    'state': 'NY',\n",
       "    'country': 'United States',\n",
       "    'formattedAddress': ['25 Park Pl (btwn Church St. & Broadway)',\n",
       "     'New York, NY 10007',\n",
       "     'United States']},\n",
       "   'categories': [{'id': '52f2ab2ebcbc57f1066b8b47',\n",
       "     'name': 'Boxing Gym',\n",
       "     'pluralName': 'Boxing Gyms',\n",
       "     'shortName': 'Boxing Gym',\n",
       "     'icon': {'prefix': 'https://ss3.4sqi.net/img/categories_v2/building/gym_',\n",
       "      'suffix': '.png'},\n",
       "     'primary': True}],\n",
       "   'photos': {'count': 0, 'groups': []}},\n",
       "  'referralId': 'e-0-4b8dbba4f964a5201e0b33e3-16'},\n",
       " {'reasons': {'count': 0,\n",
       "   'items': [{'summary': 'This spot is popular',\n",
       "     'type': 'general',\n",
       "     'reasonName': 'globalInteractionReason'}]},\n",
       "  'venue': {'id': '4a9bcc2ff964a5203b3520e3',\n",
       "   'name': 'Washington Market Park',\n",
       "   'location': {'address': 'Greenwich St',\n",
       "    'crossStreet': 'at Reade St',\n",
       "    'lat': 40.71704598853704,\n",
       "    'lng': -74.01109457015991,\n",
       "    'labeledLatLngs': [{'label': 'display',\n",
       "      'lat': 40.71704598853704,\n",
       "      'lng': -74.01109457015991}],\n",
       "    'distance': 268,\n",
       "    'cc': 'US',\n",
       "    'city': 'New York',\n",
       "    'state': 'NY',\n",
       "    'country': 'United States',\n",
       "    'formattedAddress': ['Greenwich St (at Reade St)',\n",
       "     'New York, NY',\n",
       "     'United States']},\n",
       "   'categories': [{'id': '4bf58dd8d48988d1e7941735',\n",
       "     'name': 'Playground',\n",
       "     'pluralName': 'Playgrounds',\n",
       "     'shortName': 'Playground',\n",
       "     'icon': {'prefix': 'https://ss3.4sqi.net/img/categories_v2/parks_outdoors/playground_',\n",
       "      'suffix': '.png'},\n",
       "     'primary': True}],\n",
       "   'photos': {'count': 0, 'groups': []}},\n",
       "  'referralId': 'e-0-4a9bcc2ff964a5203b3520e3-17'},\n",
       " {'reasons': {'count': 0,\n",
       "   'items': [{'summary': 'This spot is popular',\n",
       "     'type': 'general',\n",
       "     'reasonName': 'globalInteractionReason'}]},\n",
       "  'venue': {'id': '4ea0afbf9adf1e334e4cc0e6',\n",
       "   'name': 'Laughing Man Coffee & Tea',\n",
       "   'location': {'address': '184 Duane St',\n",
       "    'crossStreet': 'btwn Greenwich & Hudson St.',\n",
       "    'lat': 40.7173944529165,\n",
       "    'lng': -74.01010324607125,\n",
       "    'labeledLatLngs': [{'label': 'display',\n",
       "      'lat': 40.7173944529165,\n",
       "      'lng': -74.01010324607125}],\n",
       "    'distance': 252,\n",
       "    'postalCode': '10013',\n",
       "    'cc': 'US',\n",
       "    'neighborhood': 'Tribeca',\n",
       "    'city': 'New York',\n",
       "    'state': 'NY',\n",
       "    'country': 'United States',\n",
       "    'formattedAddress': ['184 Duane St (btwn Greenwich & Hudson St.)',\n",
       "     'New York, NY 10013',\n",
       "     'United States']},\n",
       "   'categories': [{'id': '4bf58dd8d48988d1e0931735',\n",
       "     'name': 'Coffee Shop',\n",
       "     'pluralName': 'Coffee Shops',\n",
       "     'shortName': 'Coffee Shop',\n",
       "     'icon': {'prefix': 'https://ss3.4sqi.net/img/categories_v2/food/coffeeshop_',\n",
       "      'suffix': '.png'},\n",
       "     'primary': True}],\n",
       "   'photos': {'count': 0, 'groups': []},\n",
       "   'venuePage': {'id': '73541580'}},\n",
       "  'referralId': 'e-0-4ea0afbf9adf1e334e4cc0e6-18'},\n",
       " {'reasons': {'count': 0,\n",
       "   'items': [{'summary': 'This spot is popular',\n",
       "     'type': 'general',\n",
       "     'reasonName': 'globalInteractionReason'}]},\n",
       "  'venue': {'id': '4a8c4baef964a520960d20e3',\n",
       "   'name': 'Tribeca Greenmarket',\n",
       "   'location': {'address': 'Greenwich St',\n",
       "    'crossStreet': 'btw Chambers St & Duane St',\n",
       "    'lat': 40.716802033574126,\n",
       "    'lng': -74.01087999343872,\n",
       "    'labeledLatLngs': [{'label': 'display',\n",
       "      'lat': 40.716802033574126,\n",
       "      'lng': -74.01087999343872}],\n",
       "    'distance': 236,\n",
       "    'postalCode': '10013',\n",
       "    'cc': 'US',\n",
       "    'city': 'New York',\n",
       "    'state': 'NY',\n",
       "    'country': 'United States',\n",
       "    'formattedAddress': ['Greenwich St (btw Chambers St & Duane St)',\n",
       "     'New York, NY 10013',\n",
       "     'United States']},\n",
       "   'categories': [{'id': '4bf58dd8d48988d1fa941735',\n",
       "     'name': 'Farmers Market',\n",
       "     'pluralName': 'Farmers Markets',\n",
       "     'shortName': \"Farmer's Market\",\n",
       "     'icon': {'prefix': 'https://ss3.4sqi.net/img/categories_v2/shops/food_farmersmarket_',\n",
       "      'suffix': '.png'},\n",
       "     'primary': True}],\n",
       "   'photos': {'count': 0, 'groups': []}},\n",
       "  'referralId': 'e-0-4a8c4baef964a520960d20e3-19'},\n",
       " {'reasons': {'count': 0,\n",
       "   'items': [{'summary': 'This spot is popular',\n",
       "     'type': 'general',\n",
       "     'reasonName': 'globalInteractionReason'}]},\n",
       "  'venue': {'id': '59e391c3e1f22816d1b09cf5',\n",
       "   'name': 'The Frederick Hotel',\n",
       "   'location': {'address': '95 W Broadway',\n",
       "    'crossStreet': 'Chambers',\n",
       "    'lat': 40.715674574813974,\n",
       "    'lng': -74.00904661160892,\n",
       "    'labeledLatLngs': [{'label': 'display',\n",
       "      'lat': 40.715674574813974,\n",
       "      'lng': -74.00904661160892}],\n",
       "    'distance': 41,\n",
       "    'postalCode': '10007',\n",
       "    'cc': 'US',\n",
       "    'city': 'New York',\n",
       "    'state': 'NY',\n",
       "    'country': 'United States',\n",
       "    'formattedAddress': ['95 W Broadway (Chambers)',\n",
       "     'New York, NY 10007',\n",
       "     'United States']},\n",
       "   'categories': [{'id': '4bf58dd8d48988d1fa931735',\n",
       "     'name': 'Hotel',\n",
       "     'pluralName': 'Hotels',\n",
       "     'shortName': 'Hotel',\n",
       "     'icon': {'prefix': 'https://ss3.4sqi.net/img/categories_v2/travel/hotel_',\n",
       "      'suffix': '.png'},\n",
       "     'primary': True}],\n",
       "   'photos': {'count': 0, 'groups': []},\n",
       "   'venuePage': {'id': '580801139'}},\n",
       "  'referralId': 'e-0-59e391c3e1f22816d1b09cf5-20'},\n",
       " {'reasons': {'count': 0,\n",
       "   'items': [{'summary': 'This spot is popular',\n",
       "     'type': 'general',\n",
       "     'reasonName': 'globalInteractionReason'}]},\n",
       "  'venue': {'id': '58a253c830ecc66c9e5b40a0',\n",
       "   'name': 'The Class by Taryn Toomey',\n",
       "   'location': {'address': '22 Park Pl',\n",
       "    'lat': 40.71275251771485,\n",
       "    'lng': -74.00873355601571,\n",
       "    'labeledLatLngs': [{'label': 'display',\n",
       "      'lat': 40.71275251771485,\n",
       "      'lng': -74.00873355601571},\n",
       "     {'label': '?', 'lat': 40.712781, 'lng': -74.008548}],\n",
       "    'distance': 287,\n",
       "    'postalCode': '10007',\n",
       "    'cc': 'US',\n",
       "    'city': 'New York',\n",
       "    'state': 'NY',\n",
       "    'country': 'United States',\n",
       "    'formattedAddress': ['22 Park Pl', 'New York, NY 10007', 'United States']},\n",
       "   'categories': [{'id': '4bf58dd8d48988d175941735',\n",
       "     'name': 'Gym / Fitness Center',\n",
       "     'pluralName': 'Gyms or Fitness Centers',\n",
       "     'shortName': 'Gym / Fitness',\n",
       "     'icon': {'prefix': 'https://ss3.4sqi.net/img/categories_v2/building/gym_',\n",
       "      'suffix': '.png'},\n",
       "     'primary': True}],\n",
       "   'photos': {'count': 0, 'groups': []}},\n",
       "  'referralId': 'e-0-58a253c830ecc66c9e5b40a0-21'},\n",
       " {'reasons': {'count': 0,\n",
       "   'items': [{'summary': 'This spot is popular',\n",
       "     'type': 'general',\n",
       "     'reasonName': 'globalInteractionReason'}]},\n",
       "  'venue': {'id': '4a04ba93f964a52023721fe3',\n",
       "   'name': 'Barnes & Noble',\n",
       "   'location': {'address': '97 Warren St',\n",
       "    'crossStreet': 'at Greenwich St',\n",
       "    'lat': 40.715605333147145,\n",
       "    'lng': -74.01178633208771,\n",
       "    'labeledLatLngs': [{'label': 'display',\n",
       "      'lat': 40.715605333147145,\n",
       "      'lng': -74.01178633208771},\n",
       "     {'label': '?', 'lat': 40.716026, 'lng': -74.012839}],\n",
       "    'distance': 249,\n",
       "    'postalCode': '10007',\n",
       "    'cc': 'US',\n",
       "    'city': 'New York',\n",
       "    'state': 'NY',\n",
       "    'country': 'United States',\n",
       "    'formattedAddress': ['97 Warren St (at Greenwich St)',\n",
       "     'New York, NY 10007',\n",
       "     'United States']},\n",
       "   'categories': [{'id': '4bf58dd8d48988d114951735',\n",
       "     'name': 'Bookstore',\n",
       "     'pluralName': 'Bookstores',\n",
       "     'shortName': 'Bookstore',\n",
       "     'icon': {'prefix': 'https://ss3.4sqi.net/img/categories_v2/shops/bookstore_',\n",
       "      'suffix': '.png'},\n",
       "     'primary': True}],\n",
       "   'photos': {'count': 0, 'groups': []}},\n",
       "  'referralId': 'e-0-4a04ba93f964a52023721fe3-22'},\n",
       " {'reasons': {'count': 0,\n",
       "   'items': [{'summary': 'This spot is popular',\n",
       "     'type': 'general',\n",
       "     'reasonName': 'globalInteractionReason'}]},\n",
       "  'venue': {'id': '57c640ad498e74977f98372f',\n",
       "   'name': 'Four Seasons Hotel New York Downtown',\n",
       "   'location': {'address': '27 Barclay St',\n",
       "    'crossStreet': 'Broadway',\n",
       "    'lat': 40.71261246501983,\n",
       "    'lng': -74.00938032087628,\n",
       "    'labeledLatLngs': [{'label': 'display',\n",
       "      'lat': 40.71261246501983,\n",
       "      'lng': -74.00938032087628}],\n",
       "    'distance': 306,\n",
       "    'postalCode': '10007',\n",
       "    'cc': 'US',\n",
       "    'city': 'New York',\n",
       "    'state': 'NY',\n",
       "    'country': 'United States',\n",
       "    'formattedAddress': ['27 Barclay St (Broadway)',\n",
       "     'New York, NY 10007',\n",
       "     'United States']},\n",
       "   'categories': [{'id': '4bf58dd8d48988d1fa931735',\n",
       "     'name': 'Hotel',\n",
       "     'pluralName': 'Hotels',\n",
       "     'shortName': 'Hotel',\n",
       "     'icon': {'prefix': 'https://ss3.4sqi.net/img/categories_v2/travel/hotel_',\n",
       "      'suffix': '.png'},\n",
       "     'primary': True}],\n",
       "   'photos': {'count': 0, 'groups': []}},\n",
       "  'referralId': 'e-0-57c640ad498e74977f98372f-23'},\n",
       " {'reasons': {'count': 0,\n",
       "   'items': [{'summary': 'This spot is popular',\n",
       "     'type': 'general',\n",
       "     'reasonName': 'globalInteractionReason'}]},\n",
       "  'venue': {'id': '52001eed498e9ac16ca5e20b',\n",
       "   'name': 'CrossFit 212 TriBeCa',\n",
       "   'location': {'address': '281 Broadway',\n",
       "    'lat': 40.714537431170484,\n",
       "    'lng': -74.00599852611592,\n",
       "    'labeledLatLngs': [{'label': 'display',\n",
       "      'lat': 40.714537431170484,\n",
       "      'lng': -74.00599852611592}],\n",
       "    'distance': 256,\n",
       "    'postalCode': '10007',\n",
       "    'cc': 'US',\n",
       "    'city': 'New York',\n",
       "    'state': 'NY',\n",
       "    'country': 'United States',\n",
       "    'formattedAddress': ['281 Broadway',\n",
       "     'New York, NY 10007',\n",
       "     'United States']},\n",
       "   'categories': [{'id': '4bf58dd8d48988d176941735',\n",
       "     'name': 'Gym',\n",
       "     'pluralName': 'Gyms',\n",
       "     'shortName': 'Gym',\n",
       "     'icon': {'prefix': 'https://ss3.4sqi.net/img/categories_v2/building/gym_',\n",
       "      'suffix': '.png'},\n",
       "     'primary': True}],\n",
       "   'photos': {'count': 0, 'groups': []}},\n",
       "  'referralId': 'e-0-52001eed498e9ac16ca5e20b-24'},\n",
       " {'reasons': {'count': 0,\n",
       "   'items': [{'summary': 'This spot is popular',\n",
       "     'type': 'general',\n",
       "     'reasonName': 'globalInteractionReason'}]},\n",
       "  'venue': {'id': '4a9442e3f964a520f92020e3',\n",
       "   'name': 'African Burial Ground National Monument',\n",
       "   'location': {'address': '290 Broadway',\n",
       "    'lat': 40.71498975306652,\n",
       "    'lng': -74.00552975826278,\n",
       "    'labeledLatLngs': [{'label': 'display',\n",
       "      'lat': 40.71498975306652,\n",
       "      'lng': -74.00552975826278},\n",
       "     {'label': '?', 'lat': 40.715054, 'lng': -74.005385}],\n",
       "    'distance': 282,\n",
       "    'postalCode': '10007',\n",
       "    'cc': 'US',\n",
       "    'city': 'New York',\n",
       "    'state': 'NY',\n",
       "    'country': 'United States',\n",
       "    'formattedAddress': ['290 Broadway',\n",
       "     'New York, NY 10007',\n",
       "     'United States']},\n",
       "   'categories': [{'id': '4bf58dd8d48988d12d941735',\n",
       "     'name': 'Monument / Landmark',\n",
       "     'pluralName': 'Monuments / Landmarks',\n",
       "     'shortName': 'Landmark',\n",
       "     'icon': {'prefix': 'https://ss3.4sqi.net/img/categories_v2/building/government_monument_',\n",
       "      'suffix': '.png'},\n",
       "     'primary': True}],\n",
       "   'photos': {'count': 0, 'groups': []}},\n",
       "  'referralId': 'e-0-4a9442e3f964a520f92020e3-25'},\n",
       " {'reasons': {'count': 0,\n",
       "   'items': [{'summary': 'This spot is popular',\n",
       "     'type': 'general',\n",
       "     'reasonName': 'globalInteractionReason'}]},\n",
       "  'venue': {'id': '4f627061e4b05c1d57815977',\n",
       "   'name': 'Atera',\n",
       "   'location': {'address': '77 Worth St',\n",
       "    'crossStreet': 'btwn Broadway & Church St',\n",
       "    'lat': 40.71675176130724,\n",
       "    'lng': -74.00571150855457,\n",
       "    'labeledLatLngs': [{'label': 'display',\n",
       "      'lat': 40.71675176130724,\n",
       "      'lng': -74.00571150855457}],\n",
       "    'distance': 307,\n",
       "    'postalCode': '10013',\n",
       "    'cc': 'US',\n",
       "    'city': 'New York',\n",
       "    'state': 'NY',\n",
       "    'country': 'United States',\n",
       "    'formattedAddress': ['77 Worth St (btwn Broadway & Church St)',\n",
       "     'New York, NY 10013',\n",
       "     'United States']},\n",
       "   'categories': [{'id': '4bf58dd8d48988d1c2941735',\n",
       "     'name': 'Molecular Gastronomy Restaurant',\n",
       "     'pluralName': 'Molecular Gastronomy Restaurants',\n",
       "     'shortName': 'Molecular Gastronomy',\n",
       "     'icon': {'prefix': 'https://ss3.4sqi.net/img/categories_v2/food/moleculargastronomy_',\n",
       "      'suffix': '.png'},\n",
       "     'primary': True}],\n",
       "   'photos': {'count': 0, 'groups': []},\n",
       "   'venuePage': {'id': '93170064'}},\n",
       "  'referralId': 'e-0-4f627061e4b05c1d57815977-26'},\n",
       " {'reasons': {'count': 0,\n",
       "   'items': [{'summary': 'This spot is popular',\n",
       "     'type': 'general',\n",
       "     'reasonName': 'globalInteractionReason'}]},\n",
       "  'venue': {'id': '5ceeb56dc03635002ce7ab2a',\n",
       "   'name': 'sweetgreen',\n",
       "   'location': {'address': '125 Chambers St',\n",
       "    'lat': 40.715493,\n",
       "    'lng': -74.008951,\n",
       "    'labeledLatLngs': [{'label': 'display',\n",
       "      'lat': 40.715493,\n",
       "      'lng': -74.008951}],\n",
       "    'distance': 19,\n",
       "    'postalCode': '10007',\n",
       "    'cc': 'US',\n",
       "    'city': 'New York',\n",
       "    'state': 'NY',\n",
       "    'country': 'United States',\n",
       "    'formattedAddress': ['125 Chambers St',\n",
       "     'New York, NY 10007',\n",
       "     'United States']},\n",
       "   'categories': [{'id': '4bf58dd8d48988d1bd941735',\n",
       "     'name': 'Salad Place',\n",
       "     'pluralName': 'Salad Places',\n",
       "     'shortName': 'Salad',\n",
       "     'icon': {'prefix': 'https://ss3.4sqi.net/img/categories_v2/food/salad_',\n",
       "      'suffix': '.png'},\n",
       "     'primary': True}],\n",
       "   'delivery': {'id': '1226598',\n",
       "    'url': 'https://www.seamless.com/menu/sweetgreen-125-chambers-st-new-york/1226598?affiliate=1131&utm_source=foursquare-affiliate-network&utm_medium=affiliate&utm_campaign=1131&utm_content=1226598',\n",
       "    'provider': {'name': 'seamless',\n",
       "     'icon': {'prefix': 'https://fastly.4sqi.net/img/general/cap/',\n",
       "      'sizes': [40, 50],\n",
       "      'name': '/delivery_provider_seamless_20180129.png'}}},\n",
       "   'photos': {'count': 0, 'groups': []}},\n",
       "  'referralId': 'e-0-5ceeb56dc03635002ce7ab2a-27'},\n",
       " {'reasons': {'count': 0,\n",
       "   'items': [{'summary': 'This spot is popular',\n",
       "     'type': 'general',\n",
       "     'reasonName': 'globalInteractionReason'}]},\n",
       "  'venue': {'id': '4db5fbfe43a1369cb5dc2a1f',\n",
       "   'name': \"Maxwell's Bar & Restaurant\",\n",
       "   'location': {'address': '59 Reade St',\n",
       "    'crossStreet': 'at Broadway',\n",
       "    'lat': 40.71494392643706,\n",
       "    'lng': -74.00648461952706,\n",
       "    'labeledLatLngs': [{'label': 'display',\n",
       "      'lat': 40.71494392643706,\n",
       "      'lng': -74.00648461952706}],\n",
       "    'distance': 204,\n",
       "    'postalCode': '10007',\n",
       "    'cc': 'US',\n",
       "    'city': 'New York',\n",
       "    'state': 'NY',\n",
       "    'country': 'United States',\n",
       "    'formattedAddress': ['59 Reade St (at Broadway)',\n",
       "     'New York, NY 10007',\n",
       "     'United States']},\n",
       "   'categories': [{'id': '4bf58dd8d48988d116941735',\n",
       "     'name': 'Bar',\n",
       "     'pluralName': 'Bars',\n",
       "     'shortName': 'Bar',\n",
       "     'icon': {'prefix': 'https://ss3.4sqi.net/img/categories_v2/nightlife/pub_',\n",
       "      'suffix': '.png'},\n",
       "     'primary': True}],\n",
       "   'photos': {'count': 0, 'groups': []},\n",
       "   'venuePage': {'id': '45470725'}},\n",
       "  'referralId': 'e-0-4db5fbfe43a1369cb5dc2a1f-28'},\n",
       " {'reasons': {'count': 0,\n",
       "   'items': [{'summary': 'This spot is popular',\n",
       "     'type': 'general',\n",
       "     'reasonName': 'globalInteractionReason'}]},\n",
       "  'venue': {'id': '53373f26498e940581c90985',\n",
       "   'name': 'Gibney Dance Center Downtown',\n",
       "   'location': {'address': '280 Broadway',\n",
       "    'crossStreet': 'Chambers St',\n",
       "    'lat': 40.71392316324669,\n",
       "    'lng': -74.0056614920451,\n",
       "    'labeledLatLngs': [{'label': 'display',\n",
       "      'lat': 40.71392316324669,\n",
       "      'lng': -74.0056614920451}],\n",
       "    'distance': 311,\n",
       "    'postalCode': '10007',\n",
       "    'cc': 'US',\n",
       "    'city': 'New York',\n",
       "    'state': 'NY',\n",
       "    'country': 'United States',\n",
       "    'formattedAddress': ['280 Broadway (Chambers St)',\n",
       "     'New York, NY 10007',\n",
       "     'United States']},\n",
       "   'categories': [{'id': '4bf58dd8d48988d134941735',\n",
       "     'name': 'Dance Studio',\n",
       "     'pluralName': 'Dance Studios',\n",
       "     'shortName': 'Dance Studio',\n",
       "     'icon': {'prefix': 'https://ss3.4sqi.net/img/categories_v2/arts_entertainment/performingarts_dancestudio_',\n",
       "      'suffix': '.png'},\n",
       "     'primary': True}],\n",
       "   'photos': {'count': 0, 'groups': []}},\n",
       "  'referralId': 'e-0-53373f26498e940581c90985-29'}]"
      ]
     },
     "execution_count": 83,
     "metadata": {},
     "output_type": "execute_result"
    }
   ],
   "source": [
    "items = results['response']['groups'][0]['items']\n",
    "items"
   ]
  },
  {
   "cell_type": "markdown",
   "metadata": {
    "button": false,
    "new_sheet": false,
    "run_control": {
     "read_only": false
    }
   },
   "source": [
    "#### Process JSON and convert it to a clean dataframe"
   ]
  },
  {
   "cell_type": "code",
   "execution_count": 95,
   "metadata": {
    "button": false,
    "new_sheet": false,
    "run_control": {
     "read_only": false
    },
    "scrolled": false
   },
   "outputs": [
    {
     "name": "stderr",
     "output_type": "stream",
     "text": [
      "/home/apu/anaconda3/lib/python3.7/site-packages/ipykernel_launcher.py:1: FutureWarning: pandas.io.json.json_normalize is deprecated, use pandas.json_normalize instead\n",
      "  \"\"\"Entry point for launching an IPython kernel.\n"
     ]
    },
    {
     "data": {
      "text/html": [
       "<div>\n",
       "<style scoped>\n",
       "    .dataframe tbody tr th:only-of-type {\n",
       "        vertical-align: middle;\n",
       "    }\n",
       "\n",
       "    .dataframe tbody tr th {\n",
       "        vertical-align: top;\n",
       "    }\n",
       "\n",
       "    .dataframe thead th {\n",
       "        text-align: right;\n",
       "    }\n",
       "</style>\n",
       "<table border=\"1\" class=\"dataframe\">\n",
       "  <thead>\n",
       "    <tr style=\"text-align: right;\">\n",
       "      <th></th>\n",
       "      <th>name</th>\n",
       "      <th>categories</th>\n",
       "      <th>address</th>\n",
       "      <th>crossStreet</th>\n",
       "      <th>lat</th>\n",
       "      <th>lng</th>\n",
       "      <th>labeledLatLngs</th>\n",
       "      <th>distance</th>\n",
       "      <th>postalCode</th>\n",
       "      <th>cc</th>\n",
       "      <th>neighborhood</th>\n",
       "      <th>city</th>\n",
       "      <th>state</th>\n",
       "      <th>country</th>\n",
       "      <th>formattedAddress</th>\n",
       "      <th>id</th>\n",
       "    </tr>\n",
       "  </thead>\n",
       "  <tbody>\n",
       "    <tr>\n",
       "      <th>0</th>\n",
       "      <td>Korin</td>\n",
       "      <td>Furniture / Home Store</td>\n",
       "      <td>57 Warren St</td>\n",
       "      <td>Church St</td>\n",
       "      <td>40.714824</td>\n",
       "      <td>-74.009404</td>\n",
       "      <td>[{'label': 'display', 'lat': 40.71482437714839, 'lng': -74.00940425461492}, {'label': '?', 'lat': 40.714727, 'lng': -74.009399}]</td>\n",
       "      <td>73</td>\n",
       "      <td>10007</td>\n",
       "      <td>US</td>\n",
       "      <td>Tribeca</td>\n",
       "      <td>New York</td>\n",
       "      <td>NY</td>\n",
       "      <td>United States</td>\n",
       "      <td>[57 Warren St (Church St), New York, NY 10007, United States]</td>\n",
       "      <td>4af5d65ff964a52091fd21e3</td>\n",
       "    </tr>\n",
       "    <tr>\n",
       "      <th>1</th>\n",
       "      <td>Los Tacos No. 1</td>\n",
       "      <td>Taco Place</td>\n",
       "      <td>136 Church St</td>\n",
       "      <td>NaN</td>\n",
       "      <td>40.714267</td>\n",
       "      <td>-74.008756</td>\n",
       "      <td>[{'label': 'display', 'lat': 40.714267, 'lng': -74.008756}]</td>\n",
       "      <td>119</td>\n",
       "      <td>10007</td>\n",
       "      <td>US</td>\n",
       "      <td>NaN</td>\n",
       "      <td>New York</td>\n",
       "      <td>NY</td>\n",
       "      <td>United States</td>\n",
       "      <td>[136 Church St, New York, NY 10007, United States]</td>\n",
       "      <td>5d5f24ec09484500079aee00</td>\n",
       "    </tr>\n",
       "    <tr>\n",
       "      <th>2</th>\n",
       "      <td>Takahachi Bakery</td>\n",
       "      <td>Bakery</td>\n",
       "      <td>25 Murray St</td>\n",
       "      <td>at Church St</td>\n",
       "      <td>40.713653</td>\n",
       "      <td>-74.008804</td>\n",
       "      <td>[{'label': 'display', 'lat': 40.713652845301894, 'lng': -74.0088038953017}, {'label': '?', 'lat': 40.713716, 'lng': -74.008443}]</td>\n",
       "      <td>187</td>\n",
       "      <td>10007</td>\n",
       "      <td>US</td>\n",
       "      <td>NaN</td>\n",
       "      <td>New York</td>\n",
       "      <td>NY</td>\n",
       "      <td>United States</td>\n",
       "      <td>[25 Murray St (at Church St), New York, NY 10007, United States]</td>\n",
       "      <td>4c154c9a77cea593c401d260</td>\n",
       "    </tr>\n",
       "    <tr>\n",
       "      <th>3</th>\n",
       "      <td>Chambers Street Wines</td>\n",
       "      <td>Wine Shop</td>\n",
       "      <td>148 Chambers St</td>\n",
       "      <td>btwn West Broadway &amp; Hudson St</td>\n",
       "      <td>40.715773</td>\n",
       "      <td>-74.009718</td>\n",
       "      <td>[{'label': 'display', 'lat': 40.715773063928374, 'lng': -74.00971823312332}, {'label': '?', 'lat': 40.715696, 'lng': -74.00988}]</td>\n",
       "      <td>88</td>\n",
       "      <td>10007</td>\n",
       "      <td>US</td>\n",
       "      <td>NaN</td>\n",
       "      <td>New York</td>\n",
       "      <td>NY</td>\n",
       "      <td>United States</td>\n",
       "      <td>[148 Chambers St (btwn West Broadway &amp; Hudson St), New York, NY 10007, United States]</td>\n",
       "      <td>4adcf23cf964a520cc6221e3</td>\n",
       "    </tr>\n",
       "    <tr>\n",
       "      <th>4</th>\n",
       "      <td>Juice Press</td>\n",
       "      <td>Vegetarian / Vegan Restaurant</td>\n",
       "      <td>83 Murray St</td>\n",
       "      <td>btwn Greenwich St &amp; W Broadway</td>\n",
       "      <td>40.714788</td>\n",
       "      <td>-74.011132</td>\n",
       "      <td>[{'label': 'display', 'lat': 40.71478769908051, 'lng': -74.0111317502157}]</td>\n",
       "      <td>202</td>\n",
       "      <td>10007</td>\n",
       "      <td>US</td>\n",
       "      <td>NaN</td>\n",
       "      <td>New York</td>\n",
       "      <td>NY</td>\n",
       "      <td>United States</td>\n",
       "      <td>[83 Murray St (btwn Greenwich St &amp; W Broadway), New York, NY 10007, United States]</td>\n",
       "      <td>54148bc6498ea7bb8c05b70a</td>\n",
       "    </tr>\n",
       "    <tr>\n",
       "      <th>5</th>\n",
       "      <td>Takahachi</td>\n",
       "      <td>Sushi Restaurant</td>\n",
       "      <td>145 Duane St</td>\n",
       "      <td>btwn W Broadway &amp; Church St</td>\n",
       "      <td>40.716526</td>\n",
       "      <td>-74.008101</td>\n",
       "      <td>[{'label': 'display', 'lat': 40.71652647412374, 'lng': -74.00810108466207}, {'label': '?', 'lat': 40.716508, 'lng': -74.007989}]</td>\n",
       "      <td>146</td>\n",
       "      <td>10013</td>\n",
       "      <td>US</td>\n",
       "      <td>NaN</td>\n",
       "      <td>New York</td>\n",
       "      <td>NY</td>\n",
       "      <td>United States</td>\n",
       "      <td>[145 Duane St (btwn W Broadway &amp; Church St), New York, NY 10013, United States]</td>\n",
       "      <td>4a8f2f39f964a520471420e3</td>\n",
       "    </tr>\n",
       "    <tr>\n",
       "      <th>6</th>\n",
       "      <td>Equinox Tribeca</td>\n",
       "      <td>Gym</td>\n",
       "      <td>54 Murray St</td>\n",
       "      <td>at W Broadway</td>\n",
       "      <td>40.714099</td>\n",
       "      <td>-74.009686</td>\n",
       "      <td>[{'label': 'display', 'lat': 40.71409860726041, 'lng': -74.0096857179283}]</td>\n",
       "      <td>154</td>\n",
       "      <td>10007</td>\n",
       "      <td>US</td>\n",
       "      <td>NaN</td>\n",
       "      <td>New York</td>\n",
       "      <td>NY</td>\n",
       "      <td>United States</td>\n",
       "      <td>[54 Murray St (at W Broadway), New York, NY 10007, United States]</td>\n",
       "      <td>4a6e331af964a52031d41fe3</td>\n",
       "    </tr>\n",
       "    <tr>\n",
       "      <th>7</th>\n",
       "      <td>Whole Foods Market</td>\n",
       "      <td>Grocery Store</td>\n",
       "      <td>270 Greenwich Street</td>\n",
       "      <td>at Warren St</td>\n",
       "      <td>40.715579</td>\n",
       "      <td>-74.011368</td>\n",
       "      <td>[{'label': 'display', 'lat': 40.715579155420606, 'lng': -74.01136823958119}]</td>\n",
       "      <td>214</td>\n",
       "      <td>10007</td>\n",
       "      <td>US</td>\n",
       "      <td>Tribeca</td>\n",
       "      <td>New York</td>\n",
       "      <td>NY</td>\n",
       "      <td>United States</td>\n",
       "      <td>[270 Greenwich Street (at Warren St), New York, NY 10007, United States]</td>\n",
       "      <td>49bc3b0af964a52020541fe3</td>\n",
       "    </tr>\n",
       "    <tr>\n",
       "      <th>8</th>\n",
       "      <td>Exceed Physical Culture</td>\n",
       "      <td>Gym / Fitness Center</td>\n",
       "      <td>97 Reade St</td>\n",
       "      <td>bet W Broadway &amp; Church St</td>\n",
       "      <td>40.715629</td>\n",
       "      <td>-74.007992</td>\n",
       "      <td>[{'label': 'display', 'lat': 40.7156286200256, 'lng': -74.0079922583853}, {'label': '?', 'lat': 40.715589, 'lng': -74.008105}]</td>\n",
       "      <td>79</td>\n",
       "      <td>10013</td>\n",
       "      <td>US</td>\n",
       "      <td>Tribeca</td>\n",
       "      <td>New York</td>\n",
       "      <td>NY</td>\n",
       "      <td>United States</td>\n",
       "      <td>[97 Reade St (bet W Broadway &amp; Church St), New York, NY 10013, United States]</td>\n",
       "      <td>53910ac3498e57a5dc0eb160</td>\n",
       "    </tr>\n",
       "    <tr>\n",
       "      <th>9</th>\n",
       "      <td>Nish Nūsh</td>\n",
       "      <td>Falafel Restaurant</td>\n",
       "      <td>88 Reade St</td>\n",
       "      <td>at Church St</td>\n",
       "      <td>40.715537</td>\n",
       "      <td>-74.007725</td>\n",
       "      <td>[{'label': 'display', 'lat': 40.71553710116416, 'lng': -74.00772452925565}, {'label': '?', 'lat': 40.715615, 'lng': -74.00773}]</td>\n",
       "      <td>97</td>\n",
       "      <td>10013</td>\n",
       "      <td>US</td>\n",
       "      <td>NaN</td>\n",
       "      <td>New York</td>\n",
       "      <td>NY</td>\n",
       "      <td>United States</td>\n",
       "      <td>[88 Reade St (at Church St), New York, NY 10013, United States]</td>\n",
       "      <td>50ba9119e4b071a4bae6dc10</td>\n",
       "    </tr>\n",
       "  </tbody>\n",
       "</table>\n",
       "</div>"
      ],
      "text/plain": [
       "                      name                     categories  \\\n",
       "0  Korin                    Furniture / Home Store          \n",
       "1  Los Tacos No. 1          Taco Place                      \n",
       "2  Takahachi Bakery         Bakery                          \n",
       "3  Chambers Street Wines    Wine Shop                       \n",
       "4  Juice Press              Vegetarian / Vegan Restaurant   \n",
       "5  Takahachi                Sushi Restaurant                \n",
       "6  Equinox Tribeca          Gym                             \n",
       "7  Whole Foods Market       Grocery Store                   \n",
       "8  Exceed Physical Culture  Gym / Fitness Center            \n",
       "9  Nish Nūsh                Falafel Restaurant              \n",
       "\n",
       "                address                     crossStreet        lat        lng  \\\n",
       "0  57 Warren St          Church St                       40.714824 -74.009404   \n",
       "1  136 Church St         NaN                             40.714267 -74.008756   \n",
       "2  25 Murray St          at Church St                    40.713653 -74.008804   \n",
       "3  148 Chambers St       btwn West Broadway & Hudson St  40.715773 -74.009718   \n",
       "4  83 Murray St          btwn Greenwich St & W Broadway  40.714788 -74.011132   \n",
       "5  145 Duane St          btwn W Broadway & Church St     40.716526 -74.008101   \n",
       "6  54 Murray St          at W Broadway                   40.714099 -74.009686   \n",
       "7  270 Greenwich Street  at Warren St                    40.715579 -74.011368   \n",
       "8  97 Reade St           bet W Broadway & Church St      40.715629 -74.007992   \n",
       "9  88 Reade St           at Church St                    40.715537 -74.007725   \n",
       "\n",
       "                                                                                                                     labeledLatLngs  \\\n",
       "0  [{'label': 'display', 'lat': 40.71482437714839, 'lng': -74.00940425461492}, {'label': '?', 'lat': 40.714727, 'lng': -74.009399}]   \n",
       "1  [{'label': 'display', 'lat': 40.714267, 'lng': -74.008756}]                                                                        \n",
       "2  [{'label': 'display', 'lat': 40.713652845301894, 'lng': -74.0088038953017}, {'label': '?', 'lat': 40.713716, 'lng': -74.008443}]   \n",
       "3  [{'label': 'display', 'lat': 40.715773063928374, 'lng': -74.00971823312332}, {'label': '?', 'lat': 40.715696, 'lng': -74.00988}]   \n",
       "4  [{'label': 'display', 'lat': 40.71478769908051, 'lng': -74.0111317502157}]                                                         \n",
       "5  [{'label': 'display', 'lat': 40.71652647412374, 'lng': -74.00810108466207}, {'label': '?', 'lat': 40.716508, 'lng': -74.007989}]   \n",
       "6  [{'label': 'display', 'lat': 40.71409860726041, 'lng': -74.0096857179283}]                                                         \n",
       "7  [{'label': 'display', 'lat': 40.715579155420606, 'lng': -74.01136823958119}]                                                       \n",
       "8  [{'label': 'display', 'lat': 40.7156286200256, 'lng': -74.0079922583853}, {'label': '?', 'lat': 40.715589, 'lng': -74.008105}]     \n",
       "9  [{'label': 'display', 'lat': 40.71553710116416, 'lng': -74.00772452925565}, {'label': '?', 'lat': 40.715615, 'lng': -74.00773}]    \n",
       "\n",
       "   distance postalCode  cc neighborhood      city state        country  \\\n",
       "0  73        10007      US  Tribeca      New York  NY    United States   \n",
       "1  119       10007      US  NaN          New York  NY    United States   \n",
       "2  187       10007      US  NaN          New York  NY    United States   \n",
       "3  88        10007      US  NaN          New York  NY    United States   \n",
       "4  202       10007      US  NaN          New York  NY    United States   \n",
       "5  146       10013      US  NaN          New York  NY    United States   \n",
       "6  154       10007      US  NaN          New York  NY    United States   \n",
       "7  214       10007      US  Tribeca      New York  NY    United States   \n",
       "8  79        10013      US  Tribeca      New York  NY    United States   \n",
       "9  97        10013      US  NaN          New York  NY    United States   \n",
       "\n",
       "                                                                        formattedAddress  \\\n",
       "0  [57 Warren St (Church St), New York, NY 10007, United States]                           \n",
       "1  [136 Church St, New York, NY 10007, United States]                                      \n",
       "2  [25 Murray St (at Church St), New York, NY 10007, United States]                        \n",
       "3  [148 Chambers St (btwn West Broadway & Hudson St), New York, NY 10007, United States]   \n",
       "4  [83 Murray St (btwn Greenwich St & W Broadway), New York, NY 10007, United States]      \n",
       "5  [145 Duane St (btwn W Broadway & Church St), New York, NY 10013, United States]         \n",
       "6  [54 Murray St (at W Broadway), New York, NY 10007, United States]                       \n",
       "7  [270 Greenwich Street (at Warren St), New York, NY 10007, United States]                \n",
       "8  [97 Reade St (bet W Broadway & Church St), New York, NY 10013, United States]           \n",
       "9  [88 Reade St (at Church St), New York, NY 10013, United States]                         \n",
       "\n",
       "                         id  \n",
       "0  4af5d65ff964a52091fd21e3  \n",
       "1  5d5f24ec09484500079aee00  \n",
       "2  4c154c9a77cea593c401d260  \n",
       "3  4adcf23cf964a520cc6221e3  \n",
       "4  54148bc6498ea7bb8c05b70a  \n",
       "5  4a8f2f39f964a520471420e3  \n",
       "6  4a6e331af964a52031d41fe3  \n",
       "7  49bc3b0af964a52020541fe3  \n",
       "8  53910ac3498e57a5dc0eb160  \n",
       "9  50ba9119e4b071a4bae6dc10  "
      ]
     },
     "execution_count": 95,
     "metadata": {},
     "output_type": "execute_result"
    }
   ],
   "source": [
    "dataframe = json_normalize(items) # flatten JSON\n",
    "\n",
    "# filter columns\n",
    "filtered_columns = ['venue.name', 'venue.categories'] + [col for col in dataframe.columns if col.startswith('venue.location.')] + ['venue.id']\n",
    "dataframe_filtered = dataframe.loc[:, filtered_columns]\n",
    "\n",
    "# filter the category for each row\n",
    "dataframe_filtered['venue.categories'] = dataframe_filtered.apply(get_category_type, axis=1)\n",
    "\n",
    "# clean columns\n",
    "dataframe_filtered.columns = [col.split('.')[-1] for col in dataframe_filtered.columns]\n",
    "\n",
    "dataframe_filtered.head(10)"
   ]
  },
  {
   "cell_type": "markdown",
   "metadata": {
    "button": false,
    "new_sheet": false,
    "run_control": {
     "read_only": false
    }
   },
   "source": [
    "#### Let's visualize these items on the map around our location"
   ]
  },
  {
   "cell_type": "code",
   "execution_count": 96,
   "metadata": {
    "button": false,
    "new_sheet": false,
    "run_control": {
     "read_only": false
    }
   },
   "outputs": [
    {
     "data": {
      "text/html": [
       "<div style=\"width:100%;\"><div style=\"position:relative;width:100%;height:0;padding-bottom:60%;\"><iframe src=\"about:blank\" style=\"position:absolute;width:100%;height:100%;left:0;top:0;border:none !important;\" data-html=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 onload=\"this.contentDocument.open();this.contentDocument.write(atob(this.getAttribute('data-html')));this.contentDocument.close();\" allowfullscreen webkitallowfullscreen mozallowfullscreen></iframe></div></div>"
      ],
      "text/plain": [
       "<folium.folium.Map at 0x7fc98389f4e0>"
      ]
     },
     "execution_count": 96,
     "metadata": {},
     "output_type": "execute_result"
    }
   ],
   "source": [
    "venues_map = folium.Map(location=[latitude, longitude], zoom_start=15) # generate map centred around Ecco\n",
    "\n",
    "\n",
    "# add Ecco as a red circle mark\n",
    "folium.features.CircleMarker(\n",
    "    [latitude, longitude],\n",
    "    radius=10,\n",
    "    popup='Ecco',\n",
    "    fill=True,\n",
    "    color='red',\n",
    "    fill_color='red',\n",
    "    fill_opacity=0.6\n",
    "    ).add_to(venues_map)\n",
    "\n",
    "\n",
    "# add popular spots to the map as blue circle markers\n",
    "for lat, lng, label in zip(dataframe_filtered.lat, dataframe_filtered.lng, dataframe_filtered.categories):\n",
    "    folium.features.CircleMarker(\n",
    "        [lat, lng],\n",
    "        radius=5,\n",
    "        popup=label,\n",
    "        fill=True,\n",
    "        color='blue',\n",
    "        fill_color='blue',\n",
    "        fill_opacity=0.6\n",
    "        ).add_to(venues_map)\n",
    "\n",
    "# display map\n",
    "venues_map"
   ]
  },
  {
   "cell_type": "markdown",
   "metadata": {
    "button": false,
    "new_sheet": false,
    "run_control": {
     "read_only": false
    }
   },
   "source": [
    "   "
   ]
  },
  {
   "cell_type": "markdown",
   "metadata": {
    "button": false,
    "new_sheet": false,
    "run_control": {
     "read_only": false
    }
   },
   "source": [
    "<a id=\"item5\"></a>"
   ]
  },
  {
   "cell_type": "markdown",
   "metadata": {
    "button": false,
    "new_sheet": false,
    "run_control": {
     "read_only": false
    }
   },
   "source": [
    "## 5. Explore Trending Venues\n",
    "> `https://api.foursquare.com/v2/venues/`**trending**`?client_id=`**CLIENT_ID**`&client_secret=`**CLIENT_SECRET**`&ll=`**LATITUDE**`,`**LONGITUDE**`&v=`**VERSION**"
   ]
  },
  {
   "cell_type": "markdown",
   "metadata": {
    "button": false,
    "new_sheet": false,
    "run_control": {
     "read_only": false
    }
   },
   "source": [
    "#### Now, instead of simply exploring the area around Ecco, you are interested in knowing the venues that are trending at the time you are done with your lunch, meaning the places with the highest foot traffic. So let's do that and get the trending venues around Ecco."
   ]
  },
  {
   "cell_type": "code",
   "execution_count": 97,
   "metadata": {
    "button": false,
    "new_sheet": false,
    "run_control": {
     "read_only": false
    }
   },
   "outputs": [
    {
     "data": {
      "text/plain": [
       "{'meta': {'code': 200, 'requestId': '5e98de78660a9f001b4f2ec9'},\n",
       " 'response': {'venues': []}}"
      ]
     },
     "execution_count": 97,
     "metadata": {},
     "output_type": "execute_result"
    }
   ],
   "source": [
    "# define URL\n",
    "url = 'https://api.foursquare.com/v2/venues/trending?client_id={}&client_secret={}&ll={},{}&v={}'.format(CLIENT_ID, CLIENT_SECRET, latitude, longitude, VERSION)\n",
    "\n",
    "# send GET request and get trending venues\n",
    "results = requests.get(url).json()\n",
    "results"
   ]
  },
  {
   "cell_type": "markdown",
   "metadata": {
    "button": false,
    "new_sheet": false,
    "run_control": {
     "read_only": false
    }
   },
   "source": [
    "### Check if any venues are trending at this time"
   ]
  },
  {
   "cell_type": "code",
   "execution_count": 99,
   "metadata": {
    "button": false,
    "new_sheet": false,
    "run_control": {
     "read_only": false
    }
   },
   "outputs": [],
   "source": [
    "if len(results['response']['venues']) == 0:\n",
    "    trending_venues_df = 'No trending venues are available at the moment!'\n",
    "    \n",
    "else:\n",
    "    trending_venues = results['response']['venues']\n",
    "    trending_venues_df = json_normalize(trending_venues)\n",
    "\n",
    "    # filter columns\n",
    "    columns_filtered = ['name', 'categories'] + ['location.distance', 'location.city', 'location.postalCode', 'location.state', 'location.country', 'location.lat', 'location.lng']\n",
    "    trending_venues_df = trending_venues_df.loc[:, columns_filtered]\n",
    "\n",
    "    # filter the category for each row\n",
    "    trending_venues_df['categories'] = trending_venues_df.apply(get_category_type, axis=1)"
   ]
  },
  {
   "cell_type": "code",
   "execution_count": 100,
   "metadata": {
    "button": false,
    "new_sheet": false,
    "run_control": {
     "read_only": false
    }
   },
   "outputs": [
    {
     "data": {
      "text/plain": [
       "'No trending venues are available at the moment!'"
      ]
     },
     "execution_count": 100,
     "metadata": {},
     "output_type": "execute_result"
    }
   ],
   "source": [
    "# display trending venues\n",
    "trending_venues_df"
   ]
  },
  {
   "cell_type": "markdown",
   "metadata": {
    "button": false,
    "new_sheet": false,
    "run_control": {
     "read_only": false
    }
   },
   "source": [
    "Now, depending on when you run the above code, you might get different venues since the venues with the highest foot traffic are fetched live. "
   ]
  },
  {
   "cell_type": "markdown",
   "metadata": {
    "button": false,
    "new_sheet": false,
    "run_control": {
     "read_only": false
    }
   },
   "source": [
    "### Visualize trending venues"
   ]
  },
  {
   "cell_type": "code",
   "execution_count": 101,
   "metadata": {
    "button": false,
    "new_sheet": false,
    "run_control": {
     "read_only": false
    }
   },
   "outputs": [],
   "source": [
    "if len(results['response']['venues']) == 0:\n",
    "    venues_map = 'Cannot generate visual as no trending venues are available at the moment!'\n",
    "\n",
    "else:\n",
    "    venues_map = folium.Map(location=[latitude, longitude], zoom_start=15) # generate map centred around Ecco\n",
    "\n",
    "\n",
    "    # add Ecco as a red circle mark\n",
    "    folium.features.CircleMarker(\n",
    "        [latitude, longitude],\n",
    "        radius=10,\n",
    "        popup='Ecco',\n",
    "        fill=True,\n",
    "        color='red',\n",
    "        fill_color='red',\n",
    "        fill_opacity=0.6\n",
    "    ).add_to(venues_map)\n",
    "\n",
    "\n",
    "    # add the trending venues as blue circle markers\n",
    "    for lat, lng, label in zip(trending_venues_df['location.lat'], trending_venues_df['location.lng'], trending_venues_df['name']):\n",
    "        folium.features.CircleMarker(\n",
    "            [lat, lng],\n",
    "            radius=5,\n",
    "            poup=label,\n",
    "            fill=True,\n",
    "            color='blue',\n",
    "            fill_color='blue',\n",
    "            fill_opacity=0.6\n",
    "        ).add_to(venues_map)"
   ]
  },
  {
   "cell_type": "code",
   "execution_count": 102,
   "metadata": {
    "button": false,
    "new_sheet": false,
    "run_control": {
     "read_only": false
    },
    "scrolled": false
   },
   "outputs": [
    {
     "data": {
      "text/plain": [
       "'Cannot generate visual as no trending venues are available at the moment!'"
      ]
     },
     "execution_count": 102,
     "metadata": {},
     "output_type": "execute_result"
    }
   ],
   "source": [
    "# display map\n",
    "venues_map"
   ]
  },
  {
   "cell_type": "markdown",
   "metadata": {
    "button": false,
    "new_sheet": false,
    "run_control": {
     "read_only": false
    }
   },
   "source": [
    "<a id=\"item6\"></a>"
   ]
  },
  {
   "cell_type": "markdown",
   "metadata": {
    "button": false,
    "new_sheet": false,
    "run_control": {
     "read_only": false
    }
   },
   "source": [
    "   "
   ]
  },
  {
   "cell_type": "markdown",
   "metadata": {
    "button": false,
    "new_sheet": false,
    "run_control": {
     "read_only": false
    }
   },
   "source": [
    "### Thank you for completing this lab!\n",
    "\n",
    "This notebook was created by [Alex Aklson](https://www.linkedin.com/in/aklson/). I hope you found this lab interesting and educational. Feel free to contact me if you have any questions!"
   ]
  },
  {
   "cell_type": "markdown",
   "metadata": {
    "button": false,
    "new_sheet": false,
    "run_control": {
     "read_only": false
    }
   },
   "source": [
    "This notebook is part of a course on **Coursera** called *Applied Data Science Capstone*. If you accessed this notebook outside the course, you can take this course online by clicking [here](http://cocl.us/DP0701EN_Coursera_Week2_LAB1)."
   ]
  },
  {
   "cell_type": "markdown",
   "metadata": {
    "button": false,
    "new_sheet": false,
    "run_control": {
     "read_only": false
    }
   },
   "source": [
    "<hr>\n",
    "Copyright &copy; 2018 [Cognitive Class](https://cognitiveclass.ai/?utm_source=bducopyrightlink&utm_medium=dswb&utm_campaign=bdu). This notebook and its source code are released under the terms of the [MIT License](https://bigdatauniversity.com/mit-license/)."
   ]
  }
 ],
 "metadata": {
  "kernelspec": {
   "display_name": "Python 3",
   "language": "python",
   "name": "python3"
  },
  "language_info": {
   "codemirror_mode": {
    "name": "ipython",
    "version": 3
   },
   "file_extension": ".py",
   "mimetype": "text/x-python",
   "name": "python",
   "nbconvert_exporter": "python",
   "pygments_lexer": "ipython3",
   "version": "3.7.3"
  },
  "widgets": {
   "state": {},
   "version": "1.1.2"
  }
 },
 "nbformat": 4,
 "nbformat_minor": 2
}
